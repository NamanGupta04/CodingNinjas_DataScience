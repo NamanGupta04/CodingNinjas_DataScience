{
 "cells": [
  {
   "cell_type": "code",
   "execution_count": 2,
   "id": "bd99a2ff",
   "metadata": {},
   "outputs": [
    {
     "name": "stdout",
     "output_type": "stream",
     "text": [
      "this is the best \n",
      "this\n",
      "is\n",
      "the\n",
      "best\n"
     ]
    }
   ],
   "source": [
    "s=input()\n",
    "def printKFreqWords(s,k):\n",
    "    words=s.split()\n",
    "    d={}\n",
    "    for w in words:\n",
    "        d[w]=d.get(w,0)+1\n",
    "    for w in d:\n",
    "        if d[w]==k:\n",
    "            print(w)\n",
    "\n",
    "printKFreqWords(s,1)"
   ]
  },
  {
   "cell_type": "code",
   "execution_count": 7,
   "id": "1cb55a2f",
   "metadata": {},
   "outputs": [
    {
     "name": "stdout",
     "output_type": "stream",
     "text": [
      "{1, 2, 3, 4, 5}\n"
     ]
    },
    {
     "data": {
      "text/plain": [
       "15"
      ]
     },
     "execution_count": 7,
     "metadata": {},
     "output_type": "execute_result"
    }
   ],
   "source": [
    "def sumUnique(l):\n",
    "    s=set()\n",
    "    for i in l:\n",
    "        s.add(i)\n",
    "    print(s)\n",
    "    sum=0\n",
    "    for i in s:\n",
    "        sum=sum+i\n",
    "    return sum\n",
    "\n",
    "sumUnique([1,2,3,4,3,4,2,1,5,5])"
   ]
  },
  {
   "cell_type": "markdown",
   "id": "b46a182c",
   "metadata": {},
   "source": [
    "#### Q.You are given an array of integers that contain numbers in random order. Write a program to find and return the number which occurs the maximum times in the given input.\n",
    "If two or more elements contend for the maximum frequency, return the element which occurs in the array first."
   ]
  },
  {
   "cell_type": "code",
   "execution_count": 6,
   "id": "2bce0d1e",
   "metadata": {},
   "outputs": [
    {
     "name": "stdout",
     "output_type": "stream",
     "text": [
      "4\n",
      "1 2 2 1\n",
      "1\n"
     ]
    }
   ],
   "source": [
    "N=int(input())\n",
    "ArrN=[int(i) for i in input().split()]\n",
    "d={}\n",
    "for num in ArrN:\n",
    "    d[num]=d.get(num,0)+1\n",
    "v=list(d.values())\n",
    "k=list(d.keys())\n",
    "print(k[v.index(max(v))])"
   ]
  },
  {
   "cell_type": "code",
   "execution_count": null,
   "id": "8eaccbd4",
   "metadata": {},
   "outputs": [],
   "source": []
  },
  {
   "cell_type": "code",
   "execution_count": 10,
   "id": "c08c268c",
   "metadata": {},
   "outputs": [
    {
     "name": "stdout",
     "output_type": "stream",
     "text": [
      "3\n",
      "100 184 100\n"
     ]
    },
    {
     "data": {
      "text/plain": [
       "2"
      ]
     },
     "execution_count": 10,
     "metadata": {},
     "output_type": "execute_result"
    }
   ],
   "source": [
    "def max_distance(arr,n):\n",
    "    n = len(arr)\n",
    "    max_d = -1\n",
    "    for i in range(n - 1):\n",
    "        for j in range(i + 1, n):\n",
    "            if arr[i] == arr[j]:\n",
    "                temp = abs(j - i)\n",
    "                max_d = max(max_d, temp)\n",
    "    return max_d\n",
    "\n",
    "n=int(input())\n",
    "arr=[int(i) for i in input().split()]\n",
    "max_distance(arr,n)"
   ]
  },
  {
   "cell_type": "code",
   "execution_count": 8,
   "id": "60ef0041",
   "metadata": {},
   "outputs": [
    {
     "name": "stdout",
     "output_type": "stream",
     "text": [
      "Maximum distance between two occurrences of same element in array: 5\n"
     ]
    }
   ],
   "source": [
    "\n",
    "def max_distance(arr):\n",
    "    n = len(arr)\n",
    "    max_d = -1\n",
    "    for i in range(n - 1):\n",
    "        for j in range(i + 1, n):\n",
    "            if arr[i] == arr[j]:\n",
    "                temp = abs(j - i)\n",
    "                max_d = max(max_d, temp)\n",
    "    return max_d\n",
    " \n",
    "# Driver code\n",
    "arr = [1, 2, 4, 1, 3, 4, 2, 5, 6, 5]\n",
    "print(\"Maximum distance between two occurrences of same element in array:\", max_distance(arr))"
   ]
  },
  {
   "cell_type": "code",
   "execution_count": null,
   "id": "55ecc222",
   "metadata": {},
   "outputs": [],
   "source": []
  },
  {
   "cell_type": "code",
   "execution_count": 14,
   "id": "b4921619",
   "metadata": {},
   "outputs": [
    {
     "name": "stdout",
     "output_type": "stream",
     "text": [
      "5 5\n"
     ]
    }
   ],
   "source": [
    "s = {1,2,3,5,4,2,3,1}\n",
    "print(len(s),end= \" \")\n",
    "s.add(4)\n",
    "s.add(3)\n",
    "print(len(s))"
   ]
  },
  {
   "cell_type": "markdown",
   "id": "ab5bedb2",
   "metadata": {},
   "source": [
    "#### Q.First non repeating character\n",
    "In a given string, find the first non-repeating character .You are given a string, that can contain repeating characters. Your task is to return the first character in this string that does not repeat. i.e., occurs exactly once. The string will contain characters only from English alphabet set, i.e., ('A' - 'Z') and ('a' - 'z'). If there is no non-repeating character print the first character of string."
   ]
  },
  {
   "cell_type": "code",
   "execution_count": 15,
   "id": "29de6e7a",
   "metadata": {},
   "outputs": [
    {
     "name": "stdout",
     "output_type": "stream",
     "text": [
      "VqIdXfNgHbOcBCEYRMKORCLIVJ\n",
      "q\n"
     ]
    }
   ],
   "source": [
    "def fn(s):\n",
    "    order = []\n",
    "    counts = {}\n",
    "    for x in s:\n",
    "        if x in counts:\n",
    "            counts[x] += 1\n",
    "        else:\n",
    "            counts[x] = 1 \n",
    "            order.append(x)\n",
    "    for x in order:\n",
    "        if counts[x] == 1:\n",
    "            return x\n",
    "    return None\n",
    "\n",
    "string = input()\n",
    "print(fn(string))"
   ]
  },
  {
   "cell_type": "markdown",
   "id": "0c56a410",
   "metadata": {},
   "source": [
    "#### Q.Different Names\n",
    "\n",
    "In Little Flowers Public School, there are many students with same first names. You are given a task to find the students with same names. You will be given a string comprising of all the names of students and you have to tell the name and count of those students having same. If all the names are unique, print -1 instead.\n",
    "Note: We don't have to mention names whose frequency is 1."
   ]
  },
  {
   "cell_type": "code",
   "execution_count": null,
   "id": "19828193",
   "metadata": {},
   "outputs": [],
   "source": [
    "def differentNames(l):\n",
    "    freq = {}\n",
    "    for name in l:\n",
    "        if name in freq:\n",
    "            freq[name] += 1\n",
    "        else:\n",
    "            freq[name] = 1\n",
    "    result = {}\n",
    "    for name in freq:\n",
    "        if freq[name] > 1:\n",
    "            result[name] = freq[name]\n",
    "    if not result:\n",
    "        return -1\n",
    "    return result\n",
    "\n",
    "# Main\n",
    "names=input().strip().split()\n",
    "m=differentNames(names)\n",
    "if m:\n",
    "    for name in m:\n",
    "        print(name, m[name])\n",
    "else:\n",
    "    print(-1)"
   ]
  },
  {
   "cell_type": "code",
   "execution_count": null,
   "id": "4d189ed6",
   "metadata": {},
   "outputs": [],
   "source": []
  },
  {
   "cell_type": "code",
   "execution_count": 37,
   "id": "24c346e4",
   "metadata": {},
   "outputs": [
    {
     "name": "stdout",
     "output_type": "stream",
     "text": [
      "6\n",
      "4 7 1 7 1 9 \n",
      "7\n"
     ]
    }
   ],
   "source": [
    "def evenCount(arr):\n",
    "    d={}\n",
    "    arr1=[]\n",
    "    for i in arr:\n",
    "        d[i]=d.get(i,0)+1\n",
    "    for i in arr:\n",
    "        if d[i]%2==0:\n",
    "            arr1.append(i)\n",
    "    return arr1[0]\n",
    "\n",
    "    pass\n",
    "\n",
    "# Main\n",
    "n=int(input())\n",
    "arr=list(int(i) for i in input().strip().split(' '))\n",
    "print(evenCount(arr))\n"
   ]
  },
  {
   "cell_type": "markdown",
   "id": "78497469",
   "metadata": {},
   "source": [
    "#### Q.You are given n triangles. You are required to find how many triangles are unique out of given triangles. For each triangle you are given three integers a, b and c (the sides of a triangle).\n",
    "A triangle is said to be unique if there is no other triangle with same set of sides.\n",
    "In other words, we have to find frequency of each triangle and return the count of triangles whose frequency is 1.\n",
    "Note : It is always possible to form triangle with given sides.\""
   ]
  },
  {
   "cell_type": "code",
   "execution_count": 40,
   "id": "7877c54c",
   "metadata": {},
   "outputs": [
    {
     "name": "stdout",
     "output_type": "stream",
     "text": [
      "6\n",
      "34 5 32\n",
      "15 20 6\n",
      "4 2 3\n",
      "5 6 9\n",
      "15 20 6\n",
      "34 5 32\n",
      "2\n"
     ]
    }
   ],
   "source": [
    "from collections import Counter\n",
    "def unique_triangles(arr):\n",
    "    counter = Counter([frozenset(a) for a in arr])\n",
    "    return len([res for res in counter if counter[res] == 1])\n",
    "\n",
    "\n",
    "\n",
    "n = int(input())\n",
    "arr = [list(map(int, input().split())) for x in range(n)]\n",
    "print(unique_triangles(arr))"
   ]
  },
  {
   "cell_type": "markdown",
   "id": "14b5cefa",
   "metadata": {},
   "source": [
    "#### Q.You are given with an array of integers and an integer K. You have to find and print the count of all such pairs which have difference K.\n",
    "Note: Take absolute difference between the elements of the array."
   ]
  },
  {
   "cell_type": "code",
   "execution_count": 42,
   "id": "292b1ec3",
   "metadata": {},
   "outputs": [
    {
     "name": "stdout",
     "output_type": "stream",
     "text": [
      "4\n",
      "2 4 6 8 \n",
      "2\n",
      "3\n"
     ]
    }
   ],
   "source": [
    "def fact(n):\n",
    "    if n==0:\n",
    "        return 1\n",
    "    return n*fact(n-1)\n",
    "\n",
    "def printPairDiffK(l, k):\n",
    "    c=0\n",
    "    d={}\n",
    "    for i in l:\n",
    "        d[i]=d.get(i,0)+1\n",
    "    for j in l:\n",
    "        if n==d[j]:\n",
    "            fact_n = fact(n)\n",
    "            n_rfact = fact(n-2)\n",
    "            ans = fact_n//(n_rfact * 2)\n",
    "            \n",
    "            return ans\n",
    "        c+=d.get(j-k,0)\n",
    "    return c\n",
    "\n",
    "n=int(input())\n",
    "l=list(int(i) for i in input().strip().split(' '))\n",
    "k=int(input())\n",
    "print(printPairDiffK(l, k))"
   ]
  },
  {
   "cell_type": "code",
   "execution_count": null,
   "id": "7aae0465",
   "metadata": {},
   "outputs": [],
   "source": []
  }
 ],
 "metadata": {
  "kernelspec": {
   "display_name": "Python 3 (ipykernel)",
   "language": "python",
   "name": "python3"
  },
  "language_info": {
   "codemirror_mode": {
    "name": "ipython",
    "version": 3
   },
   "file_extension": ".py",
   "mimetype": "text/x-python",
   "name": "python",
   "nbconvert_exporter": "python",
   "pygments_lexer": "ipython3",
   "version": "3.9.13"
  }
 },
 "nbformat": 4,
 "nbformat_minor": 5
}
