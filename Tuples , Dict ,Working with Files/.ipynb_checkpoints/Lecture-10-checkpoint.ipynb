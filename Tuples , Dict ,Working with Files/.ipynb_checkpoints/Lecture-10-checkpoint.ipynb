{
 "cells": [
  {
   "cell_type": "markdown",
   "id": "4f9f0198",
   "metadata": {},
   "source": [
    "### First 3 lines "
   ]
  },
  {
   "cell_type": "code",
   "execution_count": null,
   "id": "f3627ea3",
   "metadata": {},
   "outputs": [],
   "source": [
    "import csv\n",
    "with open('year2017.csv') as file_:\n",
    "    file_name=csv.reader(file_)\n",
    "    file_name=list(file_name)\n",
    "    for i in range(1,4):\n",
    "        for j in file_name[i]:\n",
    "            print(j,end=' ')\n",
    "        print()"
   ]
  },
  {
   "cell_type": "markdown",
   "id": "4151ae74",
   "metadata": {},
   "source": [
    "### Print all column names"
   ]
  },
  {
   "cell_type": "code",
   "execution_count": null,
   "id": "0fb1923c",
   "metadata": {},
   "outputs": [],
   "source": [
    "import csv\n",
    "\n",
    "with open('year2017.csv') as my_csv:\n",
    "    data = csv.reader(my_csv)\n",
    "    l = list(data)\n",
    "    for i in l[0]:\n",
    "        print(i)"
   ]
  },
  {
   "cell_type": "markdown",
   "id": "13751d51",
   "metadata": {},
   "source": [
    "### Country Names "
   ]
  },
  {
   "cell_type": "code",
   "execution_count": null,
   "id": "9b7356c7",
   "metadata": {},
   "outputs": [],
   "source": [
    "import csv\n",
    "\n",
    "with open('year2017.csv') as my_csv:\n",
    "    data = csv.reader(my_csv)\n",
    "    data = list(data)\n",
    "    \n",
    "Country = []\n",
    "for row in data[1:11]:\n",
    "    Country.append(row[3])\n",
    "Country\n",
    "for i in Country:\n",
    "    print(i)"
   ]
  },
  {
   "cell_type": "markdown",
   "id": "a35b4aa4",
   "metadata": {},
   "source": [
    "### Total Wounded People "
   ]
  },
  {
   "cell_type": "code",
   "execution_count": null,
   "id": "5d484f67",
   "metadata": {},
   "outputs": [],
   "source": [
    "import csv\n",
    "with open(\"year2017.csv\") as file_obj:\n",
    "    file_data=csv.reader(file_obj,skipinitialspace=True)\n",
    "    file_data=list(file_data)\n",
    "    wounded=[]\n",
    "    for row in file_data[1:]:\n",
    "        val=row[10]\n",
    "        if val !=\"\":\n",
    "            wounded.append(float(row[10]))\n",
    "    print(int(sum(wounded)))"
   ]
  },
  {
   "cell_type": "markdown",
   "id": "b1d1e1cd",
   "metadata": {},
   "source": [
    "### Total Wounded from India "
   ]
  },
  {
   "cell_type": "code",
   "execution_count": null,
   "id": "5f49f277",
   "metadata": {},
   "outputs": [],
   "source": [
    "import csv\n",
    "with open(\"year2017.csv\") as file_obj:\n",
    "    file_data=csv.reader(file_obj,skipinitialspace=True)\n",
    "    file_data=list(file_data)\n",
    "    wounded=[]\n",
    "    for row in file_data[1:]:\n",
    "        val=row[10]\n",
    "        if val !=\"\" and row[3]==\"India\":\n",
    "            wounded.append(float(row[10]))\n",
    "    print(int(sum(wounded)))"
   ]
  },
  {
   "cell_type": "markdown",
   "id": "560484a9",
   "metadata": {},
   "source": [
    "### Casualties from Explosives "
   ]
  },
  {
   "cell_type": "code",
   "execution_count": null,
   "id": "f6e0dbff",
   "metadata": {},
   "outputs": [],
   "source": [
    "import csv\n",
    "with open(\"year2017.csv\") as file_obj:\n",
    "    file_data=csv.DictReader(file_obj,skipinitialspace=True)\n",
    "\n",
    "    casualities=[]\n",
    "    for row in file_data:\n",
    "        if row[\"Weapon_type\"]==\"Explosives\" and row[\"casualities\"] !=\"\" :\n",
    "            casualities.append(float(row[\"casualities\"]))\n",
    "    print(int(sum(casualities)))"
   ]
  },
  {
   "cell_type": "markdown",
   "id": "24b27031",
   "metadata": {},
   "source": [
    "### Month vs Killed "
   ]
  },
  {
   "cell_type": "code",
   "execution_count": null,
   "id": "009d7455",
   "metadata": {},
   "outputs": [],
   "source": [
    "import csv\n",
    "with open(\"year2017.csv\") as file_obj:\n",
    "    file_data=csv.DictReader(file_obj,skipinitialspace=True)\n",
    "    file_list=list(file_data)\n",
    "    month_x_killed={}\n",
    "    for row in file_list:\n",
    "        key=row[\"Month\"]\n",
    "        value=row[\"Killed\"]\n",
    "        \n",
    "        if value!=\"\":\n",
    "            value=int(float(value))  \n",
    "        else:\n",
    "            value=0\n",
    "            \n",
    "        if key in month_x_killed:\n",
    "            month_x_killed[key]+=value\n",
    "        else:\n",
    "            month_x_killed[key]=value\n",
    "        \n",
    "    for i in month_x_killed:\n",
    "        print(i,month_x_killed[i])"
   ]
  },
  {
   "cell_type": "markdown",
   "id": "d3175a26",
   "metadata": {},
   "source": [
    "### Country vs Casualties "
   ]
  },
  {
   "cell_type": "code",
   "execution_count": null,
   "id": "5e69eeb6",
   "metadata": {},
   "outputs": [],
   "source": [
    "import csv\n",
    "with open(\"year2017.csv\",encoding=\"utf8\") as file_obj:\n",
    "    file_data=csv.DictReader(file_obj,skipinitialspace=True)\n",
    "    file_list=list(file_data)\n",
    "    Co_x_Ca={}\n",
    "    for row in file_list:\n",
    "        key=row[\"Country\"]\n",
    "        value=row[\"casualities\"]\n",
    "        \n",
    "        if value!=\"\":\n",
    "            value=int(float(value))  \n",
    "        else:\n",
    "            value=0\n",
    "            \n",
    "        if key in Co_x_Ca:\n",
    "            Co_x_Ca[key]+=value\n",
    "        else:\n",
    "            Co_x_Ca[key]=value\n",
    "        \n",
    "    for i in Co_x_Ca:\n",
    "        print(i,Co_x_Ca[i])"
   ]
  },
  {
   "cell_type": "markdown",
   "id": "16b6247e",
   "metadata": {},
   "source": [
    "### Problem Statement :\n",
    "Find number of job openings in Bangalore,IN and in Seattle,US?"
   ]
  },
  {
   "cell_type": "code",
   "execution_count": 10,
   "id": "a1144d82",
   "metadata": {},
   "outputs": [
    {
     "name": "stdout",
     "output_type": "stream",
     "text": [
      "66   1856\n"
     ]
    }
   ],
   "source": [
    "import csv\n",
    "with open ('amazon_jobs_dataset.csv',encoding=\"utf8\") as file_obj:\n",
    "    file_data = csv.reader(file_obj, skipinitialspace = True)\n",
    "    file_list = list(file_data)\n",
    "    \n",
    "banglore_count = 0\n",
    "seattle_count = 0\n",
    "for row in file_list:\n",
    "    if row[2]=='US, WA, Seattle ':\n",
    "        seattle_count += 1\n",
    "            \n",
    "    elif row[2]=='IN, KA, Bangalore ':\n",
    "        banglore_count += 1\n",
    "            \n",
    "print(banglore_count,\" \",seattle_count)"
   ]
  },
  {
   "cell_type": "markdown",
   "id": "88bce785",
   "metadata": {},
   "source": [
    "### Problem Statement :\n",
    "What are the total number of job openings related to Computer Vision ?\n",
    "Note:For finding the job related to computer vision check the Job Title column."
   ]
  },
  {
   "cell_type": "code",
   "execution_count": 11,
   "id": "6f2a7f4c",
   "metadata": {},
   "outputs": [
    {
     "name": "stdout",
     "output_type": "stream",
     "text": [
      "14\n"
     ]
    }
   ],
   "source": [
    "import csv\n",
    "Comp_vision = 0\n",
    "mydict=dict()\n",
    "with open ('amazon_jobs_dataset.csv',encoding=\"utf8\") as fileobj:\n",
    "    filedata = csv.reader(fileobj)\n",
    "    file_list = list(filedata)\n",
    "\n",
    "for row in file_list:\n",
    "    if 'Computer Vision' in row[1]:\n",
    "        Comp_vision += 1\n",
    "        \n",
    "print(Comp_vision)"
   ]
  },
  {
   "cell_type": "markdown",
   "id": "794a2561",
   "metadata": {},
   "source": [
    "### Problem Statement :\n",
    "Find the number of job openings in Canada?\n",
    "Print the count as the Integer Value"
   ]
  },
  {
   "cell_type": "code",
   "execution_count": 12,
   "id": "9e0e54a6",
   "metadata": {},
   "outputs": [
    {
     "name": "stdout",
     "output_type": "stream",
     "text": [
      "156\n"
     ]
    }
   ],
   "source": [
    "import csv\n",
    "canada_jobs=0 \n",
    "with open('amazon_jobs_dataset.csv',encoding='utf-8') as fileobj:\n",
    "    filelist=csv.DictReader(fileobj)\n",
    "    for row in filelist:\n",
    "        if row['location'].split(',')[0]=='CA':\n",
    "            canada_jobs+=1\n",
    "print(canada_jobs)"
   ]
  },
  {
   "cell_type": "markdown",
   "id": "fbe01d20",
   "metadata": {},
   "source": [
    "### Problem Statement :\n",
    "Find the month having most job openings in Year 2018 ?\n",
    "Print the month (Month Name i.e January, February, March) and Number of job opening as Integer Value"
   ]
  },
  {
   "cell_type": "code",
   "execution_count": 44,
   "id": "ee604a6d",
   "metadata": {},
   "outputs": [
    {
     "name": "stdout",
     "output_type": "stream",
     "text": [
      "January 907\n"
     ]
    }
   ],
   "source": [
    "import csv\n",
    "posting_date=[]\n",
    "path='amazon_jobs_dataset.csv'\n",
    "\n",
    "with open(path,'r',encoding='utf-8') as csvFile:\n",
    "    reader=csv.DictReader(csvFile)\n",
    "    for row in reader:\n",
    "        posting_date.append(row['Posting_date'])\n",
    "\n",
    "def getTheJobYearList(arr,year):\n",
    "    year_list=[]\n",
    "    for i in arr:\n",
    "        if i.split(' ')[-1]==year:\n",
    "            year_list.append(i)\n",
    "    return year_list\n",
    "year2018=getTheJobYearList(posting_date,'2018')\n",
    "\n",
    "def getTheMonthList(arr):\n",
    "    month=[]\n",
    "    for i in arr:\n",
    "        month.append(i.split(' ')[0])\n",
    "    return month\n",
    "\n",
    "def createDictionary(arr):\n",
    "    dictionary={i:0 for i in set(arr)}\n",
    "    for i in arr:\n",
    "        dictionary[i]=dictionary.get(i)+1\n",
    "    return dictionary\n",
    "dictionary=createDictionary(getTheMonthList(year2018))\n",
    "\n",
    "def convertDictToList(dictionary):\n",
    "    month_job=[]\n",
    "    for i in dictionary:\n",
    "        month_job.append([dictionary.get(i),i])\n",
    "    month_job.sort(reverse=True)\n",
    "    return month_job\n",
    "month2018=convertDictToList(dictionary)\n",
    "print(month2018[0][1],month2018[0][0])"
   ]
  },
  {
   "cell_type": "markdown",
   "id": "100d18ea",
   "metadata": {},
   "source": [
    "### Problem Statement :\n",
    "Find the number of job openings are present if applicant have Bachelor degree?\n",
    "Print the count as Integer value"
   ]
  },
  {
   "cell_type": "code",
   "execution_count": 48,
   "id": "b3c7c053",
   "metadata": {},
   "outputs": [
    {
     "name": "stdout",
     "output_type": "stream",
     "text": [
      "2961\n"
     ]
    }
   ],
   "source": [
    "with open(\"amazon_jobs_dataset.csv\",encoding=\"utf8\") as file_obj:\n",
    "    file_data=csv.DictReader(file_obj,skipinitialspace=True)\n",
    "    file_list=list(file_data)\n",
    "    count=0\n",
    "    for row in file_list:\n",
    "        if \"Bachelor\" in row[\"BASIC QUALIFICATIONS\"] or \"BS\" in row[\"BASIC QUALIFICATIONS\"] or \"BA\" in row[\"BASIC QUALIFICATIONS\"]:\n",
    "            count+=1\n",
    "    print(count)"
   ]
  },
  {
   "cell_type": "markdown",
   "id": "ed54818f",
   "metadata": {},
   "source": [
    "### Problem Statement :\n",
    "Among Java, C++ and Python, which of the language has more job openings in India for Bachelor Degree Holder?\n",
    "Print the Language(i.e Java,C++,Python) and number of job opening as integer value."
   ]
  },
  {
   "cell_type": "code",
   "execution_count": 2,
   "id": "3a77ed55",
   "metadata": {},
   "outputs": [
    {
     "name": "stdout",
     "output_type": "stream",
     "text": [
      "Java 103\n"
     ]
    }
   ],
   "source": [
    "import csv\n",
    "path='amazon_jobs_dataset.csv'\n",
    "country_basic_qualifications=[]\n",
    "with open(path,'r',encoding='utf-8') as csvFile:\n",
    "    reader=csv.DictReader(csvFile)\n",
    "    for row in reader:\n",
    "        country_basic_qualifications.append([row['location'],row['BASIC QUALIFICATIONS']])\n",
    "\n",
    "def get_Country_Job_Opening(arr,country_code):\n",
    "    arrlist=[]\n",
    "    for i in arr:\n",
    "        if i[0].split(',')[0]==country_code:\n",
    "            arrlist.append(i[1])\n",
    "    return arrlist\n",
    "\n",
    "india_list=get_Country_Job_Opening(country_basic_qualifications,'IN')\n",
    "\n",
    "def get_Job_Bachelor_List(arr):\n",
    "    arrlist=[]\n",
    "    for i in arr:\n",
    "        if 'Bachelor' in i or 'BS' in i or 'BA' in i:\n",
    "            arrlist.append(i)\n",
    "    return arrlist\n",
    "    \n",
    "india_bachelor_list=get_Job_Bachelor_List(india_list)\n",
    "\n",
    "def get_The_Developer(arr,language):\n",
    "    arrlist=[]\n",
    "    for i in arr:\n",
    "        if language in i:\n",
    "            arrlist.append(i)\n",
    "    return arrlist\n",
    "\n",
    "java=[len(get_The_Developer(india_bachelor_list,'Java')),'Java']\n",
    "Cplus=[len(get_The_Developer(india_bachelor_list,'C++')),'C++']\n",
    "py=[len(get_The_Developer(india_bachelor_list,'Python')),'Python']\n",
    "maximum=max(java,Cplus,py)\n",
    "print(maximum[1],maximum[0])"
   ]
  },
  {
   "cell_type": "markdown",
   "id": "3f946d39",
   "metadata": {},
   "source": [
    "### Problem Statement :\n",
    "Find the country does Amazon need the most number of Java Developer?\n",
    "Print the Country(Country Shortcut as given in Dataset) and number of job opening as integer value"
   ]
  },
  {
   "cell_type": "code",
   "execution_count": 53,
   "id": "da8be196",
   "metadata": {},
   "outputs": [
    {
     "name": "stdout",
     "output_type": "stream",
     "text": [
      "US 2009\n"
     ]
    }
   ],
   "source": [
    "import csv\n",
    "with open(\"amazon_jobs_dataset.csv\",errors='ignore') as file_object:\n",
    "    file_data=csv.DictReader(file_object,skipinitialspace=True)\n",
    "    dictionary={}\n",
    "    for row in file_data:\n",
    "        a=row[\"location\"].split(\",\")\n",
    "        if \"Java\" in row[\"BASIC QUALIFICATIONS\"]:\n",
    "            dictionary[a[0]]=dictionary.get(a[0],0)+1\n",
    "        \n",
    "        \n",
    "    j=0\n",
    "    max=0\n",
    "    for i in dictionary:\n",
    "        if (int(dictionary[i])>max):\n",
    "            j=i\n",
    "            max=int(dictionary[i])\n",
    "    print(j,dictionary[j])"
   ]
  },
  {
   "cell_type": "code",
   "execution_count": null,
   "id": "036184ea",
   "metadata": {},
   "outputs": [],
   "source": []
  }
 ],
 "metadata": {
  "kernelspec": {
   "display_name": "Python 3 (ipykernel)",
   "language": "python",
   "name": "python3"
  },
  "language_info": {
   "codemirror_mode": {
    "name": "ipython",
    "version": 3
   },
   "file_extension": ".py",
   "mimetype": "text/x-python",
   "name": "python",
   "nbconvert_exporter": "python",
   "pygments_lexer": "ipython3",
   "version": "3.9.13"
  }
 },
 "nbformat": 4,
 "nbformat_minor": 5
}
