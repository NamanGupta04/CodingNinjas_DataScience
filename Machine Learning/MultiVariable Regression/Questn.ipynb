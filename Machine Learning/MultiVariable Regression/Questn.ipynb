{
 "cells": [
  {
   "cell_type": "markdown",
   "id": "7efc8dac",
   "metadata": {},
   "source": [
    "##### Topic: Add Features to Boston Dataset"
   ]
  },
  {
   "cell_type": "code",
   "execution_count": 1,
   "id": "76b6d89a",
   "metadata": {},
   "outputs": [],
   "source": [
    "from sklearn import datasets"
   ]
  },
  {
   "cell_type": "code",
   "execution_count": 46,
   "id": "4a5d172f",
   "metadata": {},
   "outputs": [
    {
     "name": "stdout",
     "output_type": "stream",
     "text": [
      "Score improved\n"
     ]
    }
   ],
   "source": [
    "boston = datasets.load_boston()\n",
    "X = boston.data\n",
    "Y = boston.target\n",
    "boston.DESCR\n",
    "\n",
    "import pandas as pd\n",
    "df = pd.DataFrame(X)\n",
    "a = boston.feature_names\n",
    "for i in range (len(a)):\n",
    "    df[\"nf\"+ str(i)] = df[i]*df[i] \n",
    "# df.columns = boston.feature_names\n",
    "# for i in range len(a):\n",
    "#    print(i)\n",
    "# df[\"age_age\"] = df.AGE ** 2\n",
    "# boston.DESCR\n",
    "# df['zn_zn'] = df.ZN ** 2\n",
    "# df['crim_crim'] = df.CRIM ** 2\n",
    "# df['indus_indus'] = df.INDUS ** 2\n",
    "# df['nox_nox'] = df.NOX ** 2\n",
    "X2 = df.values\n",
    "X2.shape\n",
    "\n",
    "from sklearn import model_selection\n",
    "X_train, X_test, Y_train, Y_test = model_selection.train_test_split(X, Y, random_state = 0)\n",
    "X2_train, X2_test, Y2_train, Y2_test = model_selection.train_test_split(X2, Y, random_state = 0)\n",
    "\n",
    "from sklearn.linear_model import LinearRegression\n",
    "alg1 = LinearRegression()\n",
    "alg2 = LinearRegression()\n",
    "\n",
    "alg1.fit(X_train, Y_train)\n",
    "alg2.fit(X2_train, Y2_train)\n",
    "\n",
    "Y_pred = alg1.predict(X_test)\n",
    "train_score = alg1.score(X_train, Y_train)\n",
    "test_score = alg1.score(X_test, Y_test)\n",
    "# print(\"Train Score: \", train_score)\n",
    "# print(\"Test Score: \", test_score)\n",
    "\n",
    "train2_score = alg2.score(X2_train, Y2_train)\n",
    "test2_score = alg2.score(X2_test, Y2_test)\n",
    "# print(\"Train2 Score: \", train2_score)\n",
    "# print(\"Test2 Score: \", test2_score)\n",
    "\n",
    "if train2_score > train_score :\n",
    "    print(\"Score improved\")\n",
    "else :\n",
    "    print(\"Score not improved\")"
   ]
  },
  {
   "cell_type": "code",
   "execution_count": null,
   "id": "8490361f",
   "metadata": {},
   "outputs": [],
   "source": []
  }
 ],
 "metadata": {
  "kernelspec": {
   "display_name": "Python 3 (ipykernel)",
   "language": "python",
   "name": "python3"
  },
  "language_info": {
   "codemirror_mode": {
    "name": "ipython",
    "version": 3
   },
   "file_extension": ".py",
   "mimetype": "text/x-python",
   "name": "python",
   "nbconvert_exporter": "python",
   "pygments_lexer": "ipython3",
   "version": "3.9.13"
  }
 },
 "nbformat": 4,
 "nbformat_minor": 5
}
