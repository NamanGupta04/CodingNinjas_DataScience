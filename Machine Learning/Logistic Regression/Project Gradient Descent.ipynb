{
 "cells": [
  {
   "cell_type": "code",
   "execution_count": null,
   "id": "f06a696e",
   "metadata": {},
   "outputs": [],
   "source": [
    "\n"
   ]
  },
  {
   "cell_type": "code",
   "execution_count": 26,
   "id": "e0e8bdef",
   "metadata": {},
   "outputs": [
    {
     "name": "stderr",
     "output_type": "stream",
     "text": [
      "C:\\Users\\Naman Gupta\\AppData\\Local\\Temp\\ipykernel_2896\\3833697699.py:14: SettingWithCopyWarning: \n",
      "A value is trying to be set on a copy of a slice from a DataFrame\n",
      "\n",
      "See the caveats in the documentation: https://pandas.pydata.org/pandas-docs/stable/user_guide/indexing.html#returning-a-view-versus-a-copy\n",
      "  X_train['Age'].fillna(X_train['Age'].mean(), inplace=True)\n",
      "C:\\Users\\Naman Gupta\\AppData\\Local\\Temp\\ipykernel_2896\\3833697699.py:15: SettingWithCopyWarning: \n",
      "A value is trying to be set on a copy of a slice from a DataFrame\n",
      "\n",
      "See the caveats in the documentation: https://pandas.pydata.org/pandas-docs/stable/user_guide/indexing.html#returning-a-view-versus-a-copy\n",
      "  X_train['Fare'].fillna(X_train['Fare'].mean(), inplace=True)\n",
      "C:\\Users\\Naman Gupta\\AppData\\Local\\Temp\\ipykernel_2896\\3833697699.py:18: SettingWithCopyWarning: \n",
      "A value is trying to be set on a copy of a slice from a DataFrame.\n",
      "Try using .loc[row_indexer,col_indexer] = value instead\n",
      "\n",
      "See the caveats in the documentation: https://pandas.pydata.org/pandas-docs/stable/user_guide/indexing.html#returning-a-view-versus-a-copy\n",
      "  X_train['Sex'] = X_train['Sex'].map({'female': 0, 'male': 1})\n"
     ]
    }
   ],
   "source": [
    "import pandas as pd\n",
    "from sklearn.linear_model import LogisticRegression\n",
    "from sklearn.model_selection import train_test_split\n",
    "from sklearn.preprocessing import StandardScaler\n",
    "\n",
    "# Load the training dataset\n",
    "train_data = pd.read_csv('0000000000002429_training_titanic_x_y_train.csv')  # Replace with the actual file name\n",
    "\n",
    "# Preprocess the data\n",
    "X_train = train_data[['Pclass', 'Sex', 'Age', 'SibSp', 'Parch', 'Fare']]\n",
    "y_train = train_data['Survived']\n",
    "\n",
    "# Fill NaN values with mean for numerical columns\n",
    "X_train['Age'].fillna(X_train['Age'].mean(), inplace=True)\n",
    "X_train['Fare'].fillna(X_train['Fare'].mean(), inplace=True)\n",
    "\n",
    "# Handle categorical variable 'Sex'\n",
    "X_train['Sex'] = X_train['Sex'].map({'female': 0, 'male': 1})\n",
    "\n",
    "# Split the data for training and validation (optional)\n",
    "# X_train, X_val, y_train, y_val = train_test_split(X_train, y_train, test_size=0.2, random_state=42)\n",
    "\n",
    "# Standardize the features\n",
    "scaler = StandardScaler()\n",
    "X_train_scaled = scaler.fit_transform(X_train)\n",
    "\n",
    "# Initialize and train the Logistic Regression model\n",
    "model = LogisticRegression()\n",
    "model.fit(X_train_scaled, y_train)\n",
    "\n",
    "# Load the test dataset\n",
    "X_test = pd.read_csv('0000000000002429_test_titanic_x_test.csv')  # Replace with the actual file name\n",
    "\n",
    "# Preprocess the test data similarly to the training data\n",
    "# Fill NaN values with mean for numerical columns\n",
    "X_test['Age'].fillna(X_test['Age'].mean(), inplace=True)\n",
    "X_test['Fare'].fillna(X_test['Fare'].mean(), inplace=True)\n",
    "\n",
    "# Handle categorical variable 'Sex'\n",
    "X_test['Sex'] = X_test['Sex'].map({'female': 0, 'male': 1})\n",
    "\n",
    "# Standardize the features of the test data using the same scaler\n",
    "X_test_scaled = scaler.transform(X_test[['Pclass', 'Sex', 'Age', 'SibSp', 'Parch', 'Fare']])\n",
    "\n",
    "# Make predictions on the test data\n",
    "predictions = model.predict(X_test_scaled)\n",
    "\n",
    "# Save predictions to a CSV file without headers\n",
    "pd.DataFrame(predictions, columns=['predictions']).to_csv('predictions.csv', header=False, index=False)\n"
   ]
  },
  {
   "cell_type": "code",
   "execution_count": null,
   "id": "ce021db1",
   "metadata": {},
   "outputs": [],
   "source": []
  }
 ],
 "metadata": {
  "kernelspec": {
   "display_name": "Python 3 (ipykernel)",
   "language": "python",
   "name": "python3"
  },
  "language_info": {
   "codemirror_mode": {
    "name": "ipython",
    "version": 3
   },
   "file_extension": ".py",
   "mimetype": "text/x-python",
   "name": "python",
   "nbconvert_exporter": "python",
   "pygments_lexer": "ipython3",
   "version": "3.9.13"
  }
 },
 "nbformat": 4,
 "nbformat_minor": 5
}
