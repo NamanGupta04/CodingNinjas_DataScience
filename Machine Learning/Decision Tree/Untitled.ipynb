{
 "cells": [
  {
   "cell_type": "code",
   "execution_count": 34,
   "id": "4c7c55a7",
   "metadata": {},
   "outputs": [],
   "source": [
    "import math\n",
    "\n",
    "p = 1\n",
    "q = 49\n",
    "N = 50\n",
    "\n",
    "split_info = -(((p/N) * math.log10(p/N)) + ((q/N) * math.log10(q/N)))\n",
    "split_info_rounded = round(split_info, 3)"
   ]
  },
  {
   "cell_type": "code",
   "execution_count": 35,
   "id": "4462f7b5",
   "metadata": {},
   "outputs": [
    {
     "data": {
      "text/plain": [
       "0.043"
      ]
     },
     "execution_count": 35,
     "metadata": {},
     "output_type": "execute_result"
    }
   ],
   "source": [
    "split_info_rounded"
   ]
  },
  {
   "cell_type": "code",
   "execution_count": 36,
   "id": "b3f75c04",
   "metadata": {},
   "outputs": [
    {
     "data": {
      "text/plain": [
       "0.04257784590807542"
      ]
     },
     "execution_count": 36,
     "metadata": {},
     "output_type": "execute_result"
    }
   ],
   "source": [
    "split_info"
   ]
  },
  {
   "cell_type": "code",
   "execution_count": null,
   "id": "ba6a802c",
   "metadata": {},
   "outputs": [],
   "source": []
  }
 ],
 "metadata": {
  "kernelspec": {
   "display_name": "Python 3 (ipykernel)",
   "language": "python",
   "name": "python3"
  },
  "language_info": {
   "codemirror_mode": {
    "name": "ipython",
    "version": 3
   },
   "file_extension": ".py",
   "mimetype": "text/x-python",
   "name": "python",
   "nbconvert_exporter": "python",
   "pygments_lexer": "ipython3",
   "version": "3.9.13"
  }
 },
 "nbformat": 4,
 "nbformat_minor": 5
}
