{
 "cells": [
  {
   "cell_type": "code",
   "execution_count": 1,
   "id": "477a7402",
   "metadata": {},
   "outputs": [],
   "source": [
    "import sqlite3\n",
    "import pandas as pd\n",
    "\n",
    "db=sqlite3.connect(\"Employee.sqlite\")\n",
    "cur=db.cursor()"
   ]
  },
  {
   "cell_type": "markdown",
   "id": "0e6a0fa1",
   "metadata": {},
   "source": [
    "query1=\"create table Employee(employeeid int , name varchar(30), age int(2), department varchar(20), Salary int,primary key(employeeid))\"\n",
    "cur.execute(query1)"
   ]
  },
  {
   "cell_type": "markdown",
   "id": "e69fa528",
   "metadata": {},
   "source": [
    "db.commit()"
   ]
  },
  {
   "cell_type": "markdown",
   "id": "ead076ad",
   "metadata": {},
   "source": [
    "query2 =\"insert into Employee values(100,'Rishav',25,'Marketing',50000)\"\n",
    "cur.execute(query2)\n",
    "db.commit()"
   ]
  },
  {
   "cell_type": "markdown",
   "id": "b8da256a",
   "metadata": {},
   "source": [
    "query3 =\"insert into Employee values(101,'Abhishekh',26,'operations',60000)\"\n",
    "cur.execute(query3)\n",
    "db.commit()"
   ]
  },
  {
   "cell_type": "markdown",
   "id": "f822ec70",
   "metadata": {},
   "source": [
    "query4 =\"insert into Employee values(102,'Aman',24,'Human Resource',75000)\"\n",
    "cur.execute(query4)\n",
    "db.commit()"
   ]
  },
  {
   "cell_type": "markdown",
   "id": "1a166822",
   "metadata": {},
   "source": [
    "employee_id_to_remove = 101\n",
    "cur.execute(\"DELETE FROM Employee WHERE employeeid = ?\", (employee_id_to_remove,))"
   ]
  },
  {
   "cell_type": "markdown",
   "id": "61f5e212",
   "metadata": {},
   "source": [
    "employee_id_to_remove = 102\n",
    "cur.execute(\"DELETE FROM Employee WHERE employeeid = ?\", (employee_id_to_remove,))"
   ]
  },
  {
   "cell_type": "markdown",
   "id": "35721da0",
   "metadata": {},
   "source": [
    "employee_id_to_remove = 103\n",
    "cur.execute(\"DELETE FROM Employee WHERE employeeid = ?\", (employee_id_to_remove,))"
   ]
  },
  {
   "cell_type": "markdown",
   "id": "8bdb0f10",
   "metadata": {},
   "source": [
    "sql_query = 'create table Employee_Detail(Employee_ID int primary key, Name text, Age int, Department text, Salary int )'\n",
    "cur.execute(sql_query)\n",
    "values = [(101, 'Aadarsh', 25, 'Marketing', 50000),(102, 'Aarti', 27, 'Operations', 60000),(103, 'Siddharth', 25, 'Finance', 85000)]\n",
    "cur.executemany('Insert into Employee_Detail values (?,?,?,?,?)', values)\n",
    "db.commit()\n",
    "values = [(104, 'Aman', 24, 'Human Resource', 75000),(105, 'Amit', 30, 'Marketing', 50000),(106, 'Shivansh', 26, 'IT', 90000)]\n",
    "cur.executemany('Insert into Employee_Detail values (?,?,?,?,?)', values)\n",
    "db.commit()\n",
    "values = [(107, 'Vaibhav', 23, 'Finance', 85000),(108, 'Himanshu', 26, 'IT', 90000),(109, 'Raman', 25, 'Operations', 60000)]\n",
    "cur.executemany('Insert into Employee_Detail values (?,?,?,?,?)', values)\n",
    "db.commit()\n",
    "values = [(110, 'Kunal', 26, 'Marketing', 50000),(111, 'Adhira', 29, 'Human Resource', 75000),(112, 'Tanya', 24, 'Marketing', 50000)]\n",
    "cur.executemany('Insert into Employee_Detail values (?,?,?,?,?)', values)\n",
    "db.commit()"
   ]
  },
  {
   "cell_type": "code",
   "execution_count": 2,
   "id": "7761b586",
   "metadata": {},
   "outputs": [
    {
     "name": "stdout",
     "output_type": "stream",
     "text": [
      "103\n",
      "107\n"
     ]
    }
   ],
   "source": [
    "cur.execute('select * from Employee_Detail where Department = \"Finance\"')\n",
    "ans=cur.fetchall()\n",
    "for i in ans:\n",
    "    print(i[0])"
   ]
  },
  {
   "cell_type": "code",
   "execution_count": 3,
   "id": "e23f1494",
   "metadata": {},
   "outputs": [
    {
     "name": "stdout",
     "output_type": "stream",
     "text": [
      "Finance 2\n",
      "Human Resource 2\n",
      "IT 2\n",
      "Marketing 4\n",
      "Operations 2\n"
     ]
    }
   ],
   "source": [
    "cur.execute('select Department,count(*) from Employee_Detail group by Department')\n",
    "ans = cur.fetchall()\n",
    "for i in ans:\n",
    "    print(i[0],i[1])\n",
    "db.close()"
   ]
  },
  {
   "cell_type": "markdown",
   "id": "19a29f23",
   "metadata": {
    "collapsed": true
   },
   "source": [
    "data = pd.read_sql_query(\"select * from Student\",db)\n",
    "data"
   ]
  },
  {
   "cell_type": "code",
   "execution_count": 4,
   "id": "821e414c",
   "metadata": {},
   "outputs": [
    {
     "data": {
      "text/html": [
       "<div>\n",
       "<style scoped>\n",
       "    .dataframe tbody tr th:only-of-type {\n",
       "        vertical-align: middle;\n",
       "    }\n",
       "\n",
       "    .dataframe tbody tr th {\n",
       "        vertical-align: top;\n",
       "    }\n",
       "\n",
       "    .dataframe thead th {\n",
       "        text-align: right;\n",
       "    }\n",
       "</style>\n",
       "<table border=\"1\" class=\"dataframe\">\n",
       "  <thead>\n",
       "    <tr style=\"text-align: right;\">\n",
       "      <th></th>\n",
       "      <th>ID</th>\n",
       "      <th>Name</th>\n",
       "      <th>SUbject</th>\n",
       "      <th>Salary</th>\n",
       "    </tr>\n",
       "  </thead>\n",
       "  <tbody>\n",
       "    <tr>\n",
       "      <th>0</th>\n",
       "      <td>201</td>\n",
       "      <td>Naman</td>\n",
       "      <td>Science</td>\n",
       "      <td>24000</td>\n",
       "    </tr>\n",
       "    <tr>\n",
       "      <th>1</th>\n",
       "      <td>202</td>\n",
       "      <td>Aman</td>\n",
       "      <td>Maths</td>\n",
       "      <td>25000</td>\n",
       "    </tr>\n",
       "  </tbody>\n",
       "</table>\n",
       "</div>"
      ],
      "text/plain": [
       "    ID   Name  SUbject  Salary\n",
       "0  201  Naman  Science   24000\n",
       "1  202   Aman    Maths   25000"
      ]
     },
     "execution_count": 4,
     "metadata": {},
     "output_type": "execute_result"
    }
   ],
   "source": [
    "data=pd.DataFrame([[201,\"Naman\",\"Science\",24000],[202,\"Aman\",\"Maths\",25000]],columns=[\"ID\",\"Name\",\"SUbject\",\"Salary\"])\n",
    "data"
   ]
  },
  {
   "cell_type": "markdown",
   "id": "04b20c2c",
   "metadata": {},
   "source": [
    "data.to_sql(\"Faculties\",db)"
   ]
  },
  {
   "cell_type": "markdown",
   "id": "944504fa",
   "metadata": {},
   "source": [
    "data[\"Address\"] = \"Test\"\n",
    "data.to_sql(\"Faculties\",db,if_exists=\"replace\")"
   ]
  },
  {
   "cell_type": "code",
   "execution_count": 7,
   "id": "410f01a6",
   "metadata": {},
   "outputs": [
    {
     "data": {
      "text/html": [
       "<div>\n",
       "<style scoped>\n",
       "    .dataframe tbody tr th:only-of-type {\n",
       "        vertical-align: middle;\n",
       "    }\n",
       "\n",
       "    .dataframe tbody tr th {\n",
       "        vertical-align: top;\n",
       "    }\n",
       "\n",
       "    .dataframe thead th {\n",
       "        text-align: right;\n",
       "    }\n",
       "</style>\n",
       "<table border=\"1\" class=\"dataframe\">\n",
       "  <thead>\n",
       "    <tr style=\"text-align: right;\">\n",
       "      <th></th>\n",
       "      <th>Movie_id</th>\n",
       "      <th>Title</th>\n",
       "      <th>Rating</th>\n",
       "      <th>TotalVotes</th>\n",
       "      <th>MetaCritic</th>\n",
       "      <th>Budget</th>\n",
       "      <th>Runtime</th>\n",
       "      <th>CVotes10</th>\n",
       "      <th>CVotes09</th>\n",
       "      <th>CVotes08</th>\n",
       "      <th>...</th>\n",
       "      <th>Votes3044</th>\n",
       "      <th>Votes3044M</th>\n",
       "      <th>Votes3044F</th>\n",
       "      <th>Votes45A</th>\n",
       "      <th>Votes45AM</th>\n",
       "      <th>Votes45AF</th>\n",
       "      <th>VotesIMDB</th>\n",
       "      <th>Votes1000</th>\n",
       "      <th>VotesUS</th>\n",
       "      <th>VotesnUS</th>\n",
       "    </tr>\n",
       "  </thead>\n",
       "  <tbody>\n",
       "    <tr>\n",
       "      <th>0</th>\n",
       "      <td>36809</td>\n",
       "      <td>12 Years a Slave (2013)</td>\n",
       "      <td>8.1</td>\n",
       "      <td>496092</td>\n",
       "      <td>96</td>\n",
       "      <td>20000000.0</td>\n",
       "      <td>134 min</td>\n",
       "      <td>75556</td>\n",
       "      <td>126223</td>\n",
       "      <td>161460</td>\n",
       "      <td>...</td>\n",
       "      <td>8.0</td>\n",
       "      <td>7.9</td>\n",
       "      <td>8.0</td>\n",
       "      <td>7.8</td>\n",
       "      <td>7.8</td>\n",
       "      <td>8.1</td>\n",
       "      <td>8.0</td>\n",
       "      <td>7.7</td>\n",
       "      <td>8.3</td>\n",
       "      <td>8.0</td>\n",
       "    </tr>\n",
       "    <tr>\n",
       "      <th>1</th>\n",
       "      <td>30114</td>\n",
       "      <td>127 Hours (2010)</td>\n",
       "      <td>7.6</td>\n",
       "      <td>297075</td>\n",
       "      <td>82</td>\n",
       "      <td>18000000.0</td>\n",
       "      <td>94 min</td>\n",
       "      <td>28939</td>\n",
       "      <td>44110</td>\n",
       "      <td>98845</td>\n",
       "      <td>...</td>\n",
       "      <td>7.5</td>\n",
       "      <td>7.5</td>\n",
       "      <td>7.5</td>\n",
       "      <td>7.3</td>\n",
       "      <td>7.3</td>\n",
       "      <td>7.5</td>\n",
       "      <td>7.6</td>\n",
       "      <td>7.0</td>\n",
       "      <td>7.7</td>\n",
       "      <td>7.6</td>\n",
       "    </tr>\n",
       "    <tr>\n",
       "      <th>2</th>\n",
       "      <td>37367</td>\n",
       "      <td>50/50 (2011)</td>\n",
       "      <td>7.7</td>\n",
       "      <td>283935</td>\n",
       "      <td>72</td>\n",
       "      <td>8000000.0</td>\n",
       "      <td>100 min</td>\n",
       "      <td>28304</td>\n",
       "      <td>47501</td>\n",
       "      <td>99524</td>\n",
       "      <td>...</td>\n",
       "      <td>7.6</td>\n",
       "      <td>7.6</td>\n",
       "      <td>7.6</td>\n",
       "      <td>7.4</td>\n",
       "      <td>7.4</td>\n",
       "      <td>7.5</td>\n",
       "      <td>7.4</td>\n",
       "      <td>7.0</td>\n",
       "      <td>7.9</td>\n",
       "      <td>7.6</td>\n",
       "    </tr>\n",
       "    <tr>\n",
       "      <th>3</th>\n",
       "      <td>49473</td>\n",
       "      <td>About Time (2013)</td>\n",
       "      <td>7.8</td>\n",
       "      <td>225412</td>\n",
       "      <td></td>\n",
       "      <td>12000000.0</td>\n",
       "      <td>123 min</td>\n",
       "      <td>38556</td>\n",
       "      <td>43170</td>\n",
       "      <td>70850</td>\n",
       "      <td>...</td>\n",
       "      <td>7.6</td>\n",
       "      <td>7.6</td>\n",
       "      <td>7.7</td>\n",
       "      <td>7.6</td>\n",
       "      <td>7.5</td>\n",
       "      <td>7.8</td>\n",
       "      <td>7.7</td>\n",
       "      <td>6.9</td>\n",
       "      <td>7.8</td>\n",
       "      <td>7.7</td>\n",
       "    </tr>\n",
       "    <tr>\n",
       "      <th>4</th>\n",
       "      <td>14867</td>\n",
       "      <td>Amour (2012)</td>\n",
       "      <td>7.9</td>\n",
       "      <td>76121</td>\n",
       "      <td>94</td>\n",
       "      <td>8900000.0</td>\n",
       "      <td>127 min</td>\n",
       "      <td>11093</td>\n",
       "      <td>15944</td>\n",
       "      <td>22942</td>\n",
       "      <td>...</td>\n",
       "      <td>7.7</td>\n",
       "      <td>7.7</td>\n",
       "      <td>7.9</td>\n",
       "      <td>7.9</td>\n",
       "      <td>7.8</td>\n",
       "      <td>8.1</td>\n",
       "      <td>6.6</td>\n",
       "      <td>7.2</td>\n",
       "      <td>7.9</td>\n",
       "      <td>7.8</td>\n",
       "    </tr>\n",
       "    <tr>\n",
       "      <th>...</th>\n",
       "      <td>...</td>\n",
       "      <td>...</td>\n",
       "      <td>...</td>\n",
       "      <td>...</td>\n",
       "      <td>...</td>\n",
       "      <td>...</td>\n",
       "      <td>...</td>\n",
       "      <td>...</td>\n",
       "      <td>...</td>\n",
       "      <td>...</td>\n",
       "      <td>...</td>\n",
       "      <td>...</td>\n",
       "      <td>...</td>\n",
       "      <td>...</td>\n",
       "      <td>...</td>\n",
       "      <td>...</td>\n",
       "      <td>...</td>\n",
       "      <td>...</td>\n",
       "      <td>...</td>\n",
       "      <td>...</td>\n",
       "      <td>...</td>\n",
       "    </tr>\n",
       "    <tr>\n",
       "      <th>112</th>\n",
       "      <td>38262</td>\n",
       "      <td>Whiplash (2014)</td>\n",
       "      <td>8.5</td>\n",
       "      <td>492285</td>\n",
       "      <td>88</td>\n",
       "      <td>3300000.0</td>\n",
       "      <td>107 min</td>\n",
       "      <td>110404</td>\n",
       "      <td>161864</td>\n",
       "      <td>132656</td>\n",
       "      <td>...</td>\n",
       "      <td>8.3</td>\n",
       "      <td>8.3</td>\n",
       "      <td>8.2</td>\n",
       "      <td>8.1</td>\n",
       "      <td>8.1</td>\n",
       "      <td>8.2</td>\n",
       "      <td>8.7</td>\n",
       "      <td>8.0</td>\n",
       "      <td>8.6</td>\n",
       "      <td>8.4</td>\n",
       "    </tr>\n",
       "    <tr>\n",
       "      <th>113</th>\n",
       "      <td>10023</td>\n",
       "      <td>Wreck-It Ralph (2012)</td>\n",
       "      <td>7.7</td>\n",
       "      <td>295125</td>\n",
       "      <td>72</td>\n",
       "      <td>165000000.0</td>\n",
       "      <td></td>\n",
       "      <td>41980</td>\n",
       "      <td>50262</td>\n",
       "      <td>96477</td>\n",
       "      <td>...</td>\n",
       "      <td>7.6</td>\n",
       "      <td>7.6</td>\n",
       "      <td>7.7</td>\n",
       "      <td>7.4</td>\n",
       "      <td>7.4</td>\n",
       "      <td>7.5</td>\n",
       "      <td>7.4</td>\n",
       "      <td>7.2</td>\n",
       "      <td>7.9</td>\n",
       "      <td>7.6</td>\n",
       "    </tr>\n",
       "    <tr>\n",
       "      <th>114</th>\n",
       "      <td>27783</td>\n",
       "      <td>X-Men: Days of Future Past (2014)</td>\n",
       "      <td>8.0</td>\n",
       "      <td>560736</td>\n",
       "      <td>74</td>\n",
       "      <td>200000000.0</td>\n",
       "      <td>132 min</td>\n",
       "      <td>91765</td>\n",
       "      <td>127521</td>\n",
       "      <td>183578</td>\n",
       "      <td>...</td>\n",
       "      <td>7.8</td>\n",
       "      <td>7.8</td>\n",
       "      <td>8.0</td>\n",
       "      <td>7.7</td>\n",
       "      <td>7.7</td>\n",
       "      <td>7.9</td>\n",
       "      <td>7.5</td>\n",
       "      <td>7.4</td>\n",
       "      <td>8.1</td>\n",
       "      <td>7.9</td>\n",
       "    </tr>\n",
       "    <tr>\n",
       "      <th>115</th>\n",
       "      <td>42294</td>\n",
       "      <td>X-Men: First Class (2011)</td>\n",
       "      <td>7.8</td>\n",
       "      <td>556713</td>\n",
       "      <td>65</td>\n",
       "      <td>160000000.0</td>\n",
       "      <td>132 min</td>\n",
       "      <td>64428</td>\n",
       "      <td>96219</td>\n",
       "      <td>200144</td>\n",
       "      <td>...</td>\n",
       "      <td>7.7</td>\n",
       "      <td>7.6</td>\n",
       "      <td>7.8</td>\n",
       "      <td>7.6</td>\n",
       "      <td>7.5</td>\n",
       "      <td>7.7</td>\n",
       "      <td>7.6</td>\n",
       "      <td>7.3</td>\n",
       "      <td>7.8</td>\n",
       "      <td>7.7</td>\n",
       "    </tr>\n",
       "    <tr>\n",
       "      <th>116</th>\n",
       "      <td>32217</td>\n",
       "      <td>Zootopia (2016)</td>\n",
       "      <td>8.1</td>\n",
       "      <td>309474</td>\n",
       "      <td>78</td>\n",
       "      <td>150000000.0</td>\n",
       "      <td>108 min</td>\n",
       "      <td>53626</td>\n",
       "      <td>70912</td>\n",
       "      <td>102352</td>\n",
       "      <td>...</td>\n",
       "      <td>7.8</td>\n",
       "      <td>7.8</td>\n",
       "      <td>8.1</td>\n",
       "      <td>7.8</td>\n",
       "      <td>7.8</td>\n",
       "      <td>8.1</td>\n",
       "      <td>7.7</td>\n",
       "      <td>7.6</td>\n",
       "      <td>8.0</td>\n",
       "      <td>8.0</td>\n",
       "    </tr>\n",
       "  </tbody>\n",
       "</table>\n",
       "<p>117 rows × 52 columns</p>\n",
       "</div>"
      ],
      "text/plain": [
       "    Movie_id                              Title  Rating  TotalVotes  \\\n",
       "0      36809            12 Years a Slave (2013)     8.1      496092   \n",
       "1      30114                   127 Hours (2010)     7.6      297075   \n",
       "2      37367                       50/50 (2011)     7.7      283935   \n",
       "3      49473                  About Time (2013)     7.8      225412   \n",
       "4      14867                       Amour (2012)     7.9       76121   \n",
       "..       ...                                ...     ...         ...   \n",
       "112    38262                    Whiplash (2014)     8.5      492285   \n",
       "113    10023              Wreck-It Ralph (2012)     7.7      295125   \n",
       "114    27783  X-Men: Days of Future Past (2014)     8.0      560736   \n",
       "115    42294          X-Men: First Class (2011)     7.8      556713   \n",
       "116    32217                    Zootopia (2016)     8.1      309474   \n",
       "\n",
       "    MetaCritic       Budget  Runtime CVotes10 CVotes09 CVotes08  ...  \\\n",
       "0           96   20000000.0  134 min    75556   126223   161460  ...   \n",
       "1           82   18000000.0   94 min    28939    44110    98845  ...   \n",
       "2           72    8000000.0  100 min    28304    47501    99524  ...   \n",
       "3                12000000.0  123 min    38556    43170    70850  ...   \n",
       "4           94    8900000.0  127 min    11093    15944    22942  ...   \n",
       "..         ...          ...      ...      ...      ...      ...  ...   \n",
       "112         88    3300000.0  107 min   110404   161864   132656  ...   \n",
       "113         72  165000000.0             41980    50262    96477  ...   \n",
       "114         74  200000000.0  132 min    91765   127521   183578  ...   \n",
       "115         65  160000000.0  132 min    64428    96219   200144  ...   \n",
       "116         78  150000000.0  108 min    53626    70912   102352  ...   \n",
       "\n",
       "    Votes3044 Votes3044M Votes3044F Votes45A Votes45AM Votes45AF VotesIMDB  \\\n",
       "0         8.0        7.9        8.0      7.8       7.8       8.1       8.0   \n",
       "1         7.5        7.5        7.5      7.3       7.3       7.5       7.6   \n",
       "2         7.6        7.6        7.6      7.4       7.4       7.5       7.4   \n",
       "3         7.6        7.6        7.7      7.6       7.5       7.8       7.7   \n",
       "4         7.7        7.7        7.9      7.9       7.8       8.1       6.6   \n",
       "..        ...        ...        ...      ...       ...       ...       ...   \n",
       "112       8.3        8.3        8.2      8.1       8.1       8.2       8.7   \n",
       "113       7.6        7.6        7.7      7.4       7.4       7.5       7.4   \n",
       "114       7.8        7.8        8.0      7.7       7.7       7.9       7.5   \n",
       "115       7.7        7.6        7.8      7.6       7.5       7.7       7.6   \n",
       "116       7.8        7.8        8.1      7.8       7.8       8.1       7.7   \n",
       "\n",
       "    Votes1000 VotesUS VotesnUS  \n",
       "0         7.7     8.3      8.0  \n",
       "1         7.0     7.7      7.6  \n",
       "2         7.0     7.9      7.6  \n",
       "3         6.9     7.8      7.7  \n",
       "4         7.2     7.9      7.8  \n",
       "..        ...     ...      ...  \n",
       "112       8.0     8.6      8.4  \n",
       "113       7.2     7.9      7.6  \n",
       "114       7.4     8.1      7.9  \n",
       "115       7.3     7.8      7.7  \n",
       "116       7.6     8.0      8.0  \n",
       "\n",
       "[117 rows x 52 columns]"
      ]
     },
     "execution_count": 7,
     "metadata": {},
     "output_type": "execute_result"
    }
   ],
   "source": [
    "import pandas as pd\n",
    "import sqlite3\n",
    "\n",
    "db = sqlite3.connect('IMDB.sqlite')\n",
    "data=pd.read_sql_query(\"select * from IMDB\",db)\n",
    "data"
   ]
  },
  {
   "cell_type": "code",
   "execution_count": 8,
   "id": "877ca007",
   "metadata": {},
   "outputs": [
    {
     "name": "stdout",
     "output_type": "stream",
     "text": [
      "Drama 77\n",
      "Adventure 43\n",
      "Action 33\n",
      "Comedy 31\n",
      "Biography 21\n",
      "Sci-Fi 18\n",
      "Thriller 14\n",
      "Animation 13\n",
      "Romance 13\n",
      "Crime 11\n",
      "Mystery 7\n",
      "Fantasy 7\n",
      "History 6\n",
      "Family 3\n",
      "Sport 3\n",
      "Music 3\n",
      "Western 2\n",
      "War 2\n",
      "Horror 2\n",
      "Musical 1\n"
     ]
    }
   ],
   "source": [
    "import sqlite3\n",
    "import pandas as pd\n",
    "\n",
    "db=sqlite3.connect(\"IMDB.sqlite\")\n",
    "cur=db.cursor()\n",
    "data = pd.read_sql_query('select * from genre', db)\n",
    "data = data[data['genre']!='']\n",
    "data = data[\"genre\"].value_counts()\n",
    "\n",
    "for i in range(len(data)):\n",
    "    print(data.index[i],data.values[i])"
   ]
  },
  {
   "cell_type": "code",
   "execution_count": 9,
   "id": "7168d854",
   "metadata": {},
   "outputs": [
    {
     "name": "stdout",
     "output_type": "stream",
     "text": [
      "8.1\n"
     ]
    }
   ],
   "source": [
    "import pandas as pd\n",
    "import sqlite3\n",
    "\n",
    "db = sqlite3.connect('IMDB.sqlite')\n",
    "data = pd.read_sql_query('select * from earning inner join IMDB on earning.Movie_id=IMDB.Movie_id',db)\n",
    "\n",
    "data[\"Total\"] = data[\"Domestic\"] + data[\"Worldwide\"]\n",
    "\n",
    "max1 = max(data[\"Total\"])\n",
    "data=data[data['Total']==max1]\n",
    "print(data.values[0][5])\n"
   ]
  },
  {
   "cell_type": "code",
   "execution_count": 10,
   "id": "684a4d02",
   "metadata": {},
   "outputs": [
    {
     "name": "stdout",
     "output_type": "stream",
     "text": [
      "Inception (2010) 8.8\n"
     ]
    }
   ],
   "source": [
    "import pandas as pd\n",
    "import sqlite3\n",
    "\n",
    "db = sqlite3.connect('IMDB.sqlite')\n",
    "\n",
    "data = pd.read_sql_query('select * from IMDB',db)\n",
    "max1 = max(data['TotalVotes'])\n",
    "data=data[data['TotalVotes']==max1]\n",
    "print(data.values[0][1],data.values[0][2])"
   ]
  },
  {
   "cell_type": "code",
   "execution_count": 11,
   "id": "1e3676c9",
   "metadata": {},
   "outputs": [
    {
     "name": "stdout",
     "output_type": "stream",
     "text": [
      "The Wolf of Wall Street (2013) 180\n"
     ]
    }
   ],
   "source": [
    "import pandas as pd\n",
    "import numpy as np\n",
    "import sqlite3\n",
    "\n",
    "db = sqlite3.connect('IMDB.sqlite')\n",
    "\n",
    "data = pd.read_sql_query('select * from IMDB',db)\n",
    "\n",
    "def time(runtime):\n",
    "    return runtime.strip().split(\" \")[0]\n",
    "\n",
    "data['Runtime'] = data['Runtime'].apply(time)\n",
    "data['Runtime'].replace('',np.nan,inplace=True)\n",
    "data['Runtime'].astype(float) \n",
    "\n",
    "data.dropna(inplace=True,subset=['Runtime'])\n",
    "data['Runtime']=data['Runtime'].astype(int)\n",
    "max1 = max(data['Runtime'])\n",
    "data=data[data['Runtime']== max1]\n",
    "\n",
    "print(data['Title'].values[0],data['Runtime'].values[0])"
   ]
  },
  {
   "cell_type": "code",
   "execution_count": 12,
   "id": "448a843a",
   "metadata": {},
   "outputs": [
    {
     "name": "stdout",
     "output_type": "stream",
     "text": [
      "Star Wars: The Force Awakens (2015)\n"
     ]
    }
   ],
   "source": [
    "import pandas as pd\n",
    "import numpy as np\n",
    "import sqlite3\n",
    "\n",
    "db = sqlite3.connect('IMDB.sqlite')    \n",
    "\n",
    "data = pd.read_sql_query('select * from earning  join IMDB using(Movie_id)',db)\n",
    "\n",
    "data['Total'] = data['Domestic'] + data['Worldwide']\n",
    "data['Budget'].replace('',np.nan,inplace=True)\n",
    "data['Budget'].astype(float)\n",
    "data['Profit']=data['Total']-data['Budget']\n",
    "\n",
    "max1 = max(data['Profit'])\n",
    "data=data[data['Profit']==max1]\n",
    "print(data.values[0][3])"
   ]
  },
  {
   "cell_type": "code",
   "execution_count": 13,
   "id": "b6f60b54",
   "metadata": {},
   "outputs": [
    {
     "name": "stdout",
     "output_type": "stream",
     "text": [
      "Short Term 12 (2013)\n"
     ]
    }
   ],
   "source": [
    "import pandas as pd\n",
    "import numpy as np\n",
    "import sqlite3\n",
    "\n",
    "db = sqlite3.connect('IMDB.sqlite')    \n",
    "\n",
    "data = pd.read_sql_query(\"select * from earning join IMDB using(Movie_ID)\",db)\n",
    "data['Total'] = data['Domestic'] + data['Worldwide']\n",
    "data['Budget'].replace('',np.nan,inplace=True)\n",
    "data['Budget'].astype(float)\n",
    "data['Profit']=data['Total']-data['Budget']\n",
    "\n",
    "min1 = min(data['Budget'])\n",
    "data=data[(data['Budget']==min1)]\n",
    "data=data[data['Profit']==max(data['Profit'])]\n",
    "print(data['Title'].values[0])"
   ]
  },
  {
   "cell_type": "code",
   "execution_count": 30,
   "id": "16bd0de2",
   "metadata": {},
   "outputs": [
    {
     "name": "stdout",
     "output_type": "stream",
     "text": [
      "[1.48197458e+09 6.58561234e+08 2.14217090e+09 1.28967979e+09\n",
      " 1.10650523e+09 3.00488585e+09 1.58823460e+09]\n",
      "0      2.444052e+08\n",
      "1      7.907403e+07\n",
      "2      7.420198e+07\n",
      "3      1.024234e+08\n",
      "4      2.657898e+07\n",
      "           ...     \n",
      "112    6.207404e+07\n",
      "113    6.606458e+08\n",
      "114    9.817843e+08\n",
      "115    5.000324e+08\n",
      "116    1.365052e+09\n",
      "Name: Total, Length: 117, dtype: float64\n",
      "2010 Toy Story 3 (2010)\n",
      "2011 Rise of the Planet of the Apes (2011)\n",
      "2012 The Avengers (2012)\n",
      "2013 The Hunger Games: Catching Fire (2013)\n",
      "2014 Guardians of the Galaxy (2014)\n",
      "2015 Star Wars: The Force Awakens (2015)\n",
      "2016 Rogue One (2016)\n"
     ]
    }
   ],
   "source": [
    "import pandas as pd\n",
    "import numpy as np\n",
    "import sqlite3\n",
    "\n",
    "db = sqlite3.connect('IMDB.sqlite')    \n",
    "\n",
    "data = pd.read_sql_query(\"select * from earning join IMDB using(Movie_ID)\",db)\n",
    "data['Total'] = data['Domestic'] + data['Worldwide']\n",
    "data['Total'].replace('',np.nan,inplace=True)\n",
    "\n",
    "def year(title):\n",
    "    return int(title.strip().split(\" \")[-1][-5:-1])\n",
    "\n",
    "data['Year'] = data['Title'].apply(year)\n",
    "\n",
    "m = data.groupby('Year')['Total'].max()\n",
    "\n",
    "#print(m.values)\n",
    "#print(data['Total'])\n",
    "\n",
    "d = {}\n",
    "for i in range(len(data['Total'])):\n",
    "    if data['Total'][i] in (m.values):\n",
    "        key = data['Year'][i]\n",
    "        value = data['Title'][i]\n",
    "        d[key] = value\n",
    "        \n",
    "for i  in sorted(d):\n",
    "    print(i,d[i])\n"
   ]
  },
  {
   "cell_type": "code",
   "execution_count": 35,
   "id": "d056a70a",
   "metadata": {},
   "outputs": [
    {
     "name": "stdout",
     "output_type": "stream",
     "text": [
      "Action 17.98\n",
      "Adventure 25.10\n",
      "Animation 7.66\n",
      "Biography 2.59\n",
      "Comedy 7.22\n",
      "Crime 1.77\n",
      "Drama 10.85\n",
      "Family 1.91\n",
      "Fantasy 4.54\n",
      "History 0.72\n",
      "Horror 0.03\n",
      "Music 0.15\n",
      "Musical 0.25\n",
      "Mystery 1.95\n",
      "Romance 1.12\n",
      "Sci-Fi 10.77\n",
      "Sport 0.46\n",
      "Thriller 3.99\n",
      "War 0.36\n",
      "Western 0.57\n"
     ]
    },
    {
     "data": {
      "image/png": "[encoded data removed]",
      "text/plain": [
       "<Figure size 640x480 with 1 Axes>"
      ]
     },
     "metadata": {},
     "output_type": "display_data"
    }
   ],
   "source": [
    "import pandas as pd\n",
    "import numpy as np\n",
    "import matplotlib.pyplot as plt\n",
    "import sqlite3\n",
    "\n",
    "db = sqlite3.connect('IMDB.sqlite')    \n",
    "\n",
    "data = pd.read_sql_query(\"select * from IMDB join genre using(Movie_ID)\",db)\n",
    "\n",
    "data['Budget'].replace(\"\",0,inplace=True)\n",
    "data.Budget.unique()\n",
    "data[\"genre\"].replace('',np.NaN,inplace=True)\n",
    "data.dropna(subset = [\"genre\"],inplace=True)\n",
    "grouped_sum = data.groupby(\"genre\")[\"Budget\"].sum()\n",
    "\n",
    "for i in range(len(grouped_sum)):\n",
    "    percentage=grouped_sum.values[i]/(sum(grouped_sum))*100\n",
    "    print(grouped_sum.index[i],format(percentage,\".2f\"))\n",
    "\n",
    "plt.pie(grouped_sum,labels=grouped_sum.index,autopct=\"%.2f\")\n",
    "plt.show()"
   ]
  },
  {
   "cell_type": "code",
   "execution_count": null,
   "id": "d4db15d9",
   "metadata": {},
   "outputs": [],
   "source": []
  }
 ],
 "metadata": {
  "kernelspec": {
   "display_name": "Python 3 (ipykernel)",
   "language": "python",
   "name": "python3"
  },
  "language_info": {
   "codemirror_mode": {
    "name": "ipython",
    "version": 3
   },
   "file_extension": ".py",
   "mimetype": "text/x-python",
   "name": "python",
   "nbconvert_exporter": "python",
   "pygments_lexer": "ipython3",
   "version": "3.9.13"
  }
 },
 "nbformat": 4,
 "nbformat_minor": 5
}
