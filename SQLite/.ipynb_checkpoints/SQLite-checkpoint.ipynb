{
 "cells": [
  {
   "cell_type": "code",
   "execution_count": 2,
   "id": "477a7402",
   "metadata": {},
   "outputs": [],
   "source": [
    "import sqlite3"
   ]
  },
  {
   "cell_type": "code",
   "execution_count": 3,
   "id": "8ed5e0a9",
   "metadata": {},
   "outputs": [],
   "source": [
    "db=sqlite3.connect(\"Employee.sqlite\")"
   ]
  },
  {
   "cell_type": "raw",
   "id": "c172c488",
   "metadata": {},
   "source": []
  },
  {
   "cell_type": "raw",
   "id": "e5b74895",
   "metadata": {},
   "source": []
  }
 ],
 "metadata": {
  "kernelspec": {
   "display_name": "Python 3 (ipykernel)",
   "language": "python",
   "name": "python3"
  },
  "language_info": {
   "codemirror_mode": {
    "name": "ipython",
    "version": 3
   },
   "file_extension": ".py",
   "mimetype": "text/x-python",
   "name": "python",
   "nbconvert_exporter": "python",
   "pygments_lexer": "ipython3",
   "version": "3.9.13"
  }
 },
 "nbformat": 4,
 "nbformat_minor": 5
}
