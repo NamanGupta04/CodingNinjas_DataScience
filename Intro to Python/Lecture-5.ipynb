{
 "cells": [
  {
   "cell_type": "markdown",
   "id": "a6d687ef",
   "metadata": {},
   "source": [
    "## Lecture-5 : More on Loops\n"
   ]
  },
  {
   "cell_type": "markdown",
   "id": "813860ea",
   "metadata": {},
   "source": [
    "#### Q1. Write a program to print first x terms of the series 3N + 2 which are not multiples of 4."
   ]
  },
  {
   "cell_type": "code",
   "execution_count": null,
   "id": "87729cb5",
   "metadata": {},
   "outputs": [
    {
     "name": "stdout",
     "output_type": "stream",
     "text": [
      "10\n",
      "5 "
     ]
    }
   ],
   "source": [
    "## Read input as specified in the question.\n",
    "## Print output as specified in the question.\n",
    "x=int(input())\n",
    "i=1\n",
    "while i<=x:\n",
    "    n=(3*i+2)\n",
    "    if n%4==0:\n",
    "        continue\n",
    "    else:\n",
    "        print(n,end=\" \")\n",
    "        i+=1"
   ]
  },
  {
   "cell_type": "markdown",
   "id": "ae6e4ee6",
   "metadata": {},
   "source": [
    "#### Q2. Write a program that asks the user for a number N and a choice C. And then give them the possibility to choose between computing the sum and computing the product of all integers in the range 1 to N (both inclusive).\n",
    "If C is equal to -\n",
    " 1. then print the sum\n",
    " 2. then print the product\n",
    " 3. Any other number, then print '-1' (without the quotes)"
   ]
  },
  {
   "cell_type": "code",
   "execution_count": null,
   "id": "d0f36d28",
   "metadata": {},
   "outputs": [],
   "source": [
    "N=int(input())\n",
    "C=int(input())\n",
    "if C==1:\n",
    "    Sum=0\n",
    "    for i in range(N+1):\n",
    "        Sum+=i\n",
    "    print(Sum)\n",
    "if C==2:\n",
    "    product=1\n",
    "    for j in range(N,1,-1):\n",
    "        product*=j\n",
    "    print(product)\n",
    "if C>2:\n",
    "    print(\"-1\")"
   ]
  },
  {
   "cell_type": "markdown",
   "id": "51d7c3c9",
   "metadata": {},
   "source": []
  },
  {
   "cell_type": "code",
   "execution_count": 3,
   "id": "f84216e8",
   "metadata": {},
   "outputs": [
    {
     "name": "stdout",
     "output_type": "stream",
     "text": [
      "1 2 4 5 1 2 4 5 "
     ]
    }
   ],
   "source": [
    "i=1\n",
    "while i<3:\n",
    "    j=0\n",
    "    while j<5:\n",
    "        j = j +1\n",
    "        if j==3:\n",
    "            continue\n",
    "        print(j, end = \" \")\n",
    "    i = i +1"
   ]
  },
  {
   "cell_type": "markdown",
   "id": "550ed743",
   "metadata": {},
   "source": [
    "####  Q3.Given a decimal number (integer N), convert it into binary and print.\n",
    "Note: The given input number could be large, so the corresponding binary number can exceed the integer range. So you may want to take the answer as long for CPP and Java."
   ]
  },
  {
   "cell_type": "code",
   "execution_count": 1,
   "id": "f9177c7b",
   "metadata": {},
   "outputs": [
    {
     "name": "stdout",
     "output_type": "stream",
     "text": [
      "12\n",
      "1100"
     ]
    }
   ],
   "source": [
    "def DecimalToBinary(num): \n",
    "    if num==0:\n",
    "        pass\n",
    "    if num >= 1:\n",
    "        DecimalToBinary(num // 2)\n",
    "        print(num % 2, end = '')\n",
    "N=int(input())\n",
    "if N==0:\n",
    "    print(0)\n",
    "else:\n",
    "    DecimalToBinary(N)"
   ]
  },
  {
   "cell_type": "markdown",
   "id": "f90d3ed5",
   "metadata": {},
   "source": [
    "#### Q4.Given a binary number as an integer N, convert it into decimal and print."
   ]
  },
  {
   "cell_type": "code",
   "execution_count": 2,
   "id": "55f7f8fb",
   "metadata": {},
   "outputs": [
    {
     "name": "stdout",
     "output_type": "stream",
     "text": [
      "110011\n",
      "51\n"
     ]
    }
   ],
   "source": [
    "binary_number=input()\n",
    "binary_number = binary_number[::-1]  \n",
    "decimal_number = 0  \n",
    "for i in range(len(binary_number)):  \n",
    "    digit = int(binary_number[i])  \n",
    "    power = 2 ** i  \n",
    "    result = digit * power  \n",
    "    decimal_number += result  \n",
    "print(decimal_number)    "
   ]
  },
  {
   "cell_type": "markdown",
   "id": "d019a3cd",
   "metadata": {},
   "source": [
    "#### Q5.Given a number N find the sum of all the even valued terms in the fibonacci sequence less than or equal to N. Try generating only even fibonacci numbers instead of iterating over all Fibonacci numbers."
   ]
  },
  {
   "cell_type": "code",
   "execution_count": 34,
   "id": "f2d8a2c7",
   "metadata": {},
   "outputs": [
    {
     "name": "stdout",
     "output_type": "stream",
     "text": [
      "20\n",
      "10\n"
     ]
    }
   ],
   "source": [
    "N=int(input())\n",
    "a,b=0,1\n",
    "Sum=0\n",
    "i=0\n",
    "c=0\n",
    "while c<=N and i<N-1:\n",
    "    c=a+b\n",
    "    a=b\n",
    "    b=c\n",
    "    if c%2==0 and c<=N:\n",
    "        Sum+=c\n",
    "    i+=1\n",
    "print(Sum)\n"
   ]
  },
  {
   "cell_type": "markdown",
   "id": "d771f087",
   "metadata": {},
   "source": [
    "#### Q6.Find and return number of trailing 0s in n factorial without calculating n factorial."
   ]
  },
  {
   "cell_type": "code",
   "execution_count": 31,
   "id": "7cbd590c",
   "metadata": {},
   "outputs": [
    {
     "name": "stdout",
     "output_type": "stream",
     "text": [
      "10\n",
      "2\n"
     ]
    }
   ],
   "source": [
    "n=int(input())\n",
    "count = 0\n",
    "while n >= 5:\n",
    "    n //= 5\n",
    "    count += n\n",
    "print(count)\n"
   ]
  },
  {
   "cell_type": "code",
   "execution_count": null,
   "id": "af6e8f64",
   "metadata": {},
   "outputs": [],
   "source": []
  }
 ],
 "metadata": {
  "kernelspec": {
   "display_name": "Python 3 (ipykernel)",
   "language": "python",
   "name": "python3"
  },
  "language_info": {
   "codemirror_mode": {
    "name": "ipython",
    "version": 3
   },
   "file_extension": ".py",
   "mimetype": "text/x-python",
   "name": "python",
   "nbconvert_exporter": "python",
   "pygments_lexer": "ipython3",
   "version": "3.9.13"
  }
 },
 "nbformat": 4,
 "nbformat_minor": 5
}
