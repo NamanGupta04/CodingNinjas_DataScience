{
 "cells": [
  {
   "cell_type": "markdown",
   "id": "8501bc2b",
   "metadata": {},
   "source": [
    "## Strings,List & 2D List"
   ]
  },
  {
   "cell_type": "code",
   "execution_count": 1,
   "id": "cfb633f5",
   "metadata": {},
   "outputs": [
    {
     "name": "stdout",
     "output_type": "stream",
     "text": [
      "abcd\n"
     ]
    }
   ],
   "source": [
    "s = \"abcd\"\n",
    "s.upper()\n",
    "print(s)      "
   ]
  },
  {
   "cell_type": "code",
   "execution_count": 2,
   "id": "6c8fc08f",
   "metadata": {},
   "outputs": [
    {
     "name": "stdout",
     "output_type": "stream",
     "text": [
      "o\n"
     ]
    }
   ],
   "source": [
    "str1 = 'hello'\n",
    "print(str1[-1:])"
   ]
  },
  {
   "cell_type": "code",
   "execution_count": 3,
   "id": "9bd372fd",
   "metadata": {},
   "outputs": [
    {
     "name": "stdout",
     "output_type": "stream",
     "text": [
      "gh\n"
     ]
    }
   ],
   "source": [
    "s = \"abcdefghi\"\n",
    "print(s[-3:-1])"
   ]
  },
  {
   "cell_type": "code",
   "execution_count": 5,
   "id": "94592686",
   "metadata": {},
   "outputs": [
    {
     "data": {
      "text/plain": [
       "['h', 'e', 'l', 'l', 'o']"
      ]
     },
     "execution_count": 5,
     "metadata": {},
     "output_type": "execute_result"
    }
   ],
   "source": [
    "list(\"hello\")"
   ]
  },
  {
   "cell_type": "markdown",
   "id": "d4c5a0c6",
   "metadata": {},
   "source": [
    "#### Q1.For a given array/list(ARR) of size 'N,' find and return the 'Equilibrium Index' of the array/list.\n",
    "Equilibrium Index of an array/list is an index 'i' such that the sum of elements at indices [0 to (i - 1)] is equal to the sum of elements at indices [(i + 1) to (N-1)]. One thing to note here is, the item at the index 'i' is not included in either part.\n",
    "If more than one equilibrium indices are present, then the index appearing first in left to right fashion should be returned. Negative one(-1) if no such index is present."
   ]
  },
  {
   "cell_type": "code",
   "execution_count": 6,
   "id": "fd1c3c2d",
   "metadata": {},
   "outputs": [
    {
     "data": {
      "text/plain": [
       "4"
      ]
     },
     "execution_count": 6,
     "metadata": {},
     "output_type": "execute_result"
    }
   ],
   "source": [
    "def arrayEquilibriumIndex(arr, n) :\n",
    "    #Your code goes here\n",
    "    total_sum = sum(arr)\n",
    "    leftsum = 0\n",
    "    for i, num in enumerate(arr):\n",
    "        #print(i,num)\n",
    "        total_sum -= num\n",
    "         \n",
    "        if leftsum == total_sum:\n",
    "            return i\n",
    "        leftsum += num\n",
    "      \n",
    "    return -1\n",
    "arrayEquilibriumIndex([6,1,6,5,3,2,5,0,5,6,0],11)"
   ]
  },
  {
   "cell_type": "markdown",
   "id": "37705675",
   "metadata": {},
   "source": [
    "#### Q2.Given a string, determine if it is a palindrome, considering only alphanumeric characters."
   ]
  },
  {
   "cell_type": "code",
   "execution_count": 7,
   "id": "8fc7c6e5",
   "metadata": {},
   "outputs": [
    {
     "name": "stdout",
     "output_type": "stream",
     "text": [
      "racecar\n",
      "true\n"
     ]
    }
   ],
   "source": [
    "str1=input()\n",
    "if str1[::]==str1[::-1]:\n",
    "    print(\"true\")\n",
    "else:\n",
    "    print(\"false\")"
   ]
  },
  {
   "cell_type": "markdown",
   "id": "10a46228",
   "metadata": {},
   "source": [
    "#### Q3.For a given input string(str), write a function to print all the possible substrings.\n",
    "Substring\n",
    "A substring is a contiguous sequence of characters within a string. \n",
    "Example: \"cod\" is a substring of \"coding\". Whereas, \"cdng\" is not as the characters taken are not contiguous"
   ]
  },
  {
   "cell_type": "code",
   "execution_count": 8,
   "id": "c00a3309",
   "metadata": {},
   "outputs": [
    {
     "name": "stdout",
     "output_type": "stream",
     "text": [
      "Naman\n",
      "N\n",
      "Na\n",
      "Nam\n",
      "Nama\n",
      "Naman\n",
      "a\n",
      "am\n",
      "ama\n",
      "aman\n",
      "m\n",
      "ma\n",
      "man\n",
      "a\n",
      "an\n",
      "n\n"
     ]
    }
   ],
   "source": [
    "str1=input()\n",
    "arr = [];  \n",
    "for i in range(0,len(str1)):  \n",
    "    for j in range(i,len(str1)):  \n",
    "        arr.append(str1[i:(j+1)]);  \n",
    "for i in arr:  \n",
    "    print(i) "
   ]
  },
  {
   "cell_type": "markdown",
   "id": "35ed787f",
   "metadata": {},
   "source": [
    "#### Q4.You have been given an array/list(ARR) of size N. You need to swap every pair of alternate elements in the array/list.\n",
    "You don't need to print or return anything, just change in the input array itself."
   ]
  },
  {
   "cell_type": "code",
   "execution_count": 9,
   "id": "215c2dc3",
   "metadata": {},
   "outputs": [
    {
     "data": {
      "text/plain": [
       "[3, 2, 5, 4, 7, 6]"
      ]
     },
     "execution_count": 9,
     "metadata": {},
     "output_type": "execute_result"
    }
   ],
   "source": [
    "def swapAlternate(arr, n) :\n",
    "    if n %2 == 0:\n",
    "        for i in range(0,n,2):\n",
    "            arr[i],arr[i+1]=arr[i+1],arr[i]\n",
    "        return arr\n",
    "    if n%2 != 0:\n",
    "        for i in range(0,n-1,2):\n",
    "            arr[i],arr[i+1]=arr[i+1],arr[i]\n",
    "        return arr\n",
    "swapAlternate([2,3,4,5,6,7],6)"
   ]
  },
  {
   "cell_type": "markdown",
   "id": "6a68e807",
   "metadata": {},
   "source": [
    "## 2D List"
   ]
  },
  {
   "cell_type": "markdown",
   "id": "ec2da9d2",
   "metadata": {},
   "source": [
    "### 1st way to create 2D list"
   ]
  },
  {
   "cell_type": "code",
   "execution_count": 12,
   "id": "4017ed69",
   "metadata": {},
   "outputs": [
    {
     "name": "stdout",
     "output_type": "stream",
     "text": [
      "2 3\n",
      "1 2 3\n",
      "4 5 6\n"
     ]
    },
    {
     "data": {
      "text/plain": [
       "[[1, 2, 3], [4, 5, 6]]"
      ]
     },
     "execution_count": 12,
     "metadata": {},
     "output_type": "execute_result"
    }
   ],
   "source": [
    "sizes = input().split()\n",
    "m = int(sizes[0])\n",
    "n = int(sizes[1])\n",
    "l = []\n",
    "for i in range(m):\n",
    "    next_row = [int(i) for i in input().split()]\n",
    "    l.append(next_row)\n",
    "l"
   ]
  },
  {
   "cell_type": "markdown",
   "id": "7151310a",
   "metadata": {},
   "source": [
    "### 2nd way to create 2D list"
   ]
  },
  {
   "cell_type": "code",
   "execution_count": 14,
   "id": "d9de18e8",
   "metadata": {},
   "outputs": [
    {
     "name": "stdout",
     "output_type": "stream",
     "text": [
      "2 3\n",
      "1\n",
      "2\n",
      "3\n",
      "4\n",
      "5\n",
      "6\n"
     ]
    },
    {
     "data": {
      "text/plain": [
       "[[1, 2, 3], [4, 5, 6]]"
      ]
     },
     "execution_count": 14,
     "metadata": {},
     "output_type": "execute_result"
    }
   ],
   "source": [
    "sizes = input().split()\n",
    "m = int(sizes[0])\n",
    "n = int(sizes[1])\n",
    "l = []\n",
    "for i in range(m):\n",
    "    next_row = []\n",
    "    for j in range(n):\n",
    "        element = int(input())\n",
    "        next_row.append(element)\n",
    "    l.append(next_row)\n",
    "l"
   ]
  },
  {
   "cell_type": "markdown",
   "id": "2b698905",
   "metadata": {},
   "source": [
    "### 3rd way to create 2D list"
   ]
  },
  {
   "cell_type": "code",
   "execution_count": 15,
   "id": "852cd583",
   "metadata": {},
   "outputs": [
    {
     "name": "stdout",
     "output_type": "stream",
     "text": [
      "2 3\n",
      "1 2 3 4 5 6 7\n"
     ]
    },
    {
     "data": {
      "text/plain": [
       "[[1, 2, 3], [4, 5, 6]]"
      ]
     },
     "execution_count": 15,
     "metadata": {},
     "output_type": "execute_result"
    }
   ],
   "source": [
    "sizes = input().split()\n",
    "m = int(sizes[0])\n",
    "n = int(sizes[1])\n",
    "l_1d = [int(i) for i in input().split()]\n",
    "l = []\n",
    "for i in range(m):\n",
    "    start_index = n * i\n",
    "    end_index = n * (i + 1)\n",
    "    next_row = l_1d[start_index:end_index]\n",
    "    l.append(next_row)\n",
    "l"
   ]
  },
  {
   "cell_type": "markdown",
   "id": "df6c0170",
   "metadata": {},
   "source": [
    "in 3rd way \"7\" is not included in the 2D list due to given parameters"
   ]
  },
  {
   "cell_type": "code",
   "execution_count": 16,
   "id": "40fc3e31",
   "metadata": {},
   "outputs": [
    {
     "name": "stdout",
     "output_type": "stream",
     "text": [
      "[11, 12, 13, 14, 10, 20, 30, 40, 50, 60, 70, 80, 90]\n"
     ]
    }
   ],
   "source": [
    "r = [11, 12, 13, 14]\n",
    "A = [[0, 10, 20],\n",
    "     [30, 40, 50],\n",
    "     [60, 70, 80]]\n",
    "for row in A:\n",
    "    for col in row:\n",
    "        r.append(col+10)\n",
    "print(r)"
   ]
  },
  {
   "cell_type": "code",
   "execution_count": 25,
   "id": "6b719165",
   "metadata": {},
   "outputs": [
    {
     "data": {
      "text/plain": [
       "[[0, 0], [1, 1], [2, 2], [3, 3]]"
      ]
     },
     "execution_count": 25,
     "metadata": {},
     "output_type": "execute_result"
    }
   ],
   "source": [
    "n=4\n",
    "a=[[int(i) for j in range(2)] for i in range(4)]\n",
    "a"
   ]
  },
  {
   "cell_type": "code",
   "execution_count": 46,
   "id": "41a64932",
   "metadata": {},
   "outputs": [
    {
     "name": "stdout",
     "output_type": "stream",
     "text": [
      "1 2\n"
     ]
    },
    {
     "data": {
      "text/plain": [
       "[1, 2]"
      ]
     },
     "execution_count": 46,
     "metadata": {},
     "output_type": "execute_result"
    }
   ],
   "source": [
    "l_1d = [int(i) for i in input().split()]\n",
    "l_1d"
   ]
  },
  {
   "cell_type": "code",
   "execution_count": 26,
   "id": "a08d303b",
   "metadata": {},
   "outputs": [
    {
     "name": "stdout",
     "output_type": "stream",
     "text": [
      "[0, 10, 20]\n"
     ]
    }
   ],
   "source": [
    "A = [[0, 10, 20],\n",
    "       [30, 40, 50],\n",
    "       [60, 70, 80]]\n",
    "\n",
    "print(A[0:2][0])"
   ]
  },
  {
   "cell_type": "code",
   "execution_count": 29,
   "id": "ee385d49",
   "metadata": {},
   "outputs": [
    {
     "name": "stdout",
     "output_type": "stream",
     "text": [
      "[10, 23, 56, [95]]\n"
     ]
    }
   ],
   "source": [
    "a = [10,23,56,[78]]\n",
    "b = list(a)\n",
    "a[3][0] = 95\n",
    "a[1] = 34\n",
    "print(b)"
   ]
  },
  {
   "cell_type": "code",
   "execution_count": 30,
   "id": "b9d9542a",
   "metadata": {},
   "outputs": [
    {
     "name": "stdout",
     "output_type": "stream",
     "text": [
      "[[0.5, 7], [1, 2], [3, 1.5]]\n"
     ]
    }
   ],
   "source": [
    "points = [[1, 2], [3, 1.5], [0.5,7]]\n",
    "points.sort()\n",
    "print(points)"
   ]
  },
  {
   "cell_type": "markdown",
   "id": "4e1ec8fb",
   "metadata": {},
   "source": [
    "#### Q5.For a given two-dimensional integer array/list of size (N x M), print the array/list in a sine wave order, i.e, print the first column top to bottom, next column bottom to top and so on."
   ]
  },
  {
   "cell_type": "code",
   "execution_count": 31,
   "id": "25d2d639",
   "metadata": {},
   "outputs": [],
   "source": [
    "def wavePrint(mat, nRows, mCols):\n",
    "    #Your code goes here\n",
    "    for j in range(mCols):\n",
    " \n",
    "        if (j % 2 == 0):\n",
    "            for i in range(nRows):\n",
    "                print(mat[i][j], end= \" \")\n",
    " \n",
    "        else:\n",
    "            for i in range(nRows-1 , -1, -1):\n",
    "                print(mat[i][j], end= \" \")"
   ]
  },
  {
   "cell_type": "markdown",
   "id": "cfb17de0",
   "metadata": {},
   "source": [
    "#### Q6.For a given string(str), remove all the consecutive duplicate characters.\n",
    "Example:\n",
    "Input String: \"aaaa\"\n",
    "Expected Output: \"a\"\n",
    "\n",
    "Input String: \"aabbbcc\"\n",
    "Expected Output: \"abc\""
   ]
  },
  {
   "cell_type": "code",
   "execution_count": 9,
   "id": "bb2c0d5e",
   "metadata": {},
   "outputs": [
    {
     "data": {
      "text/plain": [
       "'abc'"
      ]
     },
     "execution_count": 9,
     "metadata": {},
     "output_type": "execute_result"
    }
   ],
   "source": [
    "def removeConsecutiveDuplicates(s) :\n",
    "# Your code goes here\n",
    "    s=s+\" \"\n",
    "    d=\"\"\n",
    "    for i in range(len(s)-1):\n",
    "        if s[i]!=s[i+1]:\n",
    "            d=d+s[i]\n",
    "    \n",
    "    return d \n",
    "removeConsecutiveDuplicates(\"aabbbcc\")"
   ]
  },
  {
   "cell_type": "markdown",
   "id": "97d37128",
   "metadata": {},
   "source": [
    "#### Q7.Aadil has been provided with a sentence in the form of a string as a function parameter. The task is to implement a function so as to print the sentence such that each word in the sentence is reversed.\n",
    "Example:\n",
    "Input Sentence: \"Hello, I am Aadil!\".\n",
    "The expected output will print, \",olleH I ma !lidaA\"."
   ]
  },
  {
   "cell_type": "code",
   "execution_count": 12,
   "id": "9f81a388",
   "metadata": {},
   "outputs": [
    {
     "data": {
      "text/plain": [
       "'olleH yM emaN si namaN '"
      ]
     },
     "execution_count": 12,
     "metadata": {},
     "output_type": "execute_result"
    }
   ],
   "source": [
    "def reverseEachWord(string) :\n",
    "    # Your code goes here\n",
    "    new=string.split()\n",
    "    str1=''\n",
    "    for i in range(len(new)):\n",
    "        sad=new[i][::-1]\n",
    "        str1=str1+sad+\" \"\n",
    "    return str1\n",
    "reverseEachWord(\"Hello My Name is Naman\")"
   ]
  },
  {
   "cell_type": "markdown",
   "id": "2e28c604",
   "metadata": {},
   "source": [
    "#### Q8. For a given a string(str), find and return the highest occurring character.\n",
    "Example:\n",
    "Input String: \"abcdeapapqarr\"\n",
    "Expected Output: 'a'\n",
    "Since 'a' has appeared four times in the string which happens to be the highest frequency character, the answer would be 'a'."
   ]
  },
  {
   "cell_type": "code",
   "execution_count": 1,
   "id": "e1bcf6cd",
   "metadata": {},
   "outputs": [
    {
     "data": {
      "text/plain": [
       "'h'"
      ]
     },
     "execution_count": 1,
     "metadata": {},
     "output_type": "execute_result"
    }
   ],
   "source": [
    "ASCII_SIZE = 256 \n",
    "def highestOccuringChar(s):\n",
    "    count = [0] * ASCII_SIZE \n",
    "    max = -1\n",
    "    c = '' \n",
    "    \n",
    "    for i in s: \n",
    "        count[ord(i)]+=1; \n",
    "    for i in s: \n",
    "        if max < count[ord(i)]: \n",
    "            max = count[ord(i)] \n",
    "            c = i \n",
    "    return c\n",
    "highestOccuringChar(\"highieghiuyeihhwiuhi\")"
   ]
  },
  {
   "cell_type": "markdown",
   "id": "a9644c44",
   "metadata": {},
   "source": [
    "#### Q9.Given an integer array A of size n. Find and print all the leaders present in the input array. An array element A[i] is called Leader, if all the elements following it (i.e. present at its right) are less than or equal to A[i].\n",
    "Print all the leader elements separated by space and in the same order they are present in the input array."
   ]
  },
  {
   "cell_type": "code",
   "execution_count": 7,
   "id": "261fa5a7",
   "metadata": {},
   "outputs": [
    {
     "name": "stdout",
     "output_type": "stream",
     "text": [
      "5\n",
      "5 4 3 2 6\n",
      "6 "
     ]
    }
   ],
   "source": [
    "def leaderprint(arr, n):\n",
    " \n",
    "    for i in range(0, n):\n",
    "        for j in range(i, n):\n",
    "            if (arr[i] < arr[j]):\n",
    "                break\n",
    "            if (j == n - 1):\n",
    "                print(arr[i],end=' ')\n",
    "\n",
    "num = int(input())\n",
    "arr = [int(x) for x in input().split()]\n",
    "n = len(arr)\n",
    "leaderprint(arr, n)"
   ]
  },
  {
   "cell_type": "markdown",
   "id": "be8c08e2",
   "metadata": {},
   "source": [
    "#### Q10.You have been given an empty array(ARR) and its size N. The only input taken from the user will be N and you need not worry about the array.\n",
    "Your task is to populate the array using the integer values in the range 1 to N(both inclusive) in the order - 1,3,5,.......,6,4,2."
   ]
  },
  {
   "cell_type": "code",
   "execution_count": 55,
   "id": "aa867ca0",
   "metadata": {},
   "outputs": [
    {
     "name": "stdout",
     "output_type": "stream",
     "text": [
      "2\n",
      "9\n",
      "3\n",
      "1 3 5 7 9 8 6 4 2 1 3 2 "
     ]
    }
   ],
   "source": [
    "def arrange(arr, n) :\n",
    "    #Your code goes here\n",
    "    arr=[]\n",
    "    for i in range(1,n+1,2):\n",
    "        arr.append(i)\n",
    "    if n%2==0:\n",
    "        for j in range(n,0,-2):\n",
    "            arr.append(j)\n",
    "    else:\n",
    "        for j in range(n-1,0,-2):\n",
    "            arr.append(j)           \n",
    "    for i in arr:\n",
    "        print(i,end=\" \")\n",
    "n=int(input())\n",
    "l=[]\n",
    "i=0\n",
    "while i<n:\n",
    "    a=int(input())\n",
    "    l.append(a)\n",
    "    i+=1\n",
    "arr=[]\n",
    "for i in range(len(l)):\n",
    "    if l[i]==0:\n",
    "        pass\n",
    "    else:\n",
    "        (arrange(arr,l[i]))"
   ]
  },
  {
   "cell_type": "markdown",
   "id": "a3e59e4b",
   "metadata": {},
   "source": [
    "#### Q11.Given an integer array A of size n. Find and print all the leaders present in the input array. An array element A[i] is called Leader, if all the elements following it (i.e. present at its right) are less than or equal to A[i].\n",
    "Print all the leader elements separated by space and in the same order they are present in the input array."
   ]
  },
  {
   "cell_type": "code",
   "execution_count": 2,
   "id": "9d1363f1",
   "metadata": {},
   "outputs": [
    {
     "name": "stdout",
     "output_type": "stream",
     "text": [
      "7\n",
      "1 5 4 8 1 9 4\n",
      "9 4 "
     ]
    }
   ],
   "source": [
    "def leaderprint(arr, n):\n",
    " \n",
    "    for i in range(0, n):\n",
    "        for j in range(i, n):\n",
    "            if (arr[i] < arr[j]):\n",
    "                break\n",
    "            if (j == n - 1):\n",
    "                print(arr[i],end=' ')\n",
    "\n",
    "num = int(input())\n",
    "arr = [int(x) for x in input().split()]\n",
    "n = len(arr)\n",
    "leaderprint(arr, n)"
   ]
  },
  {
   "cell_type": "markdown",
   "id": "7bc39220",
   "metadata": {},
   "source": [
    "#### Q12.Given 2 sorted arrays (in increasing order), find a path through the intersections that produces maximum sum and return the maximum sum.\n",
    "That is, we can switch from one array to another array only at common elements.\n",
    "If no intersection element is present, we need to take sum of all elements from the array with greater sum."
   ]
  },
  {
   "cell_type": "code",
   "execution_count": 3,
   "id": "bc3900f7",
   "metadata": {},
   "outputs": [
    {
     "name": "stdout",
     "output_type": "stream",
     "text": [
      "5\n",
      "1 4 5 6 8\n",
      "6\n",
      "2 5 6 7 8 9\n",
      "40\n"
     ]
    }
   ],
   "source": [
    "def maxSum(ar1, ar2, m, n):\n",
    "    i, j = 0, 0\n",
    "    result, sum1, sum2= 0, 0, 0\n",
    "    while (i < m and j < n): \n",
    "        if ar1[i] < ar2[j]: \n",
    "            sum1 += ar1[i] \n",
    "            i+=1 \n",
    "        elif ar1[i] > ar2[j]: \n",
    "            sum2 += ar2[j] \n",
    "            j+=1  \n",
    "        #intersection point\n",
    "        else:\n",
    "            result+= max(sum1,sum2) \n",
    "            sum1, sum2 = 0, 0\n",
    "            while (i < m and j < n and ar1[i]==ar2[j]): \n",
    "                result += ar1[i] \n",
    "                i+=1\n",
    "                j+=1\n",
    "    #no more intersection points\n",
    "    #rest numbers in subsequent array\n",
    "    while i < m: \n",
    "        sum1 += ar1[i] \n",
    "        i+=1\n",
    "    while j < n: \n",
    "        sum2 += ar2[j] \n",
    "        j+=1\n",
    "    result += max(sum1,sum2) \n",
    "    return result\n",
    "\n",
    "m = int(input())\n",
    "a1 = list(int(num) for num in input().strip().split())[:m]\n",
    "n = int(input())\n",
    "a2 = list(int(num) for num in input().strip().split())[:n]\n",
    "print(maxSum(a1,a2,m,n))"
   ]
  },
  {
   "cell_type": "markdown",
   "id": "433ead0f",
   "metadata": {},
   "source": [
    "#### Q13.For a given two-dimensional integer array/list of size (N x M), you need to find out which row or column has the largest sum(sum of all the elements in a row/column) amongst all the rows and columns. "
   ]
  },
  {
   "cell_type": "code",
   "execution_count": 5,
   "id": "f76835ba",
   "metadata": {},
   "outputs": [],
   "source": [
    "MIN_VALUE=-2147483648\n",
    "\n",
    "def findLargest(arr, nRows, mCols):\n",
    "    isRow =True\n",
    "    largestSum=MIN_VALUE\n",
    "    num=0\n",
    "    for i in range(nRows):\n",
    "        rowSum=0\n",
    "        for j in range(mCols):\n",
    "            rowSum+=arr[i][j]\n",
    "        if rowSum>largestSum:\n",
    "            largestSum=rowSum\n",
    "            num=i\n",
    "    for j in range(mCols):\n",
    "        colSum=0\n",
    "        for i in range(nRows):\n",
    "            colSum+=arr[i][j]\n",
    "        if colSum>largestSum:\n",
    "            largestSum=colSum\n",
    "            num=j\n",
    "            isRow=False\n",
    "    if isRow:\n",
    "        print(\"row \"+str(num)+\" \"+str(largestSum))\n",
    "    else:\n",
    "        print(\"column \"+str(num)+\" \"+str(largestSum))"
   ]
  },
  {
   "cell_type": "markdown",
   "id": "a79e41d7",
   "metadata": {},
   "source": [
    "#### Q14.For a given two-dimensional integer array/list of size (N x M), print it in a spiral form. That is, you need to print in the order followed for every iteration:\n",
    "a. First row(left to right)\n",
    "b. Last column(top to bottom)\n",
    "c. Last row(right to left)\n",
    "d. First column(bottom to top)"
   ]
  },
  {
   "cell_type": "code",
   "execution_count": 4,
   "id": "41bf1041",
   "metadata": {},
   "outputs": [
    {
     "name": "stdout",
     "output_type": "stream",
     "text": [
      "1\n",
      "4 4\n",
      "1 2 3 4\n",
      "5 6 7 8\n",
      "9 10 11 12\n",
      "13 14 15 16\n",
      "1 2 3 4 8 12 16 15 14 13 9 5 6 7 11 10 \n"
     ]
    }
   ],
   "source": [
    "def spiralPrint(twoDArr, nRows, mCols):\n",
    "    top=0\n",
    "    bottom=row-1\n",
    "    left=0\n",
    "    right=col-1\n",
    "    direction=0\n",
    "\n",
    "    while (top<=bottom) and (left<=right):\n",
    "\n",
    "        if (direction==0):\n",
    "            for i in range(left,right+1):\n",
    "                print(twoDArr[top][i],end=\" \")\n",
    "            top+=1\n",
    "            direction=1\n",
    "\n",
    "        elif (direction==1):\n",
    "            for i in range(top,bottom+1):\n",
    "                print(twoDArr[i][right],end=\" \")\n",
    "            right-=1\n",
    "            direction=2\n",
    "\n",
    "        elif (direction==2):\n",
    "            for i in range(right,left-1,-1):\n",
    "                print(twoDArr[bottom][i],end=\" \")\n",
    "            bottom-=1\n",
    "            direction=3\n",
    "\n",
    "        elif (direction==3):\n",
    "            for i in range(bottom,top-1,-1):\n",
    "                print(twoDArr[i][left],end=\" \")\n",
    "            left+=1\n",
    "            direction=0\n",
    "            \n",
    "for i in range(int(input())):\n",
    "    l=[int(i) for i in input().strip().split(\" \")]\n",
    "    row,col = l[0],l[1]\n",
    "    arr=[[int(i) for i in input().split()] for j in range(row)]\n",
    "    spiralPrint(arr,row,col)\n",
    "    print()"
   ]
  },
  {
   "cell_type": "code",
   "execution_count": 2,
   "id": "7119effa",
   "metadata": {},
   "outputs": [
    {
     "name": "stdout",
     "output_type": "stream",
     "text": [
      "7\n"
     ]
    }
   ],
   "source": [
    "a = {1:2,'list':[1,2],3:5}\n",
    "b = {4:5,3:7}\n",
    "a.update(b)\n",
    "print(a[3])"
   ]
  },
  {
   "cell_type": "code",
   "execution_count": 6,
   "id": "67698f26",
   "metadata": {},
   "outputs": [
    {
     "name": "stdout",
     "output_type": "stream",
     "text": [
      "[3, 5]\n"
     ]
    }
   ],
   "source": [
    "a = {1:2,'list':[1,2],3:5}\n",
    "a.pop('list')\n",
    "a['list'] = [3,5]\n",
    "print(a['list'])"
   ]
  },
  {
   "cell_type": "markdown",
   "id": "78b29f5f",
   "metadata": {},
   "source": [
    "#### Dictionary"
   ]
  },
  {
   "cell_type": "code",
   "execution_count": 12,
   "id": "88e30280",
   "metadata": {},
   "outputs": [
    {
     "name": "stdout",
     "output_type": "stream",
     "text": [
      "This\n",
      "is\n",
      "string\n",
      "having\n"
     ]
    }
   ],
   "source": [
    "s =\"This is word string having many many word\"\n",
    "def printKFreqWords(s,k):\n",
    "    words = s.split()\n",
    "    d={}\n",
    "    for w in words:\n",
    "        d[w]=d.get(w,0)+1\n",
    "    for w in d:\n",
    "        if d[w] ==k:\n",
    "            print(w)\n",
    "printKFreqWords(s,1)"
   ]
  },
  {
   "cell_type": "markdown",
   "id": "1d31315f",
   "metadata": {},
   "source": [
    "#### Sets "
   ]
  },
  {
   "cell_type": "code",
   "execution_count": null,
   "id": "08ac8683",
   "metadata": {},
   "outputs": [],
   "source": []
  }
 ],
 "metadata": {
  "kernelspec": {
   "display_name": "Python 3 (ipykernel)",
   "language": "python",
   "name": "python3"
  },
  "language_info": {
   "codemirror_mode": {
    "name": "ipython",
    "version": 3
   },
   "file_extension": ".py",
   "mimetype": "text/x-python",
   "name": "python",
   "nbconvert_exporter": "python",
   "pygments_lexer": "ipython3",
   "version": "3.9.13"
  }
 },
 "nbformat": 4,
 "nbformat_minor": 5
}
