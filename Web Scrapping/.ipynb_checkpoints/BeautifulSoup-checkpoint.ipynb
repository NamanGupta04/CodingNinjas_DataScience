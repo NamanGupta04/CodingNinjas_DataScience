{
 "cells": [
  {
   "cell_type": "code",
   "execution_count": null,
   "id": "41a7c61e",
   "metadata": {},
   "outputs": [],
   "source": [
    "pip install beautifulsoup4"
   ]
  },
  {
   "cell_type": "code",
   "execution_count": 1,
   "id": "06db99f4",
   "metadata": {},
   "outputs": [],
   "source": [
    "html = '<!DOCTYPE html>\\\n",
    "<html>\\\n",
    "<head>\\\n",
    "<title>Testing Web Page</title>\\\n",
    "</head>\\\n",
    "<body>\\\n",
    "<h1>Web Scraping</h1>\\\n",
    "<p class = \"abc\">\\\n",
    "Hello ! Good morning. Have a good Day !\\\n",
    "</p>\\\n",
    "<p id = \"def\" >\\\n",
    "<a href=\"https://codingninjas.in/\"> Coding Nnjas </a>\\\n",
    "</p>\\\n",
    "<p class = \"abc\">\\\n",
    "hello\\\n",
    "</p>\\\n",
    "</body>\\\n",
    "</html>'"
   ]
  },
  {
   "cell_type": "code",
   "execution_count": 3,
   "id": "355302b7",
   "metadata": {},
   "outputs": [],
   "source": [
    "from bs4 import BeautifulSoup"
   ]
  },
  {
   "cell_type": "code",
   "execution_count": 6,
   "id": "123d6275",
   "metadata": {},
   "outputs": [
    {
     "data": {
      "text/plain": [
       "<!DOCTYPE html>\n",
       "<html><head><title>Testing Web Page</title></head><body><h1>Web Scraping</h1><p class=\"abc\">Hello ! Good morning. Have a good Day !</p><p id=\"def\"><a href=\"https://codingninjas.in/\"> Coding Nnjas </a></p><p class=\"abc\">hello</p></body></html>"
      ]
     },
     "execution_count": 6,
     "metadata": {},
     "output_type": "execute_result"
    }
   ],
   "source": [
    "data = BeautifulSoup( html , 'html.parser' )\n",
    "data"
   ]
  },
  {
   "cell_type": "code",
   "execution_count": 7,
   "id": "64fa7f1f",
   "metadata": {},
   "outputs": [
    {
     "data": {
      "text/plain": [
       "bs4.BeautifulSoup"
      ]
     },
     "execution_count": 7,
     "metadata": {},
     "output_type": "execute_result"
    }
   ],
   "source": [
    "type(data)"
   ]
  },
  {
   "cell_type": "code",
   "execution_count": 8,
   "id": "07be3c9b",
   "metadata": {},
   "outputs": [
    {
     "name": "stdout",
     "output_type": "stream",
     "text": [
      "<!DOCTYPE html>\n",
      "<html>\n",
      " <head>\n",
      "  <title>\n",
      "   Testing Web Page\n",
      "  </title>\n",
      " </head>\n",
      " <body>\n",
      "  <h1>\n",
      "   Web Scraping\n",
      "  </h1>\n",
      "  <p class=\"abc\">\n",
      "   Hello ! Good morning. Have a good Day !\n",
      "  </p>\n",
      "  <p id=\"def\">\n",
      "   <a href=\"https://codingninjas.in/\">\n",
      "    Coding Nnjas\n",
      "   </a>\n",
      "  </p>\n",
      "  <p class=\"abc\">\n",
      "   hello\n",
      "  </p>\n",
      " </body>\n",
      "</html>\n"
     ]
    }
   ],
   "source": [
    "print(data.prettify())"
   ]
  },
  {
   "cell_type": "code",
   "execution_count": 9,
   "id": "add8621f",
   "metadata": {},
   "outputs": [
    {
     "name": "stdout",
     "output_type": "stream",
     "text": [
      "<title>Testing Web Page</title>\n",
      "title\n",
      "Testing Web Page\n"
     ]
    }
   ],
   "source": [
    "print(data.title)\n",
    "print(data.title.name)\n",
    "print(data.title.string)"
   ]
  },
  {
   "cell_type": "code",
   "execution_count": 11,
   "id": "7c4fd664",
   "metadata": {},
   "outputs": [
    {
     "name": "stdout",
     "output_type": "stream",
     "text": [
      "{}\n"
     ]
    }
   ],
   "source": [
    "print(data.attrs)"
   ]
  },
  {
   "cell_type": "code",
   "execution_count": 12,
   "id": "c2e833a2",
   "metadata": {},
   "outputs": [
    {
     "name": "stdout",
     "output_type": "stream",
     "text": [
      "{'class': ['abc']}\n"
     ]
    }
   ],
   "source": [
    "print(data.p.attrs)"
   ]
  },
  {
   "cell_type": "code",
   "execution_count": 14,
   "id": "69a66073",
   "metadata": {},
   "outputs": [
    {
     "data": {
      "text/plain": [
       "['abc']"
      ]
     },
     "execution_count": 14,
     "metadata": {},
     "output_type": "execute_result"
    }
   ],
   "source": [
    "data.p['class']"
   ]
  },
  {
   "cell_type": "code",
   "execution_count": 16,
   "id": "24e281f4",
   "metadata": {},
   "outputs": [
    {
     "data": {
      "text/plain": [
       "['abc']"
      ]
     },
     "execution_count": 16,
     "metadata": {},
     "output_type": "execute_result"
    }
   ],
   "source": [
    "data.p.get('class')"
   ]
  },
  {
   "cell_type": "code",
   "execution_count": 17,
   "id": "158bd7bb",
   "metadata": {},
   "outputs": [
    {
     "data": {
      "text/plain": [
       "'Testing Web PageWeb ScrapingHello ! Good morning. Have a good Day ! Coding Nnjas hello'"
      ]
     },
     "execution_count": 17,
     "metadata": {},
     "output_type": "execute_result"
    }
   ],
   "source": [
    "data.get_text()"
   ]
  },
  {
   "cell_type": "code",
   "execution_count": 18,
   "id": "845dee75",
   "metadata": {},
   "outputs": [],
   "source": [
    "data.find('r')"
   ]
  },
  {
   "cell_type": "code",
   "execution_count": 19,
   "id": "1e8b77cb",
   "metadata": {},
   "outputs": [
    {
     "data": {
      "text/plain": [
       "<p class=\"abc\">Hello ! Good morning. Have a good Day !</p>"
      ]
     },
     "execution_count": 19,
     "metadata": {},
     "output_type": "execute_result"
    }
   ],
   "source": [
    "data.find('p')"
   ]
  },
  {
   "cell_type": "code",
   "execution_count": 20,
   "id": "c8aa1051",
   "metadata": {},
   "outputs": [
    {
     "data": {
      "text/plain": [
       "[<p class=\"abc\">Hello ! Good morning. Have a good Day !</p>,\n",
       " <p id=\"def\"><a href=\"https://codingninjas.in/\"> Coding Nnjas </a></p>,\n",
       " <p class=\"abc\">hello</p>]"
      ]
     },
     "execution_count": 20,
     "metadata": {},
     "output_type": "execute_result"
    }
   ],
   "source": [
    "data.find_all('p')"
   ]
  },
  {
   "cell_type": "code",
   "execution_count": 21,
   "id": "5daedef2",
   "metadata": {},
   "outputs": [],
   "source": [
    "html1 = '<!DOCTYPE html><html><head><title>Learning Beautiful Soup</title></head>\\\n",
    "<body><h1> About Us </h1><div class = \"first_div\"><p>Coding Ninjas Website</p>\\\n",
    "<a href=\"https://www.codingninjas.in/\">Link to Coding Ninjas Website</a>\\\n",
    "<ul><li>This</li><li>is</li><li>an</li><li>unordered</li><li>list.</li></ul>\\\n",
    "</div><p id = \"template_p\">This is a template paragraph tag</p>\\\n",
    "<a href = \"https://www.facebook.com/codingninjas/\">\\\n",
    "This is the link of our Facebook Page</a></body></html>'"
   ]
  },
  {
   "cell_type": "code",
   "execution_count": 23,
   "id": "8e8e7e83",
   "metadata": {},
   "outputs": [],
   "source": [
    "data = BeautifulSoup(html1,'html.parser')"
   ]
  },
  {
   "cell_type": "code",
   "execution_count": 26,
   "id": "1f509869",
   "metadata": {},
   "outputs": [
    {
     "name": "stdout",
     "output_type": "stream",
     "text": [
      "<!DOCTYPE html>\n",
      "<html>\n",
      " <head>\n",
      "  <title>\n",
      "   Learning Beautiful Soup\n",
      "  </title>\n",
      " </head>\n",
      " <body>\n",
      "  <h1>\n",
      "   About Us\n",
      "  </h1>\n",
      "  <div class=\"first_div\">\n",
      "   <p>\n",
      "    Coding Ninjas Website\n",
      "   </p>\n",
      "   <a href=\"https://www.codingninjas.in/\">\n",
      "    Link to Coding Ninjas Website\n",
      "   </a>\n",
      "   <ul>\n",
      "    <li>\n",
      "     This\n",
      "    </li>\n",
      "    <li>\n",
      "     is\n",
      "    </li>\n",
      "    <li>\n",
      "     an\n",
      "    </li>\n",
      "    <li>\n",
      "     unordered\n",
      "    </li>\n",
      "    <li>\n",
      "     list.\n",
      "    </li>\n",
      "   </ul>\n",
      "  </div>\n",
      "  <p id=\"template_p\">\n",
      "   This is a template paragraph tag\n",
      "  </p>\n",
      "  <a href=\"https://www.facebook.com/codingninjas/\">\n",
      "   This is the link of our Facebook Page\n",
      "  </a>\n",
      " </body>\n",
      "</html>\n"
     ]
    }
   ],
   "source": [
    "print(data.prettify())"
   ]
  },
  {
   "cell_type": "code",
   "execution_count": 28,
   "id": "6f31d6b0",
   "metadata": {},
   "outputs": [
    {
     "name": "stdout",
     "output_type": "stream",
     "text": [
      "[<h1> About Us </h1>, <div class=\"first_div\"><p>Coding Ninjas Website</p><a href=\"https://www.codingninjas.in/\">Link to Coding Ninjas Website</a><ul><li>This</li><li>is</li><li>an</li><li>unordered</li><li>list.</li></ul></div>, <p>Coding Ninjas Website</p>, <a href=\"https://www.codingninjas.in/\">Link to Coding Ninjas Website</a>, <ul><li>This</li><li>is</li><li>an</li><li>unordered</li><li>list.</li></ul>, <li>This</li>, <li>is</li>, <li>an</li>, <li>unordered</li>, <li>list.</li>, <p id=\"template_p\">This is a template paragraph tag</p>, <a href=\"https://www.facebook.com/codingninjas/\">This is the link of our Facebook Page</a>]\n"
     ]
    }
   ],
   "source": [
    "print(data.body())"
   ]
  },
  {
   "cell_type": "code",
   "execution_count": 29,
   "id": "4cd40a04",
   "metadata": {},
   "outputs": [
    {
     "name": "stdout",
     "output_type": "stream",
     "text": [
      "<body><h1> About Us </h1><div class=\"first_div\"><p>Coding Ninjas Website</p><a href=\"https://www.codingninjas.in/\">Link to Coding Ninjas Website</a><ul><li>This</li><li>is</li><li>an</li><li>unordered</li><li>list.</li></ul></div><p id=\"template_p\">This is a template paragraph tag</p><a href=\"https://www.facebook.com/codingninjas/\">This is the link of our Facebook Page</a></body>\n"
     ]
    }
   ],
   "source": [
    "print(data.find('body'))"
   ]
  },
  {
   "cell_type": "code",
   "execution_count": 33,
   "id": "2b0e7667",
   "metadata": {},
   "outputs": [
    {
     "name": "stdout",
     "output_type": "stream",
     "text": [
      "class\n"
     ]
    }
   ],
   "source": [
    "attr = data.div.attrs\n",
    "for i in attr:\n",
    "    print(i)"
   ]
  },
  {
   "cell_type": "code",
   "execution_count": 40,
   "id": "f852154e",
   "metadata": {},
   "outputs": [
    {
     "name": "stdout",
     "output_type": "stream",
     "text": [
      "This is an unordered list. "
     ]
    }
   ],
   "source": [
    "l = data.find_all('li')\n",
    "for i in l :\n",
    "    print(i.string,end = ' ')"
   ]
  },
  {
   "cell_type": "code",
   "execution_count": 44,
   "id": "9a03f5f8",
   "metadata": {},
   "outputs": [
    {
     "name": "stdout",
     "output_type": "stream",
     "text": [
      "https://www.codingninjas.in/\n",
      "https://www.facebook.com/codingninjas/\n"
     ]
    }
   ],
   "source": [
    "a = data.find_all('a')\n",
    "for i in a :\n",
    "    print(i.attrs['href'])"
   ]
  },
  {
   "cell_type": "code",
   "execution_count": 45,
   "id": "7836e15d",
   "metadata": {},
   "outputs": [
    {
     "data": {
      "text/plain": [
       "[<p>Coding Ninjas Website</p>,\n",
       " <a href=\"https://www.codingninjas.in/\">Link to Coding Ninjas Website</a>,\n",
       " <p id=\"template_p\">This is a template paragraph tag</p>,\n",
       " <a href=\"https://www.facebook.com/codingninjas/\">This is the link of our Facebook Page</a>]"
      ]
     },
     "execution_count": 45,
     "metadata": {},
     "output_type": "execute_result"
    }
   ],
   "source": [
    "data.find_all(['a','p'])"
   ]
  },
  {
   "cell_type": "code",
   "execution_count": 46,
   "id": "b5102146",
   "metadata": {},
   "outputs": [
    {
     "data": {
      "text/plain": [
       "[<html><head><title>Learning Beautiful Soup</title></head><body><h1> About Us </h1><div class=\"first_div\"><p>Coding Ninjas Website</p><a href=\"https://www.codingninjas.in/\">Link to Coding Ninjas Website</a><ul><li>This</li><li>is</li><li>an</li><li>unordered</li><li>list.</li></ul></div><p id=\"template_p\">This is a template paragraph tag</p><a href=\"https://www.facebook.com/codingninjas/\">This is the link of our Facebook Page</a></body></html>,\n",
       " <head><title>Learning Beautiful Soup</title></head>,\n",
       " <title>Learning Beautiful Soup</title>,\n",
       " <body><h1> About Us </h1><div class=\"first_div\"><p>Coding Ninjas Website</p><a href=\"https://www.codingninjas.in/\">Link to Coding Ninjas Website</a><ul><li>This</li><li>is</li><li>an</li><li>unordered</li><li>list.</li></ul></div><p id=\"template_p\">This is a template paragraph tag</p><a href=\"https://www.facebook.com/codingninjas/\">This is the link of our Facebook Page</a></body>,\n",
       " <h1> About Us </h1>,\n",
       " <div class=\"first_div\"><p>Coding Ninjas Website</p><a href=\"https://www.codingninjas.in/\">Link to Coding Ninjas Website</a><ul><li>This</li><li>is</li><li>an</li><li>unordered</li><li>list.</li></ul></div>,\n",
       " <p>Coding Ninjas Website</p>,\n",
       " <a href=\"https://www.codingninjas.in/\">Link to Coding Ninjas Website</a>,\n",
       " <ul><li>This</li><li>is</li><li>an</li><li>unordered</li><li>list.</li></ul>,\n",
       " <li>This</li>,\n",
       " <li>is</li>,\n",
       " <li>an</li>,\n",
       " <li>unordered</li>,\n",
       " <li>list.</li>,\n",
       " <p id=\"template_p\">This is a template paragraph tag</p>,\n",
       " <a href=\"https://www.facebook.com/codingninjas/\">This is the link of our Facebook Page</a>]"
      ]
     },
     "execution_count": 46,
     "metadata": {},
     "output_type": "execute_result"
    }
   ],
   "source": [
    "data.find_all(True)"
   ]
  },
  {
   "cell_type": "code",
   "execution_count": 47,
   "id": "c51901b7",
   "metadata": {},
   "outputs": [
    {
     "data": {
      "text/plain": [
       "[<p id=\"template_p\">This is a template paragraph tag</p>]"
      ]
     },
     "execution_count": 47,
     "metadata": {},
     "output_type": "execute_result"
    }
   ],
   "source": [
    "data.find_all(id = 'template_p')"
   ]
  },
  {
   "cell_type": "markdown",
   "id": "1bfe9e7b",
   "metadata": {},
   "source": [
    "###### for CSS Selectors USE :- data.select(\"tag_name\")"
   ]
  },
  {
   "cell_type": "code",
   "execution_count": 51,
   "id": "0262849d",
   "metadata": {},
   "outputs": [
    {
     "name": "stdout",
     "output_type": "stream",
     "text": [
      "['Coding Ninjas Website']\n",
      "['This is a template paragraph tag']\n"
     ]
    }
   ],
   "source": [
    "li = data.find_all('p')\n",
    "for i in li:\n",
    "    print(list(i.strings)) # when multiple strings present in more than one child tag"
   ]
  },
  {
   "cell_type": "code",
   "execution_count": 53,
   "id": "f6220e82",
   "metadata": {},
   "outputs": [
    {
     "name": "stdout",
     "output_type": "stream",
     "text": [
      "Coding Ninjas Website\n",
      "This is a template paragraph tag\n"
     ]
    }
   ],
   "source": [
    "for i in li:\n",
    "    print(i.string) # when string present in child tag"
   ]
  },
  {
   "cell_type": "code",
   "execution_count": 55,
   "id": "e920e470",
   "metadata": {},
   "outputs": [
    {
     "name": "stdout",
     "output_type": "stream",
     "text": [
      "['Coding Ninjas Website']\n",
      "['This is a template paragraph tag']\n"
     ]
    }
   ],
   "source": [
    "for i in li:\n",
    "    print(list(i.stripped_strings)) # remove extra spaces if present in the string "
   ]
  },
  {
   "cell_type": "code",
   "execution_count": 56,
   "id": "170fad9a",
   "metadata": {},
   "outputs": [
    {
     "name": "stdout",
     "output_type": "stream",
     "text": [
      "11\n"
     ]
    }
   ],
   "source": [
    "from bs4 import BeautifulSoup\n",
    "data = BeautifulSoup(html, 'html.parser')\n",
    "child = list(data.html.children)\n",
    "desc = list(data.html.descendants)\n",
    "print(len(desc)-len(child))"
   ]
  },
  {
   "cell_type": "code",
   "execution_count": 68,
   "id": "77ffa2d2",
   "metadata": {},
   "outputs": [
    {
     "name": "stdout",
     "output_type": "stream",
     "text": [
      "p\n"
     ]
    }
   ],
   "source": [
    "li = data.find_all(id = True)\n",
    "for i in li:\n",
    "    print(i.name)"
   ]
  },
  {
   "cell_type": "code",
   "execution_count": 69,
   "id": "a1712dda",
   "metadata": {},
   "outputs": [],
   "source": [
    "html = '<!DOCTYPE html><html><head><title>Navigate Parse Tree</title></head>\\\n",
    "<body><h1>This is your Assignment</h1><a href = \"https://www.google.com\">This is a link that will take you to Google</a>\\\n",
    "<ul><li><p> This question is given to test your knowledge of <b>Web Scraping</b></p>\\\n",
    "<p>Web scraping is a term used to describe the use of a program or algorithm to extract and process large amounts of data from the web.</p></li>\\\n",
    "<li id = \"li2\">This is an li tag given to you for scraping</li>\\\n",
    "<li>This li tag gives you the various ways to get data from a website\\\n",
    "<ol><li class = \"list_or\">Using API of the website</li><li>Scrape data using BeautifulSoup</li><li>Scrape data using Selenium</li>\\\n",
    "<li>Scrape data using Scrapy</li></ol></li>\\\n",
    "<li class = \"list_or\"><a href=\"https://www.crummy.com/software/BeautifulSoup/bs4/doc/\">\\\n",
    "Clicking on this takes you to the documentation of BeautifulSoup</a>\\\n",
    "<a href=\"https://selenium-python.readthedocs.io/\" id=\"anchor\">Clicking on this takes you to the documentation of Selenium</a>\\\n",
    "</li></ul></body></html>'"
   ]
  },
  {
   "cell_type": "code",
   "execution_count": 71,
   "id": "ffd2cc42",
   "metadata": {},
   "outputs": [
    {
     "name": "stdout",
     "output_type": "stream",
     "text": [
      "<!DOCTYPE html>\n",
      "<html>\n",
      " <head>\n",
      "  <title>\n",
      "   Navigate Parse Tree\n",
      "  </title>\n",
      " </head>\n",
      " <body>\n",
      "  <h1>\n",
      "   This is your Assignment\n",
      "  </h1>\n",
      "  <a href=\"https://www.google.com\">\n",
      "   This is a link that will take you to Google\n",
      "  </a>\n",
      "  <ul>\n",
      "   <li>\n",
      "    <p>\n",
      "     This question is given to test your knowledge of\n",
      "     <b>\n",
      "      Web Scraping\n",
      "     </b>\n",
      "    </p>\n",
      "    <p>\n",
      "     Web scraping is a term used to describe the use of a program or algorithm to extract and process large amounts of data from the web.\n",
      "    </p>\n",
      "   </li>\n",
      "   <li id=\"li2\">\n",
      "    This is an li tag given to you for scraping\n",
      "   </li>\n",
      "   <li>\n",
      "    This li tag gives you the various ways to get data from a website\n",
      "    <ol>\n",
      "     <li class=\"list_or\">\n",
      "      Using API of the website\n",
      "     </li>\n",
      "     <li>\n",
      "      Scrape data using BeautifulSoup\n",
      "     </li>\n",
      "     <li>\n",
      "      Scrape data using Selenium\n",
      "     </li>\n",
      "     <li>\n",
      "      Scrape data using Scrapy\n",
      "     </li>\n",
      "    </ol>\n",
      "   </li>\n",
      "   <li class=\"list_or\">\n",
      "    <a href=\"https://www.crummy.com/software/BeautifulSoup/bs4/doc/\">\n",
      "     Clicking on this takes you to the documentation of BeautifulSoup\n",
      "    </a>\n",
      "    <a href=\"https://selenium-python.readthedocs.io/\" id=\"anchor\">\n",
      "     Clicking on this takes you to the documentation of Selenium\n",
      "    </a>\n",
      "   </li>\n",
      "  </ul>\n",
      " </body>\n",
      "</html>\n"
     ]
    }
   ],
   "source": [
    "data = BeautifulSoup(html , 'html.parser')\n",
    "print(data.prettify())"
   ]
  },
  {
   "cell_type": "code",
   "execution_count": 85,
   "id": "7ab64813",
   "metadata": {},
   "outputs": [
    {
     "name": "stdout",
     "output_type": "stream",
     "text": [
      "<li>This li tag gives you the various ways to get data from a website<ol><li class=\"list_or\">Using API of the website</li><li>Scrape data using BeautifulSoup</li><li>Scrape data using Selenium</li><li>Scrape data using Scrapy</li></ol></li>/n<li class=\"list_or\"><a href=\"https://www.crummy.com/software/BeautifulSoup/bs4/doc/\">Clicking on this takes you to the documentation of BeautifulSoup</a><a href=\"https://selenium-python.readthedocs.io/\" id=\"anchor\">Clicking on this takes you to the documentation of Selenium</a></li>/n"
     ]
    }
   ],
   "source": [
    "l = data.find(id ='li2').next_siblings\n",
    "for i in l:\n",
    "    print(i)"
   ]
  },
  {
   "cell_type": "code",
   "execution_count": 86,
   "id": "bab783cd",
   "metadata": {},
   "outputs": [],
   "source": [
    "html = '<!DOCTYPE html><html><head><title>Navigate Parse Tree</title></head>\\\n",
    "<body><h1>This is your Assignment</h1><a href = \"https://www.google.com\">This is a link that will take you to Google</a>\\\n",
    "<ul><li><p> This question is given to test your knowledge of <b>Web Scraping</b></p>\\\n",
    "<p>Web scraping is a term used to describe the use of a program or algorithm to extract and process large amounts of data from the web.</p></li>\\\n",
    "<li id = \"li2\">This is an li tag given to you for scraping</li>\\\n",
    "<li>This li tag gives you the various ways to get data from a website\\\n",
    "<ol><li class = \"list_or\">Using API of the website</li><li>Scrape data using BeautifulSoup</li><li>Scrape data using Selenium</li>\\\n",
    "<li>Scrape data using Scrapy</li></ol></li>\\\n",
    "<li class = \"list_or\"><a href=\"https://www.crummy.com/software/BeautifulSoup/bs4/doc/\">\\\n",
    "Clicking on this takes you to the documentation of BeautifulSoup</a>\\\n",
    "<a href=\"https://selenium-python.readthedocs.io/\" id=\"anchor\">Clicking on this takes you to the documentation of Selenium</a>\\\n",
    "</li></ul></body></html>'"
   ]
  },
  {
   "cell_type": "code",
   "execution_count": 87,
   "id": "1221d54f",
   "metadata": {},
   "outputs": [
    {
     "name": "stdout",
     "output_type": "stream",
     "text": [
      "<!DOCTYPE html>\n",
      "<html>\n",
      " <head>\n",
      "  <title>\n",
      "   Navigate Parse Tree\n",
      "  </title>\n",
      " </head>\n",
      " <body>\n",
      "  <h1>\n",
      "   This is your Assignment\n",
      "  </h1>\n",
      "  <a href=\"https://www.google.com\">\n",
      "   This is a link that will take you to Google\n",
      "  </a>\n",
      "  <ul>\n",
      "   <li>\n",
      "    <p>\n",
      "     This question is given to test your knowledge of\n",
      "     <b>\n",
      "      Web Scraping\n",
      "     </b>\n",
      "    </p>\n",
      "    <p>\n",
      "     Web scraping is a term used to describe the use of a program or algorithm to extract and process large amounts of data from the web.\n",
      "    </p>\n",
      "   </li>\n",
      "   <li id=\"li2\">\n",
      "    This is an li tag given to you for scraping\n",
      "   </li>\n",
      "   <li>\n",
      "    This li tag gives you the various ways to get data from a website\n",
      "    <ol>\n",
      "     <li class=\"list_or\">\n",
      "      Using API of the website\n",
      "     </li>\n",
      "     <li>\n",
      "      Scrape data using BeautifulSoup\n",
      "     </li>\n",
      "     <li>\n",
      "      Scrape data using Selenium\n",
      "     </li>\n",
      "     <li>\n",
      "      Scrape data using Scrapy\n",
      "     </li>\n",
      "    </ol>\n",
      "   </li>\n",
      "   <li class=\"list_or\">\n",
      "    <a href=\"https://www.crummy.com/software/BeautifulSoup/bs4/doc/\">\n",
      "     Clicking on this takes you to the documentation of BeautifulSoup\n",
      "    </a>\n",
      "    <a href=\"https://selenium-python.readthedocs.io/\" id=\"anchor\">\n",
      "     Clicking on this takes you to the documentation of Selenium\n",
      "    </a>\n",
      "   </li>\n",
      "  </ul>\n",
      " </body>\n",
      "</html>\n"
     ]
    }
   ],
   "source": [
    "data = BeautifulSoup(html , 'html.parser')\n",
    "print(data.prettify())"
   ]
  },
  {
   "cell_type": "code",
   "execution_count": 88,
   "id": "05f75fdc",
   "metadata": {},
   "outputs": [
    {
     "name": "stdout",
     "output_type": "stream",
     "text": [
      "<head><title>Navigate Parse Tree</title></head>\n",
      "<html><head><title>Navigate Parse Tree</title></head><body><h1>This is your Assignment</h1><a href=\"https://www.google.com\">This is a link that will take you to Google</a><ul><li><p> This question is given to test your knowledge of <b>Web Scraping</b></p><p>Web scraping is a term used to describe the use of a program or algorithm to extract and process large amounts of data from the web.</p></li><li id=\"li2\">This is an li tag given to you for scraping</li><li>This li tag gives you the various ways to get data from a website<ol><li class=\"list_or\">Using API of the website</li><li>Scrape data using BeautifulSoup</li><li>Scrape data using Selenium</li><li>Scrape data using Scrapy</li></ol></li><li class=\"list_or\"><a href=\"https://www.crummy.com/software/BeautifulSoup/bs4/doc/\">Clicking on this takes you to the documentation of BeautifulSoup</a><a href=\"https://selenium-python.readthedocs.io/\" id=\"anchor\">Clicking on this takes you to the documentation of Selenium</a></li></ul></body></html>\n",
      "<!DOCTYPE html>\n",
      "<html><head><title>Navigate Parse Tree</title></head><body><h1>This is your Assignment</h1><a href=\"https://www.google.com\">This is a link that will take you to Google</a><ul><li><p> This question is given to test your knowledge of <b>Web Scraping</b></p><p>Web scraping is a term used to describe the use of a program or algorithm to extract and process large amounts of data from the web.</p></li><li id=\"li2\">This is an li tag given to you for scraping</li><li>This li tag gives you the various ways to get data from a website<ol><li class=\"list_or\">Using API of the website</li><li>Scrape data using BeautifulSoup</li><li>Scrape data using Selenium</li><li>Scrape data using Scrapy</li></ol></li><li class=\"list_or\"><a href=\"https://www.crummy.com/software/BeautifulSoup/bs4/doc/\">Clicking on this takes you to the documentation of BeautifulSoup</a><a href=\"https://selenium-python.readthedocs.io/\" id=\"anchor\">Clicking on this takes you to the documentation of Selenium</a></li></ul></body></html>\n"
     ]
    }
   ],
   "source": [
    "l = data.title\n",
    "for i in l.parents:\n",
    "    print(i)"
   ]
  },
  {
   "cell_type": "code",
   "execution_count": 90,
   "id": "64fd3464",
   "metadata": {},
   "outputs": [
    {
     "name": "stdout",
     "output_type": "stream",
     "text": [
      "<!DOCTYPE html>\n",
      "<html>\n",
      " <head>\n",
      "  <title>\n",
      "   Navigate Parse Tree\n",
      "  </title>\n",
      " </head>\n",
      " <body>\n",
      "  <h1>\n",
      "   This is your Assignment\n",
      "  </h1>\n",
      "  <a href=\"https://www.google.com\">\n",
      "   This is a link that will take you to Google\n",
      "  </a>\n",
      "  <ul>\n",
      "   <li>\n",
      "    <p>\n",
      "     This question is given to test your knowledge of\n",
      "     <b>\n",
      "      Web Scraping\n",
      "     </b>\n",
      "    </p>\n",
      "    <p>\n",
      "     Web scraping is a term used to describe the use of a program or algorithm to extract and process large amounts of data from the web.\n",
      "    </p>\n",
      "   </li>\n",
      "   <li id=\"li2\">\n",
      "    This is an li tag given to you for scraping\n",
      "   </li>\n",
      "   <li>\n",
      "    This li tag gives you the various ways to get data from a website\n",
      "    <ol>\n",
      "     <li class=\"list_or\">\n",
      "      Using API of the website\n",
      "     </li>\n",
      "     <li>\n",
      "      Scrape data using BeautifulSoup\n",
      "     </li>\n",
      "     <li>\n",
      "      Scrape data using Selenium\n",
      "     </li>\n",
      "     <li>\n",
      "      Scrape data using Scrapy\n",
      "     </li>\n",
      "    </ol>\n",
      "   </li>\n",
      "   <li class=\"list_or\">\n",
      "    <a href=\"https://www.crummy.com/software/BeautifulSoup/bs4/doc/\">\n",
      "     Clicking on this takes you to the documentation of BeautifulSoup\n",
      "    </a>\n",
      "    <a href=\"https://selenium-python.readthedocs.io/\" id=\"anchor\">\n",
      "     Clicking on this takes you to the documentation of Selenium\n",
      "    </a>\n",
      "   </li>\n",
      "  </ul>\n",
      " </body>\n",
      "</html>\n",
      "Clicking on this takes you to the documentation of BeautifulSoup\n"
     ]
    }
   ],
   "source": [
    "html = '<!DOCTYPE html><html><head><title>Navigate Parse Tree</title></head>\\\n",
    "<body><h1>This is your Assignment</h1><a href = \"https://www.google.com\">This is a link that will take you to Google</a>\\\n",
    "<ul><li><p> This question is given to test your knowledge of <b>Web Scraping</b></p>\\\n",
    "<p>Web scraping is a term used to describe the use of a program or algorithm to extract and process large amounts of data from the web.</p></li>\\\n",
    "<li id = \"li2\">This is an li tag given to you for scraping</li>\\\n",
    "<li>This li tag gives you the various ways to get data from a website\\\n",
    "<ol><li class = \"list_or\">Using API of the website</li><li>Scrape data using BeautifulSoup</li><li>Scrape data using Selenium</li>\\\n",
    "<li>Scrape data using Scrapy</li></ol></li>\\\n",
    "<li class = \"list_or\"><a href=\"https://www.crummy.com/software/BeautifulSoup/bs4/doc/\">\\\n",
    "Clicking on this takes you to the documentation of BeautifulSoup</a>\\\n",
    "<a href=\"https://selenium-python.readthedocs.io/\" id=\"anchor\">Clicking on this takes you to the documentation of Selenium</a>\\\n",
    "</li></ul></body></html>'\n",
    "\n",
    "from bs4 import BeautifulSoup\n",
    "data = BeautifulSoup(html, 'html.parser')\n",
    "print(data.prettify())\n",
    "second = data.find_all('a')[1]\n",
    "print(second.next_element)\n"
   ]
  },
  {
   "cell_type": "code",
   "execution_count": null,
   "id": "c7296a46",
   "metadata": {},
   "outputs": [],
   "source": []
  }
 ],
 "metadata": {
  "kernelspec": {
   "display_name": "Python 3 (ipykernel)",
   "language": "python",
   "name": "python3"
  },
  "language_info": {
   "codemirror_mode": {
    "name": "ipython",
    "version": 3
   },
   "file_extension": ".py",
   "mimetype": "text/x-python",
   "name": "python",
   "nbconvert_exporter": "python",
   "pygments_lexer": "ipython3",
   "version": "3.9.13"
  }
 },
 "nbformat": 4,
 "nbformat_minor": 5
}
