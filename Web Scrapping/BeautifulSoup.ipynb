{
 "cells": [
  {
   "cell_type": "code",
   "execution_count": null,
   "id": "adfa52af",
   "metadata": {},
   "outputs": [],
   "source": [
    "pip install beautifulsoup4"
   ]
  },
  {
   "cell_type": "code",
   "execution_count": 1,
   "id": "0376d08c",
   "metadata": {},
   "outputs": [],
   "source": [
    "html = '<!DOCTYPE html>\\\n",
    "<html>\\\n",
    "<head>\\\n",
    "<title>Testing Web Page</title>\\\n",
    "</head>\\\n",
    "<body>\\\n",
    "<h1>Web Scraping</h1>\\\n",
    "<p class = \"abc\">\\\n",
    "Hello ! Good morning. Have a good Day !\\\n",
    "</p>\\\n",
    "<p id = \"def\" >\\\n",
    "<a href=\"https://codingninjas.in/\"> Coding Nnjas </a>\\\n",
    "</p>\\\n",
    "<p class = \"abc\">\\\n",
    "hello\\\n",
    "</p>\\\n",
    "</body>\\\n",
    "</html>'"
   ]
  },
  {
   "cell_type": "code",
   "execution_count": 3,
   "id": "e134e043",
   "metadata": {},
   "outputs": [],
   "source": [
    "from bs4 import BeautifulSoup"
   ]
  },
  {
   "cell_type": "code",
   "execution_count": 6,
   "id": "9d89bcde",
   "metadata": {},
   "outputs": [
    {
     "data": {
      "text/plain": [
       "<!DOCTYPE html>\n",
       "<html><head><title>Testing Web Page</title></head><body><h1>Web Scraping</h1><p class=\"abc\">Hello ! Good morning. Have a good Day !</p><p id=\"def\"><a href=\"https://codingninjas.in/\"> Coding Nnjas </a></p><p class=\"abc\">hello</p></body></html>"
      ]
     },
     "execution_count": 6,
     "metadata": {},
     "output_type": "execute_result"
    }
   ],
   "source": [
    "data = BeautifulSoup( html , 'html.parser' )\n",
    "data"
   ]
  },
  {
   "cell_type": "code",
   "execution_count": 7,
   "id": "ba365d60",
   "metadata": {},
   "outputs": [
    {
     "data": {
      "text/plain": [
       "bs4.BeautifulSoup"
      ]
     },
     "execution_count": 7,
     "metadata": {},
     "output_type": "execute_result"
    }
   ],
   "source": [
    "type(data)"
   ]
  },
  {
   "cell_type": "code",
   "execution_count": 8,
   "id": "53394eb4",
   "metadata": {},
   "outputs": [
    {
     "name": "stdout",
     "output_type": "stream",
     "text": [
      "<!DOCTYPE html>\n",
      "<html>\n",
      " <head>\n",
      "  <title>\n",
      "   Testing Web Page\n",
      "  </title>\n",
      " </head>\n",
      " <body>\n",
      "  <h1>\n",
      "   Web Scraping\n",
      "  </h1>\n",
      "  <p class=\"abc\">\n",
      "   Hello ! Good morning. Have a good Day !\n",
      "  </p>\n",
      "  <p id=\"def\">\n",
      "   <a href=\"https://codingninjas.in/\">\n",
      "    Coding Nnjas\n",
      "   </a>\n",
      "  </p>\n",
      "  <p class=\"abc\">\n",
      "   hello\n",
      "  </p>\n",
      " </body>\n",
      "</html>\n"
     ]
    }
   ],
   "source": [
    "print(data.prettify())"
   ]
  },
  {
   "cell_type": "code",
   "execution_count": 9,
   "id": "65589b88",
   "metadata": {},
   "outputs": [
    {
     "name": "stdout",
     "output_type": "stream",
     "text": [
      "<title>Testing Web Page</title>\n",
      "title\n",
      "Testing Web Page\n"
     ]
    }
   ],
   "source": [
    "print(data.title)\n",
    "print(data.title.name)\n",
    "print(data.title.string)"
   ]
  },
  {
   "cell_type": "code",
   "execution_count": 11,
   "id": "9eb2f24a",
   "metadata": {},
   "outputs": [
    {
     "name": "stdout",
     "output_type": "stream",
     "text": [
      "{}\n"
     ]
    }
   ],
   "source": [
    "print(data.attrs)"
   ]
  },
  {
   "cell_type": "code",
   "execution_count": 12,
   "id": "77119a42",
   "metadata": {},
   "outputs": [
    {
     "name": "stdout",
     "output_type": "stream",
     "text": [
      "{'class': ['abc']}\n"
     ]
    }
   ],
   "source": [
    "print(data.p.attrs)"
   ]
  },
  {
   "cell_type": "code",
   "execution_count": 14,
   "id": "56dc39f9",
   "metadata": {},
   "outputs": [
    {
     "data": {
      "text/plain": [
       "['abc']"
      ]
     },
     "execution_count": 14,
     "metadata": {},
     "output_type": "execute_result"
    }
   ],
   "source": [
    "data.p['class']"
   ]
  },
  {
   "cell_type": "code",
   "execution_count": 16,
   "id": "335006a3",
   "metadata": {},
   "outputs": [
    {
     "data": {
      "text/plain": [
       "['abc']"
      ]
     },
     "execution_count": 16,
     "metadata": {},
     "output_type": "execute_result"
    }
   ],
   "source": [
    "data.p.get('class')"
   ]
  },
  {
   "cell_type": "code",
   "execution_count": 17,
   "id": "88dc73a7",
   "metadata": {},
   "outputs": [
    {
     "data": {
      "text/plain": [
       "'Testing Web PageWeb ScrapingHello ! Good morning. Have a good Day ! Coding Nnjas hello'"
      ]
     },
     "execution_count": 17,
     "metadata": {},
     "output_type": "execute_result"
    }
   ],
   "source": [
    "data.get_text()"
   ]
  },
  {
   "cell_type": "code",
   "execution_count": 18,
   "id": "45e65268",
   "metadata": {},
   "outputs": [],
   "source": [
    "data.find('r')"
   ]
  },
  {
   "cell_type": "code",
   "execution_count": 19,
   "id": "d2dad73b",
   "metadata": {},
   "outputs": [
    {
     "data": {
      "text/plain": [
       "<p class=\"abc\">Hello ! Good morning. Have a good Day !</p>"
      ]
     },
     "execution_count": 19,
     "metadata": {},
     "output_type": "execute_result"
    }
   ],
   "source": [
    "data.find('p')"
   ]
  },
  {
   "cell_type": "code",
   "execution_count": 20,
   "id": "30a6e422",
   "metadata": {},
   "outputs": [
    {
     "data": {
      "text/plain": [
       "[<p class=\"abc\">Hello ! Good morning. Have a good Day !</p>,\n",
       " <p id=\"def\"><a href=\"https://codingninjas.in/\"> Coding Nnjas </a></p>,\n",
       " <p class=\"abc\">hello</p>]"
      ]
     },
     "execution_count": 20,
     "metadata": {},
     "output_type": "execute_result"
    }
   ],
   "source": [
    "data.find_all('p')"
   ]
  },
  {
   "cell_type": "code",
   "execution_count": 21,
   "id": "d475d973",
   "metadata": {},
   "outputs": [],
   "source": [
    "html1 = '<!DOCTYPE html><html><head><title>Learning Beautiful Soup</title></head>\\\n",
    "<body><h1> About Us </h1><div class = \"first_div\"><p>Coding Ninjas Website</p>\\\n",
    "<a href=\"https://www.codingninjas.in/\">Link to Coding Ninjas Website</a>\\\n",
    "<ul><li>This</li><li>is</li><li>an</li><li>unordered</li><li>list.</li></ul>\\\n",
    "</div><p id = \"template_p\">This is a template paragraph tag</p>\\\n",
    "<a href = \"https://www.facebook.com/codingninjas/\">\\\n",
    "This is the link of our Facebook Page</a></body></html>'"
   ]
  },
  {
   "cell_type": "code",
   "execution_count": 23,
   "id": "1c4f483e",
   "metadata": {},
   "outputs": [],
   "source": [
    "data = BeautifulSoup(html1,'html.parser')"
   ]
  },
  {
   "cell_type": "code",
   "execution_count": 26,
   "id": "cd3ea2dd",
   "metadata": {},
   "outputs": [
    {
     "name": "stdout",
     "output_type": "stream",
     "text": [
      "<!DOCTYPE html>\n",
      "<html>\n",
      " <head>\n",
      "  <title>\n",
      "   Learning Beautiful Soup\n",
      "  </title>\n",
      " </head>\n",
      " <body>\n",
      "  <h1>\n",
      "   About Us\n",
      "  </h1>\n",
      "  <div class=\"first_div\">\n",
      "   <p>\n",
      "    Coding Ninjas Website\n",
      "   </p>\n",
      "   <a href=\"https://www.codingninjas.in/\">\n",
      "    Link to Coding Ninjas Website\n",
      "   </a>\n",
      "   <ul>\n",
      "    <li>\n",
      "     This\n",
      "    </li>\n",
      "    <li>\n",
      "     is\n",
      "    </li>\n",
      "    <li>\n",
      "     an\n",
      "    </li>\n",
      "    <li>\n",
      "     unordered\n",
      "    </li>\n",
      "    <li>\n",
      "     list.\n",
      "    </li>\n",
      "   </ul>\n",
      "  </div>\n",
      "  <p id=\"template_p\">\n",
      "   This is a template paragraph tag\n",
      "  </p>\n",
      "  <a href=\"https://www.facebook.com/codingninjas/\">\n",
      "   This is the link of our Facebook Page\n",
      "  </a>\n",
      " </body>\n",
      "</html>\n"
     ]
    }
   ],
   "source": [
    "print(data.prettify())"
   ]
  },
  {
   "cell_type": "code",
   "execution_count": 28,
   "id": "279f95ef",
   "metadata": {},
   "outputs": [
    {
     "name": "stdout",
     "output_type": "stream",
     "text": [
      "[<h1> About Us </h1>, <div class=\"first_div\"><p>Coding Ninjas Website</p><a href=\"https://www.codingninjas.in/\">Link to Coding Ninjas Website</a><ul><li>This</li><li>is</li><li>an</li><li>unordered</li><li>list.</li></ul></div>, <p>Coding Ninjas Website</p>, <a href=\"https://www.codingninjas.in/\">Link to Coding Ninjas Website</a>, <ul><li>This</li><li>is</li><li>an</li><li>unordered</li><li>list.</li></ul>, <li>This</li>, <li>is</li>, <li>an</li>, <li>unordered</li>, <li>list.</li>, <p id=\"template_p\">This is a template paragraph tag</p>, <a href=\"https://www.facebook.com/codingninjas/\">This is the link of our Facebook Page</a>]\n"
     ]
    }
   ],
   "source": [
    "print(data.body())"
   ]
  },
  {
   "cell_type": "code",
   "execution_count": 29,
   "id": "d9db25f2",
   "metadata": {},
   "outputs": [
    {
     "name": "stdout",
     "output_type": "stream",
     "text": [
      "<body><h1> About Us </h1><div class=\"first_div\"><p>Coding Ninjas Website</p><a href=\"https://www.codingninjas.in/\">Link to Coding Ninjas Website</a><ul><li>This</li><li>is</li><li>an</li><li>unordered</li><li>list.</li></ul></div><p id=\"template_p\">This is a template paragraph tag</p><a href=\"https://www.facebook.com/codingninjas/\">This is the link of our Facebook Page</a></body>\n"
     ]
    }
   ],
   "source": [
    "print(data.find('body'))"
   ]
  },
  {
   "cell_type": "code",
   "execution_count": 33,
   "id": "6b279991",
   "metadata": {},
   "outputs": [
    {
     "name": "stdout",
     "output_type": "stream",
     "text": [
      "class\n"
     ]
    }
   ],
   "source": [
    "attr = data.div.attrs\n",
    "for i in attr:\n",
    "    print(i)"
   ]
  },
  {
   "cell_type": "code",
   "execution_count": 40,
   "id": "728f2bce",
   "metadata": {},
   "outputs": [
    {
     "name": "stdout",
     "output_type": "stream",
     "text": [
      "This is an unordered list. "
     ]
    }
   ],
   "source": [
    "l = data.find_all('li')\n",
    "for i in l :\n",
    "    print(i.string,end = ' ')"
   ]
  },
  {
   "cell_type": "code",
   "execution_count": 44,
   "id": "2899de17",
   "metadata": {},
   "outputs": [
    {
     "name": "stdout",
     "output_type": "stream",
     "text": [
      "https://www.codingninjas.in/\n",
      "https://www.facebook.com/codingninjas/\n"
     ]
    }
   ],
   "source": [
    "a = data.find_all('a')\n",
    "for i in a :\n",
    "    print(i.attrs['href'])"
   ]
  },
  {
   "cell_type": "code",
   "execution_count": 45,
   "id": "c376946c",
   "metadata": {},
   "outputs": [
    {
     "data": {
      "text/plain": [
       "[<p>Coding Ninjas Website</p>,\n",
       " <a href=\"https://www.codingninjas.in/\">Link to Coding Ninjas Website</a>,\n",
       " <p id=\"template_p\">This is a template paragraph tag</p>,\n",
       " <a href=\"https://www.facebook.com/codingninjas/\">This is the link of our Facebook Page</a>]"
      ]
     },
     "execution_count": 45,
     "metadata": {},
     "output_type": "execute_result"
    }
   ],
   "source": [
    "data.find_all(['a','p'])"
   ]
  },
  {
   "cell_type": "code",
   "execution_count": 46,
   "id": "e9dd7ddc",
   "metadata": {},
   "outputs": [
    {
     "data": {
      "text/plain": [
       "[<html><head><title>Learning Beautiful Soup</title></head><body><h1> About Us </h1><div class=\"first_div\"><p>Coding Ninjas Website</p><a href=\"https://www.codingninjas.in/\">Link to Coding Ninjas Website</a><ul><li>This</li><li>is</li><li>an</li><li>unordered</li><li>list.</li></ul></div><p id=\"template_p\">This is a template paragraph tag</p><a href=\"https://www.facebook.com/codingninjas/\">This is the link of our Facebook Page</a></body></html>,\n",
       " <head><title>Learning Beautiful Soup</title></head>,\n",
       " <title>Learning Beautiful Soup</title>,\n",
       " <body><h1> About Us </h1><div class=\"first_div\"><p>Coding Ninjas Website</p><a href=\"https://www.codingninjas.in/\">Link to Coding Ninjas Website</a><ul><li>This</li><li>is</li><li>an</li><li>unordered</li><li>list.</li></ul></div><p id=\"template_p\">This is a template paragraph tag</p><a href=\"https://www.facebook.com/codingninjas/\">This is the link of our Facebook Page</a></body>,\n",
       " <h1> About Us </h1>,\n",
       " <div class=\"first_div\"><p>Coding Ninjas Website</p><a href=\"https://www.codingninjas.in/\">Link to Coding Ninjas Website</a><ul><li>This</li><li>is</li><li>an</li><li>unordered</li><li>list.</li></ul></div>,\n",
       " <p>Coding Ninjas Website</p>,\n",
       " <a href=\"https://www.codingninjas.in/\">Link to Coding Ninjas Website</a>,\n",
       " <ul><li>This</li><li>is</li><li>an</li><li>unordered</li><li>list.</li></ul>,\n",
       " <li>This</li>,\n",
       " <li>is</li>,\n",
       " <li>an</li>,\n",
       " <li>unordered</li>,\n",
       " <li>list.</li>,\n",
       " <p id=\"template_p\">This is a template paragraph tag</p>,\n",
       " <a href=\"https://www.facebook.com/codingninjas/\">This is the link of our Facebook Page</a>]"
      ]
     },
     "execution_count": 46,
     "metadata": {},
     "output_type": "execute_result"
    }
   ],
   "source": [
    "data.find_all(True)"
   ]
  },
  {
   "cell_type": "code",
   "execution_count": 47,
   "id": "880d9bdf",
   "metadata": {},
   "outputs": [
    {
     "data": {
      "text/plain": [
       "[<p id=\"template_p\">This is a template paragraph tag</p>]"
      ]
     },
     "execution_count": 47,
     "metadata": {},
     "output_type": "execute_result"
    }
   ],
   "source": [
    "data.find_all(id = 'template_p')"
   ]
  },
  {
   "cell_type": "markdown",
   "id": "2fb634fa",
   "metadata": {},
   "source": [
    "###### for CSS Selectors USE :- data.select(\"tag_name\")"
   ]
  },
  {
   "cell_type": "code",
   "execution_count": 51,
   "id": "e8ba000e",
   "metadata": {},
   "outputs": [
    {
     "name": "stdout",
     "output_type": "stream",
     "text": [
      "['Coding Ninjas Website']\n",
      "['This is a template paragraph tag']\n"
     ]
    }
   ],
   "source": [
    "li = data.find_all('p')\n",
    "for i in li:\n",
    "    print(list(i.strings)) # when multiple strings present in more than one child tag"
   ]
  },
  {
   "cell_type": "code",
   "execution_count": 53,
   "id": "ac3d9261",
   "metadata": {},
   "outputs": [
    {
     "name": "stdout",
     "output_type": "stream",
     "text": [
      "Coding Ninjas Website\n",
      "This is a template paragraph tag\n"
     ]
    }
   ],
   "source": [
    "for i in li:\n",
    "    print(i.string) # when string present in child tag"
   ]
  },
  {
   "cell_type": "code",
   "execution_count": 55,
   "id": "5f8bb792",
   "metadata": {},
   "outputs": [
    {
     "name": "stdout",
     "output_type": "stream",
     "text": [
      "['Coding Ninjas Website']\n",
      "['This is a template paragraph tag']\n"
     ]
    }
   ],
   "source": [
    "for i in li:\n",
    "    print(list(i.stripped_strings)) # remove extra spaces if present in the string "
   ]
  },
  {
   "cell_type": "code",
   "execution_count": null,
   "id": "72a1652f",
   "metadata": {},
   "outputs": [],
   "source": []
  }
 ],
 "metadata": {
  "kernelspec": {
   "display_name": "Python 3 (ipykernel)",
   "language": "python",
   "name": "python3"
  },
  "language_info": {
   "codemirror_mode": {
    "name": "ipython",
    "version": 3
   },
   "file_extension": ".py",
   "mimetype": "text/x-python",
   "name": "python",
   "nbconvert_exporter": "python",
   "pygments_lexer": "ipython3",
   "version": "3.9.13"
  }
 },
 "nbformat": 4,
 "nbformat_minor": 5
}
