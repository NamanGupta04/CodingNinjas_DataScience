{
 "cells": [
  {
   "cell_type": "code",
   "execution_count": 1,
   "id": "013a3dfc",
   "metadata": {},
   "outputs": [],
   "source": [
    "from selenium import webdriver\n",
    "from selenium.webdriver.common.by import By"
   ]
  },
  {
   "cell_type": "code",
   "execution_count": 2,
   "id": "1b81eb6e",
   "metadata": {},
   "outputs": [],
   "source": [
    "driver = webdriver.Chrome()"
   ]
  },
  {
   "cell_type": "code",
   "execution_count": 3,
   "id": "0917dfab",
   "metadata": {},
   "outputs": [],
   "source": [
    "driver.get(\"https://www.instagram.com\")"
   ]
  },
  {
   "cell_type": "code",
   "execution_count": 4,
   "id": "620c0487",
   "metadata": {},
   "outputs": [],
   "source": [
    "for ele in driver.find_elements(\"tag name\",\"input\"):\n",
    "    if ele.get_attribute('type')=='text':\n",
    "        ele.send_keys(\"namang808@gmail.com\")"
   ]
  },
  {
   "cell_type": "code",
   "execution_count": 5,
   "id": "d9335bf2",
   "metadata": {},
   "outputs": [],
   "source": [
    "passwrd = open(\"pass.txt\",\"r\").read()\n"
   ]
  },
  {
   "cell_type": "code",
   "execution_count": 6,
   "id": "1fec3ece",
   "metadata": {},
   "outputs": [],
   "source": [
    "for ele in driver.find_elements(\"tag name\",\"input\"):\n",
    "    if ele.get_attribute('type')=='password':\n",
    "        ele.send_keys(passwrd)"
   ]
  },
  {
   "cell_type": "code",
   "execution_count": 7,
   "id": "c39611d3",
   "metadata": {},
   "outputs": [],
   "source": [
    "driver.find_element('xpath','//*[@id=\"loginForm\"]/div/div[3]/button').click()"
   ]
  },
  {
   "cell_type": "markdown",
   "id": "8ce2f0ec",
   "metadata": {},
   "source": [
    "for ele in driver.find_elements(\"tag name\",\"input\"):\n",
    "    if ele.get_attribute('type')=='password':\n",
    "        ele.send_keys(\"PASS\")"
   ]
  },
  {
   "cell_type": "markdown",
   "id": "960e228d",
   "metadata": {},
   "source": [
    "for ele in driver.find_elements(\"tag name\",\"div\"):\n",
    "    if ele.get_attribute('role')=='button':\n",
    "        if ele.text == \"Not now\":\n",
    "            ele.click()"
   ]
  },
  {
   "cell_type": "markdown",
   "id": "0c8969dc",
   "metadata": {},
   "source": [
    "driver.find_element('xpath','//*[@id=\"mount_0_0_I9\"]/div/div/div[2]/div/div/div[1]/div[1]/div[2]/section/main/div/div/div/div/div').click()"
   ]
  },
  {
   "cell_type": "code",
   "execution_count": null,
   "id": "672be8da",
   "metadata": {},
   "outputs": [],
   "source": []
  },
  {
   "cell_type": "markdown",
   "id": "111209fa",
   "metadata": {},
   "source": [
    "driver.find_element('xpath','/html/body/div[3]/div[1]/div/div[2]/div/div/div/div/div[2]/div/div/div[3]/button[2]').click()"
   ]
  },
  {
   "cell_type": "code",
   "execution_count": 8,
   "id": "7a252bb4",
   "metadata": {},
   "outputs": [],
   "source": [
    "#driver.get_cookies()"
   ]
  },
  {
   "cell_type": "code",
   "execution_count": 9,
   "id": "8877bc5d",
   "metadata": {},
   "outputs": [],
   "source": [
    "new_driver = webdriver.Chrome()\n",
    "new_driver.get(\"https://www.instagram.com\")"
   ]
  },
  {
   "cell_type": "code",
   "execution_count": 10,
   "id": "1e59db06",
   "metadata": {},
   "outputs": [],
   "source": [
    "for cook in driver.get_cookies():\n",
    "    new_driver.add_cookie(cook)"
   ]
  },
  {
   "cell_type": "code",
   "execution_count": 11,
   "id": "570e9ad7",
   "metadata": {},
   "outputs": [],
   "source": [
    "new_driver.get(\"https://www.instagram.com/\")"
   ]
  },
  {
   "cell_type": "markdown",
   "id": "7214fe4e",
   "metadata": {},
   "source": [
    "### Scrolling Techniques\n"
   ]
  },
  {
   "cell_type": "code",
   "execution_count": 12,
   "id": "b14c6e05",
   "metadata": {},
   "outputs": [],
   "source": [
    "import time"
   ]
  },
  {
   "cell_type": "code",
   "execution_count": 13,
   "id": "d403e405",
   "metadata": {},
   "outputs": [
    {
     "data": {
      "text/plain": [
       "882"
      ]
     },
     "execution_count": 13,
     "metadata": {},
     "output_type": "execute_result"
    }
   ],
   "source": [
    "curr_height = new_driver.execute_script(\"return document.body.scrollHeight\")\n",
    "curr_height"
   ]
  },
  {
   "cell_type": "code",
   "execution_count": 14,
   "id": "a69079e0",
   "metadata": {},
   "outputs": [],
   "source": [
    "new_driver.execute_script(\"window.scrollTo(0,document.body.scrollHeight)\")"
   ]
  },
  {
   "cell_type": "code",
   "execution_count": 15,
   "id": "cd5de4af",
   "metadata": {},
   "outputs": [],
   "source": [
    "curr_height = new_driver.execute_script(\"return document.body.scrollHeight\")\n",
    "\n",
    "while True:\n",
    "    (\n",
    "    new_driver\n",
    "        .execute_script(f\"window.scrollTo(0, {curr_height})\")\n",
    "    )\n",
    "    time.sleep(2)\n",
    "    new_height = new_driver.execute_script(\"return document.body.scrollHeight\")\n",
    "    if curr_height != new_height:\n",
    "        curr_height = new_height\n",
    "    else:\n",
    "        break\n",
    "\n"
   ]
  },
  {
   "cell_type": "markdown",
   "id": "220ba346",
   "metadata": {},
   "source": [
    "### Surfing instagram (entertainment purpose)"
   ]
  },
  {
   "cell_type": "code",
   "execution_count": 16,
   "id": "8beb3bd3",
   "metadata": {},
   "outputs": [
    {
     "ename": "NoSuchWindowException",
     "evalue": "Message: no such window: target window already closed\nfrom unknown error: web view not found\n  (Session info: chrome=122.0.6261.95)\nStacktrace:\n\tGetHandleVerifier [0x00007FF66FA8AD22+56930]\n\t(No symbol) [0x00007FF66F9FF622]\n\t(No symbol) [0x00007FF66F8B42E5]\n\t(No symbol) [0x00007FF66F891D4C]\n\t(No symbol) [0x00007FF66F9223F7]\n\t(No symbol) [0x00007FF66F937891]\n\t(No symbol) [0x00007FF66F91BA43]\n\t(No symbol) [0x00007FF66F8ED438]\n\t(No symbol) [0x00007FF66F8EE4D1]\n\tGetHandleVerifier [0x00007FF66FE06AAD+3709933]\n\tGetHandleVerifier [0x00007FF66FE5FFED+4075821]\n\tGetHandleVerifier [0x00007FF66FE5817F+4043455]\n\tGetHandleVerifier [0x00007FF66FB29756+706710]\n\t(No symbol) [0x00007FF66FA0B8FF]\n\t(No symbol) [0x00007FF66FA06AE4]\n\t(No symbol) [0x00007FF66FA06C3C]\n\t(No symbol) [0x00007FF66F9F68F4]\n\tBaseThreadInitThunk [0x00007FFD74447344+20]\n\tRtlUserThreadStart [0x00007FFD753626B1+33]\n",
     "output_type": "error",
     "traceback": [
      "\u001b[1;31m---------------------------------------------------------------------------\u001b[0m",
      "\u001b[1;31mNoSuchWindowException\u001b[0m                     Traceback (most recent call last)",
      "\u001b[1;32m~\\AppData\\Local\\Temp\\ipykernel_21684\\3135557471.py\u001b[0m in \u001b[0;36m<module>\u001b[1;34m\u001b[0m\n\u001b[0;32m      4\u001b[0m \u001b[1;32mwhile\u001b[0m \u001b[1;32mTrue\u001b[0m\u001b[1;33m:\u001b[0m\u001b[1;33m\u001b[0m\u001b[1;33m\u001b[0m\u001b[0m\n\u001b[0;32m      5\u001b[0m     (\n\u001b[1;32m----> 6\u001b[1;33m     \u001b[0mnew_driver\u001b[0m\u001b[1;33m\u001b[0m\u001b[1;33m\u001b[0m\u001b[0m\n\u001b[0m\u001b[0;32m      7\u001b[0m         \u001b[1;33m.\u001b[0m\u001b[0mexecute_script\u001b[0m\u001b[1;33m(\u001b[0m\u001b[1;34mf\"window.scrollTo({curr_height}, {new_height})\"\u001b[0m\u001b[1;33m)\u001b[0m\u001b[1;33m\u001b[0m\u001b[1;33m\u001b[0m\u001b[0m\n\u001b[0;32m      8\u001b[0m     )\n",
      "\u001b[1;32m~\\anaconda3\\lib\\site-packages\\selenium\\webdriver\\remote\\webdriver.py\u001b[0m in \u001b[0;36mexecute_script\u001b[1;34m(self, script, *args)\u001b[0m\n\u001b[0;32m    405\u001b[0m         \u001b[0mcommand\u001b[0m \u001b[1;33m=\u001b[0m \u001b[0mCommand\u001b[0m\u001b[1;33m.\u001b[0m\u001b[0mW3C_EXECUTE_SCRIPT\u001b[0m\u001b[1;33m\u001b[0m\u001b[1;33m\u001b[0m\u001b[0m\n\u001b[0;32m    406\u001b[0m \u001b[1;33m\u001b[0m\u001b[0m\n\u001b[1;32m--> 407\u001b[1;33m         \u001b[1;32mreturn\u001b[0m \u001b[0mself\u001b[0m\u001b[1;33m.\u001b[0m\u001b[0mexecute\u001b[0m\u001b[1;33m(\u001b[0m\u001b[0mcommand\u001b[0m\u001b[1;33m,\u001b[0m \u001b[1;33m{\u001b[0m\u001b[1;34m\"script\"\u001b[0m\u001b[1;33m:\u001b[0m \u001b[0mscript\u001b[0m\u001b[1;33m,\u001b[0m \u001b[1;34m\"args\"\u001b[0m\u001b[1;33m:\u001b[0m \u001b[0mconverted_args\u001b[0m\u001b[1;33m}\u001b[0m\u001b[1;33m)\u001b[0m\u001b[1;33m[\u001b[0m\u001b[1;34m\"value\"\u001b[0m\u001b[1;33m]\u001b[0m\u001b[1;33m\u001b[0m\u001b[1;33m\u001b[0m\u001b[0m\n\u001b[0m\u001b[0;32m    408\u001b[0m \u001b[1;33m\u001b[0m\u001b[0m\n\u001b[0;32m    409\u001b[0m     \u001b[1;32mdef\u001b[0m \u001b[0mexecute_async_script\u001b[0m\u001b[1;33m(\u001b[0m\u001b[0mself\u001b[0m\u001b[1;33m,\u001b[0m \u001b[0mscript\u001b[0m\u001b[1;33m:\u001b[0m \u001b[0mstr\u001b[0m\u001b[1;33m,\u001b[0m \u001b[1;33m*\u001b[0m\u001b[0margs\u001b[0m\u001b[1;33m)\u001b[0m\u001b[1;33m:\u001b[0m\u001b[1;33m\u001b[0m\u001b[1;33m\u001b[0m\u001b[0m\n",
      "\u001b[1;32m~\\anaconda3\\lib\\site-packages\\selenium\\webdriver\\remote\\webdriver.py\u001b[0m in \u001b[0;36mexecute\u001b[1;34m(self, driver_command, params)\u001b[0m\n\u001b[0;32m    345\u001b[0m         \u001b[0mresponse\u001b[0m \u001b[1;33m=\u001b[0m \u001b[0mself\u001b[0m\u001b[1;33m.\u001b[0m\u001b[0mcommand_executor\u001b[0m\u001b[1;33m.\u001b[0m\u001b[0mexecute\u001b[0m\u001b[1;33m(\u001b[0m\u001b[0mdriver_command\u001b[0m\u001b[1;33m,\u001b[0m \u001b[0mparams\u001b[0m\u001b[1;33m)\u001b[0m\u001b[1;33m\u001b[0m\u001b[1;33m\u001b[0m\u001b[0m\n\u001b[0;32m    346\u001b[0m         \u001b[1;32mif\u001b[0m \u001b[0mresponse\u001b[0m\u001b[1;33m:\u001b[0m\u001b[1;33m\u001b[0m\u001b[1;33m\u001b[0m\u001b[0m\n\u001b[1;32m--> 347\u001b[1;33m             \u001b[0mself\u001b[0m\u001b[1;33m.\u001b[0m\u001b[0merror_handler\u001b[0m\u001b[1;33m.\u001b[0m\u001b[0mcheck_response\u001b[0m\u001b[1;33m(\u001b[0m\u001b[0mresponse\u001b[0m\u001b[1;33m)\u001b[0m\u001b[1;33m\u001b[0m\u001b[1;33m\u001b[0m\u001b[0m\n\u001b[0m\u001b[0;32m    348\u001b[0m             \u001b[0mresponse\u001b[0m\u001b[1;33m[\u001b[0m\u001b[1;34m\"value\"\u001b[0m\u001b[1;33m]\u001b[0m \u001b[1;33m=\u001b[0m \u001b[0mself\u001b[0m\u001b[1;33m.\u001b[0m\u001b[0m_unwrap_value\u001b[0m\u001b[1;33m(\u001b[0m\u001b[0mresponse\u001b[0m\u001b[1;33m.\u001b[0m\u001b[0mget\u001b[0m\u001b[1;33m(\u001b[0m\u001b[1;34m\"value\"\u001b[0m\u001b[1;33m,\u001b[0m \u001b[1;32mNone\u001b[0m\u001b[1;33m)\u001b[0m\u001b[1;33m)\u001b[0m\u001b[1;33m\u001b[0m\u001b[1;33m\u001b[0m\u001b[0m\n\u001b[0;32m    349\u001b[0m             \u001b[1;32mreturn\u001b[0m \u001b[0mresponse\u001b[0m\u001b[1;33m\u001b[0m\u001b[1;33m\u001b[0m\u001b[0m\n",
      "\u001b[1;32m~\\anaconda3\\lib\\site-packages\\selenium\\webdriver\\remote\\errorhandler.py\u001b[0m in \u001b[0;36mcheck_response\u001b[1;34m(self, response)\u001b[0m\n\u001b[0;32m    227\u001b[0m                 \u001b[0malert_text\u001b[0m \u001b[1;33m=\u001b[0m \u001b[0mvalue\u001b[0m\u001b[1;33m[\u001b[0m\u001b[1;34m\"alert\"\u001b[0m\u001b[1;33m]\u001b[0m\u001b[1;33m.\u001b[0m\u001b[0mget\u001b[0m\u001b[1;33m(\u001b[0m\u001b[1;34m\"text\"\u001b[0m\u001b[1;33m)\u001b[0m\u001b[1;33m\u001b[0m\u001b[1;33m\u001b[0m\u001b[0m\n\u001b[0;32m    228\u001b[0m             \u001b[1;32mraise\u001b[0m \u001b[0mexception_class\u001b[0m\u001b[1;33m(\u001b[0m\u001b[0mmessage\u001b[0m\u001b[1;33m,\u001b[0m \u001b[0mscreen\u001b[0m\u001b[1;33m,\u001b[0m \u001b[0mstacktrace\u001b[0m\u001b[1;33m,\u001b[0m \u001b[0malert_text\u001b[0m\u001b[1;33m)\u001b[0m  \u001b[1;31m# type: ignore[call-arg]  # mypy is not smart enough here\u001b[0m\u001b[1;33m\u001b[0m\u001b[1;33m\u001b[0m\u001b[0m\n\u001b[1;32m--> 229\u001b[1;33m         \u001b[1;32mraise\u001b[0m \u001b[0mexception_class\u001b[0m\u001b[1;33m(\u001b[0m\u001b[0mmessage\u001b[0m\u001b[1;33m,\u001b[0m \u001b[0mscreen\u001b[0m\u001b[1;33m,\u001b[0m \u001b[0mstacktrace\u001b[0m\u001b[1;33m)\u001b[0m\u001b[1;33m\u001b[0m\u001b[1;33m\u001b[0m\u001b[0m\n\u001b[0m",
      "\u001b[1;31mNoSuchWindowException\u001b[0m: Message: no such window: target window already closed\nfrom unknown error: web view not found\n  (Session info: chrome=122.0.6261.95)\nStacktrace:\n\tGetHandleVerifier [0x00007FF66FA8AD22+56930]\n\t(No symbol) [0x00007FF66F9FF622]\n\t(No symbol) [0x00007FF66F8B42E5]\n\t(No symbol) [0x00007FF66F891D4C]\n\t(No symbol) [0x00007FF66F9223F7]\n\t(No symbol) [0x00007FF66F937891]\n\t(No symbol) [0x00007FF66F91BA43]\n\t(No symbol) [0x00007FF66F8ED438]\n\t(No symbol) [0x00007FF66F8EE4D1]\n\tGetHandleVerifier [0x00007FF66FE06AAD+3709933]\n\tGetHandleVerifier [0x00007FF66FE5FFED+4075821]\n\tGetHandleVerifier [0x00007FF66FE5817F+4043455]\n\tGetHandleVerifier [0x00007FF66FB29756+706710]\n\t(No symbol) [0x00007FF66FA0B8FF]\n\t(No symbol) [0x00007FF66FA06AE4]\n\t(No symbol) [0x00007FF66FA06C3C]\n\t(No symbol) [0x00007FF66F9F68F4]\n\tBaseThreadInitThunk [0x00007FFD74447344+20]\n\tRtlUserThreadStart [0x00007FFD753626B1+33]\n"
     ]
    }
   ],
   "source": [
    "curr_height = 0\n",
    "new_height = 700\n",
    "\n",
    "while True:\n",
    "    (\n",
    "    new_driver\n",
    "        .execute_script(f\"window.scrollTo({curr_height}, {new_height})\")\n",
    "    )\n",
    "    time.sleep(5)\n",
    "    curr_height = new_height\n",
    "    new_height += 650"
   ]
  },
  {
   "cell_type": "code",
   "execution_count": null,
   "id": "33607e8b",
   "metadata": {},
   "outputs": [],
   "source": []
  }
 ],
 "metadata": {
  "kernelspec": {
   "display_name": "Python 3 (ipykernel)",
   "language": "python",
   "name": "python3"
  },
  "language_info": {
   "codemirror_mode": {
    "name": "ipython",
    "version": 3
   },
   "file_extension": ".py",
   "mimetype": "text/x-python",
   "name": "python",
   "nbconvert_exporter": "python",
   "pygments_lexer": "ipython3",
   "version": "3.9.13"
  }
 },
 "nbformat": 4,
 "nbformat_minor": 5
}
