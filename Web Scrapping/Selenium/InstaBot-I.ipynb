{
 "cells": [
  {
   "cell_type": "markdown",
   "id": "756d365b",
   "metadata": {},
   "source": [
    "### Login into Instagram"
   ]
  },
  {
   "cell_type": "code",
   "execution_count": 191,
   "id": "2b0ad167",
   "metadata": {},
   "outputs": [],
   "source": [
    "from selenium import webdriver\n",
    "from selenium.webdriver.support import expected_conditions as EC\n",
    "from selenium.webdriver.support.ui import WebDriverWait\n",
    "from selenium.webdriver.common.by import By\n",
    "from selenium.common.exceptions import TimeoutException\n",
    "from bs4 import BeautifulSoup\n",
    "import time\n",
    "\n",
    "wait = WebDriverWait(driver, 10)"
   ]
  },
  {
   "cell_type": "code",
   "execution_count": 192,
   "id": "6356bc55",
   "metadata": {},
   "outputs": [],
   "source": [
    "driver = webdriver.Chrome()\n",
    "driver.get(\"https://www.instagram.com\")"
   ]
  },
  {
   "cell_type": "markdown",
   "id": "7caff427",
   "metadata": {},
   "source": [
    "for ele in driver.find_elements(\"tag name\",\"input\"):\n",
    "    if ele.get_attribute('type')=='text':\n",
    "        ele.send_keys(\"namang808@gmail.com\")\n",
    "        "
   ]
  },
  {
   "cell_type": "markdown",
   "id": "7ab7fa3b",
   "metadata": {},
   "source": [
    "password = open(\"pass.txt\",\"r\").read()"
   ]
  },
  {
   "cell_type": "markdown",
   "id": "a3749a70",
   "metadata": {},
   "source": [
    "for ele in driver.find_elements(\"tag name\",\"input\"):\n",
    "    if ele.get_attribute('type')=='password':\n",
    "        ele.send_keys(passwrd)"
   ]
  },
  {
   "cell_type": "markdown",
   "id": "8152646c",
   "metadata": {},
   "source": [
    "### Problem 1 : Login to your Instagram\n",
    "Login to your Instagram Handle  \n",
    "Submit with sample username and password"
   ]
  },
  {
   "cell_type": "code",
   "execution_count": 193,
   "id": "21c4d616",
   "metadata": {},
   "outputs": [],
   "source": [
    "def login(username,password):\n",
    "    try:\n",
    "        for ele in driver.find_elements(\"tag name\",\"input\"):\n",
    "            if ele.get_attribute('type')=='text':\n",
    "                ele.send_keys(username)\n",
    "        \n",
    "        for ele in driver.find_elements(\"tag name\",\"input\"):\n",
    "            if ele.get_attribute('type')=='password':\n",
    "                ele.send_keys(password)\n",
    "        \n",
    "        button = driver.find_element('xpath','//*[@id=\"loginForm\"]/div/div[3]/button')\n",
    "        button.submit()\n",
    "            #Save Your Login Info? : Not Now\n",
    "        time.sleep(10)\n",
    "        pop = driver.find_element('class name','x1yc6y37')\n",
    "        pop.click()\n",
    "    \n",
    "        # Turn on Notifictaion\n",
    "        time.sleep(10)\n",
    "        pop2 = driver.find_element('class name','_a9_1')\n",
    "        pop2.click()\n",
    "    except TimeoutException:\n",
    "        print(\"Something went wrong!\")\n",
    "    \n",
    "username = \"namang808@gmail.com\"\n",
    "password = open(\"pass.txt\",\"r\").read()\n",
    "login(username,password)"
   ]
  },
  {
   "cell_type": "markdown",
   "id": "562cabaf",
   "metadata": {},
   "source": [
    "### Problem 2 : Type for “food” in search bar\n",
    "Type for “food” in search bar and print all the names of the Instagram Handles that are displayed in list after typing “food”  \n",
    "Note : Make sure to avoid printing hashtags"
   ]
  },
  {
   "cell_type": "code",
   "execution_count": 199,
   "id": "337cf191",
   "metadata": {},
   "outputs": [
    {
     "name": "stdout",
     "output_type": "stream",
     "text": [
      "foodpharmer\n",
      "indorefoodexplorer\n",
      "_foodiedelhi_\n",
      "indian_tasty_food\n",
      "food_ohfood\n",
      "fooduniverce\n",
      "food\n",
      "foodie.raipurian\n",
      "gwaliorfoodsters\n",
      "foodie_incarnate\n"
     ]
    }
   ],
   "source": [
    "def searching(s):\n",
    "    try:\n",
    "        search = driver.find_element('xpath','//*[@id=\"mount_0_0_gA\"]/div/div/div[2]/div/div/div[1]/div[1]/div[1]/div/div/div/div/div[2]/div[2]/span/div/a/div/div[2]/div/div/span/span')\n",
    "        search.click()\n",
    "        search_input = driver.find_element('class name','x7xwk5j')\n",
    "        search_input.send_keys(s)\n",
    "        \n",
    "        time.sleep(5)\n",
    "        \n",
    "        l=[]\n",
    "        for ele in driver.find_elements(\"class name\",\"xh8yej3\"):\n",
    "            for i in ele.find_elements(\"class name\",\"x18hxmgj\"):\n",
    "                l.append(i.text)\n",
    "        handle_names=[]\n",
    "        for i in range(1,len(l),2):\n",
    "            handle_names.append(l[i])\n",
    "            if len(handle_names)==10:\n",
    "                break\n",
    "        for i in handle_names:\n",
    "            print(i)\n",
    "            \n",
    "    except TimeoutException :\n",
    "        print('No Search Found!')\n",
    "searching(\"food\")"
   ]
  },
  {
   "cell_type": "markdown",
   "id": "25596948",
   "metadata": {},
   "source": [
    "### Problem 3 : Searching and Opening a profile\n",
    "Searching and Opening a profile using   \n",
    "Open profile of “So Delhi” "
   ]
  },
  {
   "cell_type": "markdown",
   "id": "776a201d",
   "metadata": {},
   "source": [
    "driver.find_element('xpath','//*[@id=\"mount_0_0_oi\"]/div/div/div[2]/div/div/div[1]/div[1]/div[1]/div/div/div[2]/div/div/div[2]/div/div/div[2]/div/a[1]/div[1]/div/div/div[2]/div/div/div/span').click()"
   ]
  },
  {
   "cell_type": "code",
   "execution_count": 201,
   "id": "b87c529e",
   "metadata": {},
   "outputs": [],
   "source": [
    "def search_open_profile(s):\n",
    "    search = driver.find_element('xpath','//*[@id=\"mount_0_0_gA\"]/div/div/div[2]/div/div/div[1]/div[1]/div[1]/div/div/div/div/div[2]/div[2]/span/div/a/div/div[2]/div/div/span/span')\n",
    "    search.click()\n",
    "    for ele in driver.find_elements(\"tag name\",\"input\"):\n",
    "        if ele.get_attribute('type')=='text':\n",
    "            ele.send_keys(s)\n",
    "    time.sleep(3)\n",
    "    driver.find_element('xpath','//*[@id=\"mount_0_0_gA\"]/div/div/div[2]/div/div/div[1]/div[1]/div[1]/div/div/div[2]/div/div/div[2]/div/div/div[2]/div/a[1]').click()\n",
    "    time.sleep(3)\n",
    "search_open_profile(\"so delhi\")"
   ]
  },
  {
   "cell_type": "markdown",
   "id": "11c56505",
   "metadata": {},
   "source": [
    "### Problem 4 : Follow/Unfollow given handle\n",
    "Follow/Unfollow given handle -   \n",
    "1.Open the Instagram Handle of “So Delhi”  \n",
    "2.Start following it. Print a message if you are already following  \n",
    "3.After following, unfollow the instagram handle. Print a message if you have already unfollowed."
   ]
  },
  {
   "cell_type": "code",
   "execution_count": 202,
   "id": "105fff64",
   "metadata": {},
   "outputs": [],
   "source": [
    "def follow():\n",
    "    try:\n",
    "        btn = driver.find_element('class name','_ap30')\n",
    "        if btn.text=='Follow':\n",
    "            btn.click()\n",
    "        else:\n",
    "            print(\"Already Followed\")\n",
    "    except:\n",
    "        print(\"Error Occured\")\n",
    "follow()"
   ]
  },
  {
   "cell_type": "code",
   "execution_count": 203,
   "id": "19fd81e0",
   "metadata": {},
   "outputs": [],
   "source": [
    "def unfollow():\n",
    "    try:\n",
    "        btn = driver.find_element('class name','_ap30')\n",
    "        if btn.text!='Follow':\n",
    "            btn.click()\n",
    "            time.sleep(3)\n",
    "            driver.find_element('xpath','/html/body/div[6]/div[1]/div/div[2]/div/div/div/div/div[2]/div/div/div/div[8]').click()\n",
    "        else:\n",
    "            print(\"Already UnFollowed\")\n",
    "    except:\n",
    "        print(\"Error Occured\")\n",
    "unfollow()"
   ]
  },
  {
   "cell_type": "markdown",
   "id": "e6a6484c",
   "metadata": {},
   "source": [
    "-"
   ]
  },
  {
   "cell_type": "code",
   "execution_count": 204,
   "id": "ee28dbae",
   "metadata": {},
   "outputs": [],
   "source": [
    "search_open_profile(\"dilsefoodie\")"
   ]
  },
  {
   "cell_type": "markdown",
   "id": "209f84c5",
   "metadata": {},
   "source": [
    "-"
   ]
  },
  {
   "cell_type": "markdown",
   "id": "a83226e0",
   "metadata": {},
   "source": [
    "### Problem 5 : Like/Unlike posts\n",
    "Like/Unlike posts  \n",
    "1.Liking the top 30 posts of the ‘dilsefoodie'. Print message if you have already liked it.  \n",
    "2.Unliking the top 30 posts of the ‘dilsefoodie’. Print message if you have already unliked it."
   ]
  },
  {
   "cell_type": "markdown",
   "id": "47b16eb9",
   "metadata": {},
   "source": [
    "''''''post=driver.find_element('class name','_al3l')\n",
    "post.click()\n",
    "time.sleep(5)\n",
    "like = driver.find_element('class name','_aamw')\n",
    "st = BeautifulSoup(like.get_attribute('innerHTML'),\"html.parser\").svg['aria-label']\n",
    "if st=='Like':\n",
    "    like.click()\n",
    "    time.sleep(5)\n",
    "\n",
    "#INITIAL NEXT AND ITS POST LIKE    \n",
    "initial_next = driver.find_element('class name','_abl-')\n",
    "initial_next.click()\n",
    "like = driver.find_element('class name','_aamw')\n",
    "st = BeautifulSoup(like.get_attribute('innerHTML'),\"html.parser\").svg['aria-label']\n",
    "if st=='Like':\n",
    "    like.click()\n",
    "    time.sleep(3)\n",
    "\n",
    "#LIKING THE POST USING NEXT BUTTON\n",
    "next_post = driver.find_elements('class name','_abl-')\n",
    "nxt_pst = next_post[1]\n",
    "i=1\n",
    "while i<=30 :\n",
    "    np = BeautifulSoup(nxt_pst.get_attribute('innerHTML'),\"html.parser\").svg['aria-label']\n",
    "    nxt_pst.click()\n",
    "    time.sleep(3)\n",
    "    like = driver.find_element('class name','_aamw')\n",
    "    st = BeautifulSoup(like.get_attribute('innerHTML'),\"html.parser\").svg['aria-label']\n",
    "    if st=='Like':\n",
    "        like.click()\n",
    "        time.sleep(3)\n",
    "    i+=1"
   ]
  },
  {
   "cell_type": "code",
   "execution_count": 258,
   "id": "dfadfdb4",
   "metadata": {},
   "outputs": [],
   "source": [
    "def like_post():\n",
    "    post=driver.find_element('class name','_al3l')\n",
    "    post.click()\n",
    "    time.sleep(5)\n",
    "    like = driver.find_element('class name','_aamw')\n",
    "    st = BeautifulSoup(like.get_attribute('innerHTML'),\"html.parser\").svg['aria-label']\n",
    "    if st=='Like':\n",
    "        like.click()\n",
    "        time.sleep(5)\n",
    "    \n",
    "    #INITIAL NEXT AND ITS POST LIKE    \n",
    "    initial_next = driver.find_element('class name','_abl-')\n",
    "    initial_next.click()\n",
    "    like = driver.find_element('class name','_aamw')\n",
    "    st = BeautifulSoup(like.get_attribute('innerHTML'),\"html.parser\").svg['aria-label']\n",
    "    if st=='Like':\n",
    "        like.click()\n",
    "        time.sleep(3)\n",
    "    \n",
    "    #LIKING THE POST USING NEXT BUTTON\n",
    "    next_post = driver.find_elements('class name','_abl-')\n",
    "    nxt_pst = next_post[1]\n",
    "    i=1\n",
    "    while i<=30 :\n",
    "        np = BeautifulSoup(nxt_pst.get_attribute('innerHTML'),\"html.parser\").svg['aria-label']\n",
    "        nxt_pst.click()\n",
    "        time.sleep(3)\n",
    "        like = driver.find_element('class name','_aamw')\n",
    "        st = BeautifulSoup(like.get_attribute('innerHTML'),\"html.parser\").svg['aria-label']\n",
    "        if st=='Like':\n",
    "            like.click()\n",
    "            time.sleep(3)\n",
    "        i+=1"
   ]
  },
  {
   "cell_type": "code",
   "execution_count": 261,
   "id": "0d168987",
   "metadata": {},
   "outputs": [],
   "source": [
    "def Unlike_Post():\n",
    "    post=driver.find_element('class name','_al3l')\n",
    "    post.click()\n",
    "    time.sleep(5)\n",
    "    like = driver.find_element('class name','_aamw')\n",
    "    st = BeautifulSoup(like.get_attribute('innerHTML'),\"html.parser\").svg['aria-label']\n",
    "    if st=='Unlike':\n",
    "        like.click()\n",
    "        time.sleep(5)\n",
    "    \n",
    "    #INITIAL NEXT AND ITS POST LIKE    \n",
    "    initial_next = driver.find_element('class name','_abl-')\n",
    "    initial_next.click()\n",
    "    like = driver.find_element('class name','_aamw')\n",
    "    st = BeautifulSoup(like.get_attribute('innerHTML'),\"html.parser\").svg['aria-label']\n",
    "    if st=='Unlike':\n",
    "        like.click()\n",
    "        time.sleep(3)\n",
    "    \n",
    "    #LIKING THE POST USING NEXT BUTTON\n",
    "    next_post = driver.find_elements('class name','_abl-')\n",
    "    nxt_pst = next_post[1]\n",
    "    i=1\n",
    "    while i<=30 :\n",
    "        np = BeautifulSoup(nxt_pst.get_attribute('innerHTML'),\"html.parser\").svg['aria-label']\n",
    "        nxt_pst.click()\n",
    "        time.sleep(3)\n",
    "        like = driver.find_element('class name','_aamw')\n",
    "        st = BeautifulSoup(like.get_attribute('innerHTML'),\"html.parser\").svg['aria-label']\n",
    "        if st=='Unlike':\n",
    "            like.click()\n",
    "            time.sleep(3)\n",
    "        i+=1"
   ]
  },
  {
   "cell_type": "markdown",
   "id": "f94f3d8a",
   "metadata": {},
   "source": [
    "### CLOSE BUTTON FOR POST"
   ]
  },
  {
   "cell_type": "code",
   "execution_count": 284,
   "id": "4a993940",
   "metadata": {},
   "outputs": [],
   "source": [
    "close_button = driver.find_element('xpath','/html/body/div[7]/div[1]/div/div[2]/div/div')\n",
    "close_button.click()"
   ]
  },
  {
   "cell_type": "code",
   "execution_count": 286,
   "id": "e14aaf46",
   "metadata": {},
   "outputs": [],
   "source": []
  },
  {
   "cell_type": "markdown",
   "id": "1ab18fac",
   "metadata": {},
   "source": [
    "-\n"
   ]
  },
  {
   "cell_type": "code",
   "execution_count": 288,
   "id": "3a31c810",
   "metadata": {},
   "outputs": [],
   "source": [
    "search_open_profile(\"foodtalkindia\")"
   ]
  },
  {
   "cell_type": "markdown",
   "id": "c50ec938",
   "metadata": {},
   "source": [
    "-"
   ]
  },
  {
   "cell_type": "code",
   "execution_count": null,
   "id": "f31e7161",
   "metadata": {},
   "outputs": [],
   "source": []
  },
  {
   "cell_type": "code",
   "execution_count": null,
   "id": "f1cc5c8b",
   "metadata": {},
   "outputs": [],
   "source": []
  }
 ],
 "metadata": {
  "kernelspec": {
   "display_name": "Python 3 (ipykernel)",
   "language": "python",
   "name": "python3"
  },
  "language_info": {
   "codemirror_mode": {
    "name": "ipython",
    "version": 3
   },
   "file_extension": ".py",
   "mimetype": "text/x-python",
   "name": "python",
   "nbconvert_exporter": "python",
   "pygments_lexer": "ipython3",
   "version": "3.9.13"
  }
 },
 "nbformat": 4,
 "nbformat_minor": 5
}
