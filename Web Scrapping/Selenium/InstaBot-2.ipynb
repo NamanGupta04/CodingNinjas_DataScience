{
 "cells": [
  {
   "cell_type": "code",
   "execution_count": 1,
   "id": "199333b2",
   "metadata": {},
   "outputs": [],
   "source": [
    "from selenium import webdriver\n",
    "from selenium.webdriver.support import expected_conditions as EC\n",
    "from selenium.webdriver.support.ui import WebDriverWait\n",
    "from selenium.webdriver.common.by import By\n",
    "from selenium.common.exceptions import TimeoutException\n",
    "from bs4 import BeautifulSoup\n",
    "import time"
   ]
  },
  {
   "cell_type": "code",
   "execution_count": 165,
   "id": "e7690f69",
   "metadata": {},
   "outputs": [],
   "source": [
    "wait = WebDriverWait(driver, 10)"
   ]
  },
  {
   "cell_type": "code",
   "execution_count": 2,
   "id": "284d6f5c",
   "metadata": {},
   "outputs": [],
   "source": [
    "driver = webdriver.Chrome()\n",
    "driver.get(\"https://www.instagram.com\")"
   ]
  },
  {
   "cell_type": "code",
   "execution_count": 3,
   "id": "d3501d38",
   "metadata": {},
   "outputs": [],
   "source": [
    "def login(username,password):\n",
    "    try:\n",
    "        for ele in driver.find_elements(\"tag name\",\"input\"):\n",
    "            if ele.get_attribute('type')=='text':\n",
    "                ele.send_keys(username)\n",
    "        \n",
    "        for ele in driver.find_elements(\"tag name\",\"input\"):\n",
    "            if ele.get_attribute('type')=='password':\n",
    "                ele.send_keys(password)\n",
    "        \n",
    "        button = driver.find_element('xpath','//*[@id=\"loginForm\"]/div/div[3]/button')\n",
    "        button.submit()\n",
    "            #Save Your Login Info? : Not Now\n",
    "        time.sleep(10)\n",
    "        pop = driver.find_element('class name','x1yc6y37')\n",
    "        pop.click()\n",
    "    \n",
    "        # Turn on Notifictaion\n",
    "        time.sleep(10)\n",
    "        pop2 = driver.find_element('class name','_a9_1')\n",
    "        pop2.click()\n",
    "    except TimeoutException:\n",
    "        print(\"Something went wrong!\")\n",
    "    \n",
    "username = \"namang808@gmail.com\"\n",
    "password = open(\"pass.txt\",\"r\").read()\n",
    "login(username,password)"
   ]
  },
  {
   "cell_type": "code",
   "execution_count": 135,
   "id": "074944b0",
   "metadata": {},
   "outputs": [
    {
     "data": {
      "text/plain": [
       "['foodpharmer',\n",
       " '_foodiedelhi_',\n",
       " 'indorefoodexplorer',\n",
       " 'foody.monk',\n",
       " 'raipurfoodpedia',\n",
       " 'justtt_food',\n",
       " 'food',\n",
       " 'dilsefoodie',\n",
       " 'fooduniverce',\n",
       " 'gwaliorfoodsters']"
      ]
     },
     "execution_count": 135,
     "metadata": {},
     "output_type": "execute_result"
    }
   ],
   "source": [
    "search = driver.find_elements('class name','_a6hd')[2]\n",
    "search.click()\n",
    "search_input = driver.find_element('class name','x7xwk5j')\n",
    "search_input.send_keys(\"food\")\n",
    "        \n",
    "time.sleep(5)\n",
    "        \n",
    "l=[]\n",
    "for ele in driver.find_elements(\"class name\",\"xh8yej3\"):\n",
    "    for i in ele.find_elements(\"class name\",\"x18hxmgj\"):\n",
    "        l.append(i.text)\n",
    "handle_names=[]\n",
    "for i in range(1,len(l),2):\n",
    "    handle_names.append(l[i])\n",
    "    if len(handle_names)==10:\n",
    "        break\n",
    "handle_names"
   ]
  },
  {
   "cell_type": "markdown",
   "id": "3e668e5e",
   "metadata": {},
   "source": [
    "follower_link_element = driver.find_elements(\"class name\", \"xh8yej3\")\n",
    "#print(link_element)\n",
    "#elements=[]\n",
    "#followers_link=[]\n",
    "#followers=[]\n",
    "#count=0\n",
    "for i in follower_link_element:\n",
    "Extract the href attribute of the link element\n",
    "    href = i.get_attribute(\"href\")\n",
    "    if href!=None:\n",
    "        #elements.append(href)\n",
    "        i.click()\n",
    "        time.sleep(2)\n",
    "        fol = driver.find_elements(\"class name\",\"_a6hd\")\n",
    "        listt=[]\n",
    "        for f in fol:\n",
    "            if \"followers\" in f.text:\n",
    "                listt.append(f.text)\n",
    "        #count+=1\n",
    "        #if count==10:\n",
    "            #break\n",
    "        #time.sleep(3)\n",
    "#print(followers)\n",
    "#print(elements)\n",
    "#link_elements=[]\n",
    "#for i in elements:    \n",
    "    if i!=None:\n",
    "        link_elements.append(i)\n",
    "    \n",
    "#Click on the link element\n",
    "#link_element.click()"
   ]
  },
  {
   "cell_type": "code",
   "execution_count": 142,
   "id": "d897d029",
   "metadata": {},
   "outputs": [],
   "source": [
    "listt=[]\n",
    "for i in handle_names:\n",
    "    search_open_profile(i)\n",
    "    time.sleep(3)\n",
    "    fol = driver.find_elements(\"class name\",\"_a6hd\")\n",
    "    for i in fol:\n",
    "        if \"followers\" in i.text:\n",
    "            listt.append(i.text)"
   ]
  },
  {
   "cell_type": "code",
   "execution_count": 156,
   "id": "ff5220af",
   "metadata": {},
   "outputs": [
    {
     "name": "stdout",
     "output_type": "stream",
     "text": [
      "[1800000, 1800000, 1800000, 1200000, 389000]\n"
     ]
    }
   ],
   "source": [
    "def convert_to_int(string):\n",
    "    number_str = string[:-1]  # Remove the last character ('M' or 'K')\n",
    "    if string[-1] == 'M':\n",
    "        return int(float(number_str) * 1000000)  # Convert millions to integer\n",
    "    elif string[-1] == 'K':\n",
    "        return int(float(number_str) * 1000)  # Convert thousands to integer\n",
    "    else:\n",
    "        return int(number_str)  # If no 'M' or 'K', return the integer representation\n",
    "  # If no unit, return the integer representation\n",
    "\n",
    "# Extract numbers and convert them to integers using the function\n",
    "numbers = [convert_to_int(follower.split()[0]) for follower in listt]\n",
    "\n",
    "# Sort the numbers in descending order and print only the top 5\n",
    "top_5_numbers = sorted(numbers, reverse=True)[:5]\n",
    "\n",
    "# Print the top 5 numbers\n",
    "print(top_5_numbers)\n"
   ]
  },
  {
   "cell_type": "markdown",
   "id": "2db31adc",
   "metadata": {},
   "source": [
    "f=[]\n",
    "for follower in listt:   \n",
    "    f.append(follower.split()[0])"
   ]
  },
  {
   "cell_type": "code",
   "execution_count": null,
   "id": "40355f0d",
   "metadata": {},
   "outputs": [],
   "source": []
  },
  {
   "cell_type": "code",
   "execution_count": 175,
   "id": "df94ad13",
   "metadata": {},
   "outputs": [],
   "source": [
    "#function for getting top 5 handle which have highest number of followers\n",
    "def top_5_handles(lst):\n",
    "    try:\n",
    "        #dct contains username with number of followers\n",
    "        dct = {}\n",
    "        for i in lst :\n",
    "            #This fuction will search a user and open that profile\n",
    "            search_open_profile(i)\n",
    "            time.sleep(2)\n",
    "            #locating followers of user\n",
    "            followers = wait.until(EC.presence_of_all_elements_located((By.CLASS_NAME,'g47SY')))[1]\n",
    "            #replacing ',' with '' and converted into int\n",
    "            dct[i] = int(followers.get_attribute('title').replace(',' , ''))\n",
    "            print(dct)\n",
    "        #top 5 most followed user\n",
    "        count = 0\n",
    "        res = OrderedDict()\n",
    "        for i in sorted(dct, key=dct.get, reverse=True):\n",
    "            res[i] = dct[i]\n",
    "            count += 1\n",
    "            if(count >= 5) : \n",
    "                break\n",
    "                \n",
    "        return res\n",
    "    except TimeoutException :\n",
    "        print (\"Something went wrong! Try Again\")"
   ]
  },
  {
   "cell_type": "code",
   "execution_count": 176,
   "id": "ffbff149",
   "metadata": {},
   "outputs": [
    {
     "name": "stdout",
     "output_type": "stream",
     "text": [
      "Something went wrong! Try Again\n"
     ]
    }
   ],
   "source": [
    "top_handles = top_5_handles(handle_names)"
   ]
  },
  {
   "cell_type": "code",
   "execution_count": 177,
   "id": "49dbda7c",
   "metadata": {},
   "outputs": [
    {
     "ename": "NameError",
     "evalue": "name 'dct' is not defined",
     "output_type": "error",
     "traceback": [
      "\u001b[1;31m---------------------------------------------------------------------------\u001b[0m",
      "\u001b[1;31mNameError\u001b[0m                                 Traceback (most recent call last)",
      "\u001b[1;32m~\\AppData\\Local\\Temp\\ipykernel_30728\\4164774646.py\u001b[0m in \u001b[0;36m<module>\u001b[1;34m\u001b[0m\n\u001b[1;32m----> 1\u001b[1;33m \u001b[0mdct\u001b[0m\u001b[1;33m\u001b[0m\u001b[1;33m\u001b[0m\u001b[0m\n\u001b[0m",
      "\u001b[1;31mNameError\u001b[0m: name 'dct' is not defined"
     ]
    }
   ],
   "source": [
    "dct"
   ]
  },
  {
   "cell_type": "code",
   "execution_count": null,
   "id": "ae98762b",
   "metadata": {},
   "outputs": [],
   "source": []
  },
  {
   "cell_type": "code",
   "execution_count": null,
   "id": "c79fc2ef",
   "metadata": {},
   "outputs": [],
   "source": []
  },
  {
   "cell_type": "code",
   "execution_count": null,
   "id": "8b009c09",
   "metadata": {},
   "outputs": [],
   "source": []
  },
  {
   "cell_type": "code",
   "execution_count": null,
   "id": "0fc5d37a",
   "metadata": {},
   "outputs": [],
   "source": []
  },
  {
   "cell_type": "code",
   "execution_count": null,
   "id": "0859811b",
   "metadata": {},
   "outputs": [],
   "source": []
  }
 ],
 "metadata": {
  "kernelspec": {
   "display_name": "Python 3 (ipykernel)",
   "language": "python",
   "name": "python3"
  },
  "language_info": {
   "codemirror_mode": {
    "name": "ipython",
    "version": 3
   },
   "file_extension": ".py",
   "mimetype": "text/x-python",
   "name": "python",
   "nbconvert_exporter": "python",
   "pygments_lexer": "ipython3",
   "version": "3.9.13"
  }
 },
 "nbformat": 4,
 "nbformat_minor": 5
}
