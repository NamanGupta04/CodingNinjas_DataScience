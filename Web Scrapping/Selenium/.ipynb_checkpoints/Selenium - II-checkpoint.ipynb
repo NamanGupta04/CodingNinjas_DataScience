{
 "cells": [
  {
   "cell_type": "code",
   "execution_count": 1,
   "id": "013a3dfc",
   "metadata": {},
   "outputs": [],
   "source": [
    "from selenium import webdriver\n",
    "from selenium.webdriver.common.by import By"
   ]
  },
  {
   "cell_type": "code",
   "execution_count": 2,
   "id": "1b81eb6e",
   "metadata": {},
   "outputs": [],
   "source": [
    "driver = webdriver.Chrome()"
   ]
  },
  {
   "cell_type": "code",
   "execution_count": 3,
   "id": "0917dfab",
   "metadata": {},
   "outputs": [],
   "source": [
    "driver.get(\"https://www.instagram.com\")"
   ]
  },
  {
   "cell_type": "code",
   "execution_count": 4,
   "id": "620c0487",
   "metadata": {},
   "outputs": [],
   "source": [
    "for ele in driver.find_elements(\"tag name\",\"input\"):\n",
    "    if ele.get_attribute('type')=='text':\n",
    "        ele.send_keys(\"namang808@gmail.com\")"
   ]
  },
  {
   "cell_type": "code",
   "execution_count": 5,
   "id": "d9335bf2",
   "metadata": {},
   "outputs": [],
   "source": [
    "passwrd = open(\"pass.txt\",\"r\").read()\n"
   ]
  },
  {
   "cell_type": "code",
   "execution_count": 6,
   "id": "1fec3ece",
   "metadata": {},
   "outputs": [],
   "source": [
    "for ele in driver.find_elements(\"tag name\",\"input\"):\n",
    "    if ele.get_attribute('type')=='password':\n",
    "        ele.send_keys(passwrd)"
   ]
  },
  {
   "cell_type": "code",
   "execution_count": 7,
   "id": "c39611d3",
   "metadata": {},
   "outputs": [],
   "source": [
    "driver.find_element('xpath','//*[@id=\"loginForm\"]/div/div[3]/button').click()"
   ]
  },
  {
   "cell_type": "markdown",
   "id": "8ce2f0ec",
   "metadata": {},
   "source": [
    "for ele in driver.find_elements(\"tag name\",\"input\"):\n",
    "    if ele.get_attribute('type')=='password':\n",
    "        ele.send_keys(\"PASS\")"
   ]
  },
  {
   "cell_type": "markdown",
   "id": "960e228d",
   "metadata": {},
   "source": [
    "for ele in driver.find_elements(\"tag name\",\"div\"):\n",
    "    if ele.get_attribute('role')=='button':\n",
    "        if ele.text == \"Not now\":\n",
    "            ele.click()"
   ]
  },
  {
   "cell_type": "markdown",
   "id": "0c8969dc",
   "metadata": {},
   "source": [
    "driver.find_element('xpath','//*[@id=\"mount_0_0_I9\"]/div/div/div[2]/div/div/div[1]/div[1]/div[2]/section/main/div/div/div/div/div').click()"
   ]
  },
  {
   "cell_type": "code",
   "execution_count": null,
   "id": "672be8da",
   "metadata": {},
   "outputs": [],
   "source": []
  },
  {
   "cell_type": "markdown",
   "id": "111209fa",
   "metadata": {},
   "source": [
    "driver.find_element('xpath','/html/body/div[3]/div[1]/div/div[2]/div/div/div/div/div[2]/div/div/div[3]/button[2]').click()"
   ]
  },
  {
   "cell_type": "code",
   "execution_count": 8,
   "id": "7a252bb4",
   "metadata": {},
   "outputs": [],
   "source": [
    "#driver.get_cookies()"
   ]
  },
  {
   "cell_type": "code",
   "execution_count": 9,
   "id": "8877bc5d",
   "metadata": {},
   "outputs": [],
   "source": [
    "new_driver = webdriver.Chrome()\n",
    "new_driver.get(\"https://www.instagram.com\")"
   ]
  },
  {
   "cell_type": "code",
   "execution_count": 10,
   "id": "1e59db06",
   "metadata": {},
   "outputs": [],
   "source": [
    "for cook in driver.get_cookies():\n",
    "    new_driver.add_cookie(cook)"
   ]
  },
  {
   "cell_type": "code",
   "execution_count": 11,
   "id": "570e9ad7",
   "metadata": {},
   "outputs": [],
   "source": [
    "new_driver.get(\"https://www.instagram.com/\")"
   ]
  },
  {
   "cell_type": "markdown",
   "id": "7214fe4e",
   "metadata": {},
   "source": [
    "### Scrolling Techniques\n"
   ]
  },
  {
   "cell_type": "code",
   "execution_count": 13,
   "id": "b14c6e05",
   "metadata": {},
   "outputs": [],
   "source": [
    "import time"
   ]
  },
  {
   "cell_type": "code",
   "execution_count": null,
   "id": "d403e405",
   "metadata": {},
   "outputs": [],
   "source": [
    "new_driver2 = webdriver.Chrome()\n"
   ]
  }
 ],
 "metadata": {
  "kernelspec": {
   "display_name": "Python 3 (ipykernel)",
   "language": "python",
   "name": "python3"
  },
  "language_info": {
   "codemirror_mode": {
    "name": "ipython",
    "version": 3
   },
   "file_extension": ".py",
   "mimetype": "text/x-python",
   "name": "python",
   "nbconvert_exporter": "python",
   "pygments_lexer": "ipython3",
   "version": "3.9.13"
  }
 },
 "nbformat": 4,
 "nbformat_minor": 5
}
