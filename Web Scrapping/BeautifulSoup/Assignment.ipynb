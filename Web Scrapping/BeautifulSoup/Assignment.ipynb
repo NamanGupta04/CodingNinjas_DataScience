{
 "cells": [
  {
   "cell_type": "code",
   "execution_count": 17,
   "id": "5d0fe2f7",
   "metadata": {},
   "outputs": [
    {
     "name": "stdout",
     "output_type": "stream",
     "text": [
      "Site not reachable\n"
     ]
    }
   ],
   "source": [
    "from bs4 import BeautifulSoup\n",
    "import requests\n",
    "\n",
    "response = requests.get('https://www.imdb.com/')\n",
    "if response.status_code == 200:\n",
    "    data = BeautifulSoup(response.text,\"html.parser\")\n",
    "\n",
    "    title = data.find_all(class_='lister-item-header')[:3]\n",
    "    genre = data.find_all(class_='genre')[:3]\n",
    "    for i in range(len(genre)):\n",
    "        print(title[i].find('a').string+' ;',end=' ')\n",
    "        print(genre[i].string.strip())\n",
    "else:\n",
    "    print(\"Site not reachable\")"
   ]
  },
  {
   "cell_type": "code",
   "execution_count": null,
   "id": "7c1d36f6",
   "metadata": {},
   "outputs": [],
   "source": []
  },
  {
   "cell_type": "code",
   "execution_count": null,
   "id": "175bdf8d",
   "metadata": {},
   "outputs": [],
   "source": []
  }
 ],
 "metadata": {
  "kernelspec": {
   "display_name": "Python 3 (ipykernel)",
   "language": "python",
   "name": "python3"
  },
  "language_info": {
   "codemirror_mode": {
    "name": "ipython",
    "version": 3
   },
   "file_extension": ".py",
   "mimetype": "text/x-python",
   "name": "python",
   "nbconvert_exporter": "python",
   "pygments_lexer": "ipython3",
   "version": "3.9.13"
  }
 },
 "nbformat": 4,
 "nbformat_minor": 5
}
