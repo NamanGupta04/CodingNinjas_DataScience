{
 "cells": [
  {
   "cell_type": "markdown",
   "id": "6c78c964",
   "metadata": {},
   "source": [
    "# Week-1: Lecture-3 Conditionals And Loops"
   ]
  },
  {
   "cell_type": "markdown",
   "id": "14938eee",
   "metadata": {},
   "source": [
    "#### Q1. Given an integer n, find if n is positive, negative or 0.\n",
    "1. If n is positive, print \"Positive\"\n",
    "2. If n is negative, print \"Negative\"\n",
    "3. if n is equal to 0, print \"Zero\"."
   ]
  },
  {
   "cell_type": "code",
   "execution_count": null,
   "id": "e56415f2",
   "metadata": {},
   "outputs": [],
   "source": [
    "n = int(input())\n",
    "if n==0:\n",
    "    print(\"Zero\")\n",
    "elif n>0:\n",
    "    print(\"Positive\")\n",
    "else:\n",
    "    print(\"Negative\")"
   ]
  },
  {
   "cell_type": "markdown",
   "id": "3c75f6c0",
   "metadata": {},
   "source": [
    "#### Q2. Check whether a number is prime or not?"
   ]
  },
  {
   "cell_type": "code",
   "execution_count": null,
   "id": "d01d5297",
   "metadata": {},
   "outputs": [],
   "source": [
    "n=int(input())\n",
    "d=2\n",
    "primality=0\n",
    "while d<n:\n",
    "    if n%d==0:\n",
    "        primality+=1\n",
    "    d+=1\n",
    "if primality==0:\n",
    "    print(\"Prime\")\n",
    "else:\n",
    "    print(\"Not Prime\")"
   ]
  },
  {
   "cell_type": "markdown",
   "id": "ec50a78b",
   "metadata": {},
   "source": [
    "#### Q3. Given an integer n, find and print the sum of numbers from 1 to n."
   ]
  },
  {
   "cell_type": "code",
   "execution_count": null,
   "id": "7dfb37fa",
   "metadata": {},
   "outputs": [],
   "source": [
    "n=int(input())\n",
    "sum=0\n",
    "i=1\n",
    "while i<=n:\n",
    "    sum=sum+i\n",
    "    i+=1\n",
    "print(sum)"
   ]
  },
  {
   "cell_type": "markdown",
   "id": "dffe3cfa",
   "metadata": {},
   "source": [
    "####  Q4. Given a number N, print sum of all even numbers from 1 to N"
   ]
  },
  {
   "cell_type": "code",
   "execution_count": null,
   "id": "b3945c1f",
   "metadata": {},
   "outputs": [],
   "source": [
    "n=int(input())\n",
    "Sum=0\n",
    "for i in range(0,n+1,2):\n",
    "    Sum=Sum+i\n",
    "print(Sum)"
   ]
  },
  {
   "cell_type": "markdown",
   "id": "6eb84f8d",
   "metadata": {},
   "source": [
    "#### Q5. Print Prime Numbers from 0 to n."
   ]
  },
  {
   "cell_type": "code",
   "execution_count": null,
   "id": "fc62ca82",
   "metadata": {},
   "outputs": [],
   "source": [
    "n = int(input())\n",
    "k = 2\n",
    "while k <= n:\n",
    "    d = 2\n",
    "    primality=0\n",
    "    while d < k:\n",
    "        if (k % d == 0):\n",
    "            primality+=1\n",
    "        d = d + 1\n",
    "    if primality==0:\n",
    "        print(k)\n",
    "    k = k + 1\n",
    "    primality=0"
   ]
  },
  {
   "cell_type": "markdown",
   "id": "b5456917",
   "metadata": {},
   "source": [
    "#### Q6.Given three values - Start Fahrenheit Value (S), End Fahrenheit value (E) and Step Size (W), you need to convert all Fahrenheit values from Start to End at the gap of W, into their corresponding Celsius values and print the table"
   ]
  },
  {
   "cell_type": "code",
   "execution_count": null,
   "id": "62827764",
   "metadata": {},
   "outputs": [],
   "source": [
    "def FtoC(S,E,W):\n",
    "    for temp in range(S,E+1,W):\n",
    "        Cel = 5/9*(temp-32)\n",
    "        print(temp,end=\" \"),print(int(Cel))\n",
    "s=int(input())\n",
    "e=int(input())\n",
    "w=int(input())\n",
    "FtoC(s,e,w)"
   ]
  },
  {
   "cell_type": "markdown",
   "id": "f92f3899",
   "metadata": {},
   "source": [
    "#### Q7. Write a program that performs the tasks of a simple calculator. The program should first take an integer as input and then based on that integer perform the task as given below.\n",
    "1. If the input is 1, then 2 integers are taken from the user and their sum is printed.\n",
    "2. If the input is 2, then 2 integers are taken from the user and their difference(1st number - 2nd number) is printed.\n",
    "3. If the input is 3, then 2 integers are taken from the user and their product is printed.\n",
    "4. If the input is 4, then 2 integers are taken from the user and the quotient obtained (on dividing 1st number by 2nd number) is printed.\n",
    "5. If the input is 5, then 2 integers are taken from the user and their remainder(1st number mod 2nd number) is printed.\n",
    "6. If the input is 6, then the program exits.\n",
    "7. For any other input, then print \"Invalid Operation\"."
   ]
  },
  {
   "cell_type": "code",
   "execution_count": null,
   "id": "17a7e9de",
   "metadata": {},
   "outputs": [],
   "source": [
    "n= int(input())\n",
    "while n != 6:\n",
    "    if n <= 5 and n >= 1:\n",
    "        a = int(input())\n",
    "        b = int(input())\n",
    "    if n==1:\n",
    "        print(a + b)\n",
    "    if n==2:\n",
    "        print(a - b)\n",
    "    if n==3:\n",
    "        print(a * b)\n",
    "    if n==4:\n",
    "        print(a // b)\n",
    "    if n==5:\n",
    "        print(a % b)\n",
    "    if n==6:\n",
    "        break\n",
    "    elif n < 1 or n > 6:\n",
    "        print(\"Invalid Operation\")\n",
    "    n=int(input())    "
   ]
  },
  {
   "cell_type": "markdown",
   "id": "1b50a6e8",
   "metadata": {},
   "source": [
    "#### Q8.Write a program to generate the reverse of a given number N. Print the corresponding reverse number.\n",
    "Note : If a number has trailing zeros, then its reverse will not include them. For e.g., reverse of 10400 will be 401 instead of 00401."
   ]
  },
  {
   "cell_type": "code",
   "execution_count": null,
   "id": "84506890",
   "metadata": {},
   "outputs": [],
   "source": [
    "n= int(input())\n",
    "rev=0\n",
    "while n!=0:\n",
    "    rem=n%10\n",
    "    rev=rev*10+rem\n",
    "    n=n//10\n",
    "print(rev)"
   ]
  },
  {
   "cell_type": "markdown",
   "id": "a0f8abd9",
   "metadata": {},
   "source": [
    "#### Q8. Write a program to determine if given number is palindrome or not. Print true if it is palindrome, false otherwise.\n",
    "Palindrome are the numbers for which reverse is exactly same as the original one. For eg. 121\n"
   ]
  },
  {
   "cell_type": "code",
   "execution_count": null,
   "id": "4c51348d",
   "metadata": {},
   "outputs": [],
   "source": [
    "def checkPalindrome(N):\n",
    "    i=N\n",
    "    R=0\n",
    "    while N>0:\n",
    "        R=R*10+N%10\n",
    "        N=N//10\n",
    "    if R==i:\n",
    "        print(\"true\")\n",
    "    else:\n",
    "        print(\"false\")\n",
    "\n",
    "num = int(input())\n",
    "checkPalindrome(num)"
   ]
  },
  {
   "cell_type": "markdown",
   "id": "fc806894",
   "metadata": {},
   "source": [
    "#### Q9.Write a program to input an integer N and print the sum of all its even digits and sum of all its odd digits separately.\n",
    "Digits mean numbers, not the places! That is, if the given integer is \"13245\", even digits are 2 & 4 and odd digits are 1, 3 & 5."
   ]
  },
  {
   "cell_type": "code",
   "execution_count": 16,
   "id": "63c45e54",
   "metadata": {},
   "outputs": [
    {
     "name": "stdout",
     "output_type": "stream",
     "text": [
      "123456\n",
      "12 9\n"
     ]
    }
   ],
   "source": [
    "N=int(input())\n",
    "N_str=str(N)\n",
    "N_str=[*N_str]\n",
    "Sum_of_odd_digits=0\n",
    "Sum_of_even_digits=0\n",
    "for i in range(len(N_str)):\n",
    "    if int(N_str[i])%2==0:\n",
    "        Sum_of_even_digits+=int(N_str[i])\n",
    "    else:\n",
    "        Sum_of_odd_digits+=int(N_str[i])\n",
    "print(Sum_of_even_digits,Sum_of_odd_digits)"
   ]
  },
  {
   "cell_type": "markdown",
   "id": "47a3b76c",
   "metadata": {},
   "source": [
    "#### Q10. Nth term of Fibonacci series F(n), where F(n) is a function, is calculated using the following formula -\n",
    "    F(n) = F(n-1) + F(n-2), \n",
    "    Where, F(1) =  1, \n",
    "           F(2) = 1"
   ]
  },
  {
   "cell_type": "code",
   "execution_count": 17,
   "id": "06800efc",
   "metadata": {},
   "outputs": [
    {
     "name": "stdout",
     "output_type": "stream",
     "text": [
      "1\n",
      "1\n"
     ]
    }
   ],
   "source": [
    "a=int(input())\n",
    "first=1                                         \n",
    "second=1                                         \n",
    "if a<=1:\n",
    "    print(first)\n",
    "else:\n",
    "    for x in range(2,a):\n",
    "        next=first+second                           \n",
    "        first=second\n",
    "        second=next\n",
    "    print(next)"
   ]
  },
  {
   "cell_type": "code",
   "execution_count": null,
   "id": "aba65240",
   "metadata": {},
   "outputs": [],
   "source": []
  }
 ],
 "metadata": {
  "kernelspec": {
   "display_name": "Python 3 (ipykernel)",
   "language": "python",
   "name": "python3"
  },
  "language_info": {
   "codemirror_mode": {
    "name": "ipython",
    "version": 3
   },
   "file_extension": ".py",
   "mimetype": "text/x-python",
   "name": "python",
   "nbconvert_exporter": "python",
   "pygments_lexer": "ipython3",
   "version": "3.9.13"
  }
 },
 "nbformat": 4,
 "nbformat_minor": 5
}
