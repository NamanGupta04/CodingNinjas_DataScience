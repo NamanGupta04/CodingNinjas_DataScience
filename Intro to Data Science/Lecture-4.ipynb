{
 "cells": [
  {
   "cell_type": "markdown",
   "id": "00aa4730",
   "metadata": {},
   "source": [
    "# Lecture-4 Patterns"
   ]
  },
  {
   "cell_type": "markdown",
   "id": "5844adb1",
   "metadata": {},
   "source": [
    "### Pattern-1"
   ]
  },
  {
   "cell_type": "code",
   "execution_count": null,
   "id": "bd5e9955",
   "metadata": {},
   "outputs": [],
   "source": [
    "N=int(input())\n",
    "i=1\n",
    "while i<=N:\n",
    "    j=1\n",
    "    while j<=i:\n",
    "        print(\"*\",end=\"\")\n",
    "        j+=1\n",
    "    print()\n",
    "    i+=1"
   ]
  },
  {
   "cell_type": "markdown",
   "id": "9b6d48f4",
   "metadata": {},
   "source": [
    "### Pattern-2"
   ]
  },
  {
   "cell_type": "code",
   "execution_count": null,
   "id": "6252321e",
   "metadata": {},
   "outputs": [],
   "source": [
    "N=int(input())\n",
    "i=1\n",
    "while i<=N:\n",
    "    j=1\n",
    "    start_char = chr(ord('A') + i - 1)\n",
    "    while j<=i:\n",
    "        AsciiTarget=ord(start_char)+j-1\n",
    "        print(chr(AsciiTarget),end=\"\")\n",
    "        j+=1\n",
    "    print()\n",
    "    i+=1"
   ]
  },
  {
   "cell_type": "markdown",
   "id": "41f816d2",
   "metadata": {},
   "source": [
    "### Pattern-3"
   ]
  },
  {
   "cell_type": "code",
   "execution_count": null,
   "id": "21c2cafa",
   "metadata": {},
   "outputs": [],
   "source": [
    "n = int(input())\n",
    "i = n\n",
    "while i >= 1:\n",
    "    j = i\n",
    "    while j<=n:\n",
    "        print(chr(ord(\"A\")+j-1),end=\"\")\n",
    "        j = j + 1\n",
    "    print()\n",
    "    i = i - 1"
   ]
  },
  {
   "cell_type": "markdown",
   "id": "a0daeb5b",
   "metadata": {},
   "source": [
    "### Pattern-4"
   ]
  },
  {
   "cell_type": "code",
   "execution_count": null,
   "id": "3c940ea3",
   "metadata": {},
   "outputs": [],
   "source": [
    "n = int(input())\n",
    "i = 1\n",
    "while i <= n:\n",
    "    char = chr(ord('A') + i - 1)\n",
    "    j = 1\n",
    "    while j <= i:\n",
    "        print(char, end=\"\")\n",
    "        j += 1\n",
    "    print()\n",
    "    i += 1"
   ]
  },
  {
   "cell_type": "markdown",
   "id": "ed59e895",
   "metadata": {},
   "source": [
    "### Pattern-5"
   ]
  },
  {
   "cell_type": "code",
   "execution_count": null,
   "id": "ebee8846",
   "metadata": {},
   "outputs": [],
   "source": [
    "n = int(input())\n",
    "i = 1\n",
    "while i<=n:\n",
    "    j = 1\n",
    "    while j <=i:\n",
    "        print(i-j+1,end='')\n",
    "        j = j + 1\n",
    "    print()\n",
    "    i = i + 1"
   ]
  },
  {
   "cell_type": "markdown",
   "id": "717ed585",
   "metadata": {},
   "source": [
    "### Pattern-6"
   ]
  },
  {
   "cell_type": "code",
   "execution_count": null,
   "id": "508ff3dd",
   "metadata": {},
   "outputs": [],
   "source": [
    "n=int(input())\n",
    "i=1\n",
    "while i<=n:\n",
    "    j=1\n",
    "    while j<=n-i+1:\n",
    "        print(\"*\",end=\"\")\n",
    "        j+=1\n",
    "    print()\n",
    "    i+=1"
   ]
  },
  {
   "cell_type": "markdown",
   "id": "e499cee1",
   "metadata": {},
   "source": [
    "### Pattern-7"
   ]
  },
  {
   "cell_type": "code",
   "execution_count": 1,
   "id": "37a10aeb",
   "metadata": {},
   "outputs": [
    {
     "name": "stdout",
     "output_type": "stream",
     "text": [
      "4\n",
      "   *\n",
      "  **\n",
      " ***\n",
      "****\n"
     ]
    }
   ],
   "source": [
    "n=int(input())\n",
    "i=1\n",
    "while i<=n:\n",
    "    spaces=1\n",
    "    while spaces<=n-i:\n",
    "        print(' ',end=\"\")\n",
    "        spaces+=1\n",
    "    stars=1\n",
    "    while stars<=i:\n",
    "        print(\"*\",end=\"\")\n",
    "        stars+=1\n",
    "    print()\n",
    "    i+=1\n",
    "    "
   ]
  },
  {
   "cell_type": "markdown",
   "id": "9132f743",
   "metadata": {},
   "source": [
    "### Pattern-8"
   ]
  },
  {
   "cell_type": "code",
   "execution_count": 2,
   "id": "39e90415",
   "metadata": {},
   "outputs": [
    {
     "name": "stdout",
     "output_type": "stream",
     "text": [
      "4\n",
      "   1\n",
      "  232\n",
      " 34543\n",
      "4567654\n"
     ]
    }
   ],
   "source": [
    "n = int(input())\n",
    "i = 1\n",
    "while i <= n:\n",
    "    spaces = 1\n",
    "    # spaces\n",
    "    while spaces <= n - i:\n",
    "        print(' ', end='')\n",
    "        spaces = spaces + 1\n",
    "    p = 1\n",
    "    j = 1\n",
    "    # increasing seq\n",
    "    while j <= i:\n",
    "        print(p+i-1, end='')\n",
    "        j = j + 1\n",
    "        p = p + 1\n",
    "    # decreasing seq\n",
    "    p = i - 1\n",
    "    while p >= 1:\n",
    "        print(p+i-1, end='')\n",
    "        p = p -1\n",
    "    print()\n",
    "    i = i + 1"
   ]
  },
  {
   "cell_type": "code",
   "execution_count": 3,
   "id": "86af7167",
   "metadata": {},
   "outputs": [
    {
     "name": "stdout",
     "output_type": "stream",
     "text": [
      "5\n",
      "  *\n",
      " ***\n",
      "*****\n",
      " ***\n",
      "  *\n"
     ]
    }
   ],
   "source": [
    "n=int(input())\n",
    "n1=(n+1)//2\n",
    "n2=n1-1\n",
    "i=1\n",
    "while(i<=n1):\n",
    "    a=1\n",
    "    while(a<=n1-i):\n",
    "        print(\" \",end=\"\")\n",
    "        a=a+1\n",
    "    b=1\n",
    "    while(b<=2*i-1):\n",
    "        print('*',end=\"\")\n",
    "        b=b+1\n",
    "    print()\n",
    "    i=i+1\n",
    "i=n2\n",
    "while(i>=1):\n",
    "    a=1\n",
    "    while(a<=n2 - i +1):\n",
    "        print(\" \",end='')\n",
    "        a = a+1\n",
    "    j=1\n",
    "    while(j<=2*i-1):\n",
    "        print('*',end=\"\")\n",
    "        j=j+1\n",
    "    print()\n",
    "    i = i-1"
   ]
  },
  {
   "cell_type": "code",
   "execution_count": null,
   "id": "9866dd9d",
   "metadata": {},
   "outputs": [],
   "source": []
  }
 ],
 "metadata": {
  "kernelspec": {
   "display_name": "Python 3 (ipykernel)",
   "language": "python",
   "name": "python3"
  },
  "language_info": {
   "codemirror_mode": {
    "name": "ipython",
    "version": 3
   },
   "file_extension": ".py",
   "mimetype": "text/x-python",
   "name": "python",
   "nbconvert_exporter": "python",
   "pygments_lexer": "ipython3",
   "version": "3.9.13"
  }
 },
 "nbformat": 4,
 "nbformat_minor": 5
}
