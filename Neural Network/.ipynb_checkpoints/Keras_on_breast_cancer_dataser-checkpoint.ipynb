{
 "cells": [
  {
   "cell_type": "code",
   "execution_count": 1,
   "id": "383ebe5d-f4fa-408d-8deb-1bed9e1b7385",
   "metadata": {},
   "outputs": [
    {
     "name": "stdout",
     "output_type": "stream",
     "text": [
      "Requirement already satisfied: keras in c:\\users\\naman gupta\\anaconda3\\lib\\site-packages (3.3.2)\n",
      "Requirement already satisfied: absl-py in c:\\users\\naman gupta\\anaconda3\\lib\\site-packages (from keras) (2.1.0)\n",
      "Requirement already satisfied: numpy in c:\\users\\naman gupta\\anaconda3\\lib\\site-packages (from keras) (1.26.4)\n",
      "Requirement already satisfied: rich in c:\\users\\naman gupta\\anaconda3\\lib\\site-packages (from keras) (13.3.5)\n",
      "Requirement already satisfied: namex in c:\\users\\naman gupta\\anaconda3\\lib\\site-packages (from keras) (0.0.8)\n",
      "Requirement already satisfied: h5py in c:\\users\\naman gupta\\anaconda3\\lib\\site-packages (from keras) (3.11.0)\n",
      "Requirement already satisfied: optree in c:\\users\\naman gupta\\anaconda3\\lib\\site-packages (from keras) (0.11.0)\n",
      "Requirement already satisfied: ml-dtypes in c:\\users\\naman gupta\\anaconda3\\lib\\site-packages (from keras) (0.3.2)\n",
      "Requirement already satisfied: typing-extensions>=4.0.0 in c:\\users\\naman gupta\\anaconda3\\lib\\site-packages (from optree->keras) (4.9.0)\n",
      "Requirement already satisfied: markdown-it-py<3.0.0,>=2.2.0 in c:\\users\\naman gupta\\anaconda3\\lib\\site-packages (from rich->keras) (2.2.0)\n",
      "Requirement already satisfied: pygments<3.0.0,>=2.13.0 in c:\\users\\naman gupta\\anaconda3\\lib\\site-packages (from rich->keras) (2.15.1)\n",
      "Requirement already satisfied: mdurl~=0.1 in c:\\users\\naman gupta\\anaconda3\\lib\\site-packages (from markdown-it-py<3.0.0,>=2.2.0->rich->keras) (0.1.0)\n",
      "Note: you may need to restart the kernel to use updated packages.\n"
     ]
    }
   ],
   "source": [
    "pip install keras"
   ]
  },
  {
   "cell_type": "code",
   "execution_count": 2,
   "id": "4bed63a3-ef65-4e34-be76-6425e880e1a4",
   "metadata": {},
   "outputs": [],
   "source": [
    "from keras.models import Sequential\n",
    "from keras.layers import Dense"
   ]
  },
  {
   "cell_type": "code",
   "execution_count": 3,
   "id": "669cdf3a-1d46-4f3d-a1cd-4f1e9e353a1d",
   "metadata": {},
   "outputs": [],
   "source": [
    "#creating a Model\n",
    "model = Sequential()"
   ]
  },
  {
   "cell_type": "code",
   "execution_count": 4,
   "id": "9a6dd6b8-b516-40f0-8120-7ad18f86c58f",
   "metadata": {},
   "outputs": [
    {
     "name": "stderr",
     "output_type": "stream",
     "text": [
      "C:\\Users\\Naman Gupta\\anaconda3\\Lib\\site-packages\\keras\\src\\layers\\core\\dense.py:87: UserWarning: Do not pass an `input_shape`/`input_dim` argument to a layer. When using Sequential models, prefer using an `Input(shape)` object as the first layer in the model instead.\n",
      "  super().__init__(activity_regularizer=activity_regularizer, **kwargs)\n"
     ]
    }
   ],
   "source": [
    "layer1 = Dense(units = 32 , activation = \"relu\" , input_dim = 30)\n",
    "model.add(layer1)"
   ]
  },
  {
   "cell_type": "code",
   "execution_count": 5,
   "id": "c620b502-a1f0-4895-9825-57ad9eac1221",
   "metadata": {},
   "outputs": [],
   "source": [
    "model.add(Dense(units = 16 , activation = \"relu\"))\n",
    "model.add(Dense(units = 1 , activation = \"sigmoid\"))"
   ]
  },
  {
   "cell_type": "code",
   "execution_count": 6,
   "id": "9d18348a-c096-4ab9-acb4-eae8bda02c97",
   "metadata": {},
   "outputs": [],
   "source": [
    "model.compile(optimizer = 'adam',loss = \"binary_crossentropy\",metrics=['accuracy'])"
   ]
  },
  {
   "cell_type": "code",
   "execution_count": 7,
   "id": "348fea8a-ffbc-4f07-aa0b-a1e2817d6f7c",
   "metadata": {},
   "outputs": [],
   "source": [
    "from sklearn import datasets\n",
    "cancer = datasets.load_breast_cancer()\n",
    "from sklearn.model_selection import train_test_split\n",
    "\n",
    "x_train , x_test , y_train , y_test = train_test_split(cancer.data , cancer.target , test_size = 0.2)"
   ]
  },
  {
   "cell_type": "code",
   "execution_count": 8,
   "id": "7928aeee-4244-4767-8001-8926a1271ab2",
   "metadata": {},
   "outputs": [],
   "source": [
    "from sklearn.preprocessing import StandardScaler\n",
    "sc = StandardScaler()\n",
    "x_train = sc.fit_transform(x_train)\n",
    "x_test = sc.transform(x_test)"
   ]
  },
  {
   "cell_type": "code",
   "execution_count": 9,
   "id": "9bbe35a4-a3a7-4bf4-9126-f37b4dae66d0",
   "metadata": {},
   "outputs": [
    {
     "name": "stdout",
     "output_type": "stream",
     "text": [
      "Epoch 1/20\n",
      "\u001b[1m10/10\u001b[0m \u001b[32m━━━━━━━━━━━━━━━━━━━━\u001b[0m\u001b[37m\u001b[0m \u001b[1m2s\u001b[0m 37ms/step - accuracy: 0.3365 - loss: 0.8278 - val_accuracy: 0.4912 - val_loss: 0.6428\n",
      "Epoch 2/20\n",
      "\u001b[1m10/10\u001b[0m \u001b[32m━━━━━━━━━━━━━━━━━━━━\u001b[0m\u001b[37m\u001b[0m \u001b[1m0s\u001b[0m 6ms/step - accuracy: 0.5223 - loss: 0.6130 - val_accuracy: 0.7632 - val_loss: 0.4924\n",
      "Epoch 3/20\n",
      "\u001b[1m10/10\u001b[0m \u001b[32m━━━━━━━━━━━━━━━━━━━━\u001b[0m\u001b[37m\u001b[0m \u001b[1m0s\u001b[0m 6ms/step - accuracy: 0.8306 - loss: 0.4771 - val_accuracy: 0.9298 - val_loss: 0.3874\n",
      "Epoch 4/20\n",
      "\u001b[1m10/10\u001b[0m \u001b[32m━━━━━━━━━━━━━━━━━━━━\u001b[0m\u001b[37m\u001b[0m \u001b[1m0s\u001b[0m 6ms/step - accuracy: 0.9403 - loss: 0.3722 - val_accuracy: 0.9298 - val_loss: 0.3119\n",
      "Epoch 5/20\n",
      "\u001b[1m10/10\u001b[0m \u001b[32m━━━━━━━━━━━━━━━━━━━━\u001b[0m\u001b[37m\u001b[0m \u001b[1m0s\u001b[0m 5ms/step - accuracy: 0.9486 - loss: 0.2925 - val_accuracy: 0.9386 - val_loss: 0.2560\n",
      "Epoch 6/20\n",
      "\u001b[1m10/10\u001b[0m \u001b[32m━━━━━━━━━━━━━━━━━━━━\u001b[0m\u001b[37m\u001b[0m \u001b[1m0s\u001b[0m 5ms/step - accuracy: 0.9444 - loss: 0.2472 - val_accuracy: 0.9474 - val_loss: 0.2138\n",
      "Epoch 7/20\n",
      "\u001b[1m10/10\u001b[0m \u001b[32m━━━━━━━━━━━━━━━━━━━━\u001b[0m\u001b[37m\u001b[0m \u001b[1m0s\u001b[0m 5ms/step - accuracy: 0.9588 - loss: 0.2018 - val_accuracy: 0.9561 - val_loss: 0.1825\n",
      "Epoch 8/20\n",
      "\u001b[1m10/10\u001b[0m \u001b[32m━━━━━━━━━━━━━━━━━━━━\u001b[0m\u001b[37m\u001b[0m \u001b[1m0s\u001b[0m 5ms/step - accuracy: 0.9668 - loss: 0.1727 - val_accuracy: 0.9561 - val_loss: 0.1605\n",
      "Epoch 9/20\n",
      "\u001b[1m10/10\u001b[0m \u001b[32m━━━━━━━━━━━━━━━━━━━━\u001b[0m\u001b[37m\u001b[0m \u001b[1m0s\u001b[0m 5ms/step - accuracy: 0.9542 - loss: 0.1513 - val_accuracy: 0.9561 - val_loss: 0.1456\n",
      "Epoch 10/20\n",
      "\u001b[1m10/10\u001b[0m \u001b[32m━━━━━━━━━━━━━━━━━━━━\u001b[0m\u001b[37m\u001b[0m \u001b[1m0s\u001b[0m 5ms/step - accuracy: 0.9729 - loss: 0.1218 - val_accuracy: 0.9561 - val_loss: 0.1342\n",
      "Epoch 11/20\n",
      "\u001b[1m10/10\u001b[0m \u001b[32m━━━━━━━━━━━━━━━━━━━━\u001b[0m\u001b[37m\u001b[0m \u001b[1m0s\u001b[0m 5ms/step - accuracy: 0.9724 - loss: 0.1141 - val_accuracy: 0.9561 - val_loss: 0.1252\n",
      "Epoch 12/20\n",
      "\u001b[1m10/10\u001b[0m \u001b[32m━━━━━━━━━━━━━━━━━━━━\u001b[0m\u001b[37m\u001b[0m \u001b[1m0s\u001b[0m 5ms/step - accuracy: 0.9716 - loss: 0.1106 - val_accuracy: 0.9561 - val_loss: 0.1181\n",
      "Epoch 13/20\n",
      "\u001b[1m10/10\u001b[0m \u001b[32m━━━━━━━━━━━━━━━━━━━━\u001b[0m\u001b[37m\u001b[0m \u001b[1m0s\u001b[0m 5ms/step - accuracy: 0.9748 - loss: 0.0932 - val_accuracy: 0.9561 - val_loss: 0.1128\n",
      "Epoch 14/20\n",
      "\u001b[1m10/10\u001b[0m \u001b[32m━━━━━━━━━━━━━━━━━━━━\u001b[0m\u001b[37m\u001b[0m \u001b[1m0s\u001b[0m 5ms/step - accuracy: 0.9686 - loss: 0.1052 - val_accuracy: 0.9561 - val_loss: 0.1091\n",
      "Epoch 15/20\n",
      "\u001b[1m10/10\u001b[0m \u001b[32m━━━━━━━━━━━━━━━━━━━━\u001b[0m\u001b[37m\u001b[0m \u001b[1m0s\u001b[0m 5ms/step - accuracy: 0.9675 - loss: 0.0911 - val_accuracy: 0.9561 - val_loss: 0.1050\n",
      "Epoch 16/20\n",
      "\u001b[1m10/10\u001b[0m \u001b[32m━━━━━━━━━━━━━━━━━━━━\u001b[0m\u001b[37m\u001b[0m \u001b[1m0s\u001b[0m 5ms/step - accuracy: 0.9729 - loss: 0.0995 - val_accuracy: 0.9649 - val_loss: 0.1012\n",
      "Epoch 17/20\n",
      "\u001b[1m10/10\u001b[0m \u001b[32m━━━━━━━━━━━━━━━━━━━━\u001b[0m\u001b[37m\u001b[0m \u001b[1m0s\u001b[0m 5ms/step - accuracy: 0.9751 - loss: 0.0986 - val_accuracy: 0.9649 - val_loss: 0.0980\n",
      "Epoch 18/20\n",
      "\u001b[1m10/10\u001b[0m \u001b[32m━━━━━━━━━━━━━━━━━━━━\u001b[0m\u001b[37m\u001b[0m \u001b[1m0s\u001b[0m 5ms/step - accuracy: 0.9790 - loss: 0.0809 - val_accuracy: 0.9649 - val_loss: 0.0948\n",
      "Epoch 19/20\n",
      "\u001b[1m10/10\u001b[0m \u001b[32m━━━━━━━━━━━━━━━━━━━━\u001b[0m\u001b[37m\u001b[0m \u001b[1m0s\u001b[0m 5ms/step - accuracy: 0.9705 - loss: 0.0813 - val_accuracy: 0.9649 - val_loss: 0.0926\n",
      "Epoch 20/20\n",
      "\u001b[1m10/10\u001b[0m \u001b[32m━━━━━━━━━━━━━━━━━━━━\u001b[0m\u001b[37m\u001b[0m \u001b[1m0s\u001b[0m 5ms/step - accuracy: 0.9828 - loss: 0.0646 - val_accuracy: 0.9649 - val_loss: 0.0905\n"
     ]
    },
    {
     "data": {
      "text/plain": [
       "<keras.src.callbacks.history.History at 0x27f808a0b90>"
      ]
     },
     "execution_count": 9,
     "metadata": {},
     "output_type": "execute_result"
    }
   ],
   "source": [
    "model.fit(x_train , y_train , epochs = 20 , batch_size = 50 , validation_data=(x_test,y_test))"
   ]
  },
  {
   "cell_type": "code",
   "execution_count": 10,
   "id": "53d8361c-814c-4f2f-b763-2d474cf04cd2",
   "metadata": {},
   "outputs": [
    {
     "name": "stdout",
     "output_type": "stream",
     "text": [
      "\u001b[1m4/4\u001b[0m \u001b[32m━━━━━━━━━━━━━━━━━━━━\u001b[0m\u001b[37m\u001b[0m \u001b[1m0s\u001b[0m 26ms/step\n"
     ]
    },
    {
     "data": {
      "text/plain": [
       "array([[9.98417318e-01],\n",
       "       [5.01187086e-01],\n",
       "       [2.05137508e-06],\n",
       "       [1.05746258e-02],\n",
       "       [7.73196638e-01],\n",
       "       [9.73608613e-01],\n",
       "       [9.96174634e-01],\n",
       "       [5.83311252e-04],\n",
       "       [1.28476620e-02],\n",
       "       [1.22104921e-05],\n",
       "       [6.22854307e-02],\n",
       "       [9.94469643e-01],\n",
       "       [9.95494723e-01],\n",
       "       [9.83807147e-01],\n",
       "       [9.94041264e-01],\n",
       "       [1.49630956e-04],\n",
       "       [9.92646456e-01],\n",
       "       [1.08225821e-02],\n",
       "       [7.22617889e-03],\n",
       "       [9.94102359e-01],\n",
       "       [8.98380392e-07],\n",
       "       [1.86798774e-04],\n",
       "       [8.23869228e-01],\n",
       "       [9.53638196e-01],\n",
       "       [1.36454961e-13],\n",
       "       [9.06055689e-01],\n",
       "       [9.98642266e-01],\n",
       "       [9.30518389e-01],\n",
       "       [9.95561182e-01],\n",
       "       [9.72524643e-01],\n",
       "       [8.88499141e-01],\n",
       "       [9.97289717e-01],\n",
       "       [2.51491647e-02],\n",
       "       [9.95338798e-01],\n",
       "       [9.97151434e-01],\n",
       "       [9.88223314e-01],\n",
       "       [9.91781712e-01],\n",
       "       [9.80410278e-01],\n",
       "       [8.73129725e-01],\n",
       "       [9.87116754e-01],\n",
       "       [8.31497431e-01],\n",
       "       [1.11553550e-06],\n",
       "       [9.99401510e-01],\n",
       "       [9.90920603e-01],\n",
       "       [9.14642453e-01],\n",
       "       [1.33909693e-04],\n",
       "       [2.64855800e-04],\n",
       "       [9.95201528e-01],\n",
       "       [3.66655551e-02],\n",
       "       [9.83607233e-01],\n",
       "       [1.73044624e-04],\n",
       "       [9.94512320e-01],\n",
       "       [4.17542869e-05],\n",
       "       [9.28204715e-01],\n",
       "       [5.08354045e-03],\n",
       "       [9.93824124e-01],\n",
       "       [2.50369230e-05],\n",
       "       [9.70588565e-01],\n",
       "       [9.93206084e-01],\n",
       "       [9.58133578e-01],\n",
       "       [7.15316783e-05],\n",
       "       [9.88178313e-01],\n",
       "       [4.86876862e-03],\n",
       "       [9.98833179e-01],\n",
       "       [3.54187071e-01],\n",
       "       [6.52389368e-04],\n",
       "       [9.24465716e-01],\n",
       "       [9.76218581e-01],\n",
       "       [9.99294043e-01],\n",
       "       [3.39012374e-09],\n",
       "       [9.97651994e-01],\n",
       "       [9.85178351e-01],\n",
       "       [9.87925470e-01],\n",
       "       [1.01702096e-06],\n",
       "       [9.86505210e-01],\n",
       "       [3.34216631e-03],\n",
       "       [9.55265045e-01],\n",
       "       [6.74453113e-05],\n",
       "       [9.70073879e-01],\n",
       "       [4.70939605e-03],\n",
       "       [9.96799171e-01],\n",
       "       [9.84890401e-01],\n",
       "       [1.32229984e-01],\n",
       "       [9.99667883e-01],\n",
       "       [9.95224416e-01],\n",
       "       [8.41557205e-01],\n",
       "       [3.72924347e-04],\n",
       "       [9.97941256e-01],\n",
       "       [1.26469433e-02],\n",
       "       [3.25832993e-01],\n",
       "       [9.58561017e-08],\n",
       "       [1.16167539e-04],\n",
       "       [5.01375459e-03],\n",
       "       [1.14011921e-01],\n",
       "       [1.88296617e-05],\n",
       "       [9.99659717e-01],\n",
       "       [8.47368419e-01],\n",
       "       [1.17980726e-01],\n",
       "       [9.92028892e-01],\n",
       "       [2.88910178e-05],\n",
       "       [4.07967833e-04],\n",
       "       [9.39904094e-01],\n",
       "       [9.84635949e-01],\n",
       "       [2.65817833e-03],\n",
       "       [8.94666791e-01],\n",
       "       [1.53645489e-03],\n",
       "       [9.93816435e-01],\n",
       "       [9.99684870e-01],\n",
       "       [9.88903165e-01],\n",
       "       [9.97015297e-01],\n",
       "       [2.52162408e-06],\n",
       "       [9.23344195e-01],\n",
       "       [9.95326936e-01],\n",
       "       [2.11291962e-07]], dtype=float32)"
      ]
     },
     "execution_count": 10,
     "metadata": {},
     "output_type": "execute_result"
    }
   ],
   "source": [
    "predictions = model.predict(x_test)\n",
    "predictions"
   ]
  },
  {
   "cell_type": "code",
   "execution_count": 12,
   "id": "513b3f66-c071-400c-8c91-e83a158e4793",
   "metadata": {},
   "outputs": [
    {
     "name": "stdout",
     "output_type": "stream",
     "text": [
      "\u001b[1m4/4\u001b[0m \u001b[32m━━━━━━━━━━━━━━━━━━━━\u001b[0m\u001b[37m\u001b[0m \u001b[1m0s\u001b[0m 3ms/step - accuracy: 0.9703 - loss: 0.0696 \n"
     ]
    },
    {
     "data": {
      "text/plain": [
       "[0.09050453454256058, 0.9649122953414917]"
      ]
     },
     "execution_count": 12,
     "metadata": {},
     "output_type": "execute_result"
    }
   ],
   "source": [
    "score = model.evaluate(x_test,y_test)\n",
    "score"
   ]
  },
  {
   "cell_type": "code",
   "execution_count": null,
   "id": "9759d1b7-ca1a-4fec-89a9-74fd948296cf",
   "metadata": {},
   "outputs": [],
   "source": []
  }
 ],
 "metadata": {
  "kernelspec": {
   "display_name": "Python 3 (ipykernel)",
   "language": "python",
   "name": "python3"
  },
  "language_info": {
   "codemirror_mode": {
    "name": "ipython",
    "version": 3
   },
   "file_extension": ".py",
   "mimetype": "text/x-python",
   "name": "python",
   "nbconvert_exporter": "python",
   "pygments_lexer": "ipython3",
   "version": "3.11.7"
  },
  "widgets": {
   "application/vnd.jupyter.widget-state+json": {
    "state": {},
    "version_major": 2,
    "version_minor": 0
   }
  }
 },
 "nbformat": 4,
 "nbformat_minor": 5
}
