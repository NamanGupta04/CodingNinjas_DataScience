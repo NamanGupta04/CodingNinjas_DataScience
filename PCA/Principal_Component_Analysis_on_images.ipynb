{
 "cells": [
  {
   "cell_type": "code",
   "execution_count": 1,
   "id": "25ab6e72-58ea-4af0-84bd-cf6c20e69221",
   "metadata": {},
   "outputs": [],
   "source": [
    "from sklearn import datasets\n",
    "import matplotlib.pyplot as plt\n",
    "from sklearn.decomposition import PCA"
   ]
  },
  {
   "cell_type": "code",
   "execution_count": 2,
   "id": "ca164aad-7aa1-498e-bd3c-f5f735016ef2",
   "metadata": {},
   "outputs": [],
   "source": [
    "lfw = datasets.fetch_lfw_people(min_faces_per_person = 100 , resize =0.4)"
   ]
  },
  {
   "cell_type": "code",
   "execution_count": null,
   "id": "30b8d938-a6fb-4afd-a9a7-0ff36cb730ed",
   "metadata": {},
   "outputs": [],
   "source": []
  }
 ],
 "metadata": {
  "kernelspec": {
   "display_name": "Python 3 (ipykernel)",
   "language": "python",
   "name": "python3"
  },
  "language_info": {
   "codemirror_mode": {
    "name": "ipython",
    "version": 3
   },
   "file_extension": ".py",
   "mimetype": "text/x-python",
   "name": "python",
   "nbconvert_exporter": "python",
   "pygments_lexer": "ipython3",
   "version": "3.11.7"
  }
 },
 "nbformat": 4,
 "nbformat_minor": 5
}
