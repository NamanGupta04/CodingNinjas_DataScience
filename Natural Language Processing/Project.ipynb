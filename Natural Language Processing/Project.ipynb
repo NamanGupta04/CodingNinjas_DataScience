{
 "cells": [
  {
   "cell_type": "code",
   "execution_count": 3,
   "id": "60ce285b-1eb4-4bd7-a8e1-70bf5ee50273",
   "metadata": {},
   "outputs": [],
   "source": [
    "import nltk\n",
    "import pandas as pd\n",
    "import numpy as np"
   ]
  },
  {
   "cell_type": "code",
   "execution_count": null,
   "id": "3a96c495-70a0-437f-aef7-25ac0402419f",
   "metadata": {},
   "outputs": [],
   "source": [
    "ta = pd.read_csv(\"0000000000002747_training_twitter_x_y_train\")"
   ]
  }
 ],
 "metadata": {
  "kernelspec": {
   "display_name": "Python 3 (ipykernel)",
   "language": "python",
   "name": "python3"
  },
  "language_info": {
   "codemirror_mode": {
    "name": "ipython",
    "version": 3
   },
   "file_extension": ".py",
   "mimetype": "text/x-python",
   "name": "python",
   "nbconvert_exporter": "python",
   "pygments_lexer": "ipython3",
   "version": "3.11.7"
  }
 },
 "nbformat": 4,
 "nbformat_minor": 5
}
