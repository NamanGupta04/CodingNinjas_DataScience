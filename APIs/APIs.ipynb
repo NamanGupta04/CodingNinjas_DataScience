{
 "cells": [
  {
   "cell_type": "code",
   "execution_count": 52,
   "id": "b54868dc",
   "metadata": {},
   "outputs": [
    {
     "name": "stdout",
     "output_type": "stream",
     "text": [
      "{\"data\":{\"courses\":[{\"id\":41,\"title\":\"Premium Competitive Course\",\"online_title\":\"premium-competitive-course\",\"offline_title\":\"\",\"name\":\"Premium Competitive Programming Course\",\"level\":\"Foundation Courses\",\"brief_intro\":\"\",\"preview_image_url\":\"\",\"available_online\":true,\"available_offline\":false,\"is_career_track\":false,\"course_group_id\":7,\"classroom_icon_url\":\"https://files.codingninjas.in/0000000000003765.png\"},{\"id\":1,\"title\":\"C++ \\u0026 Data Structures\",\"online_title\":\"onlline-c-plus-plus-course\",\"offline_title\":\"classroom-c-plus-plus-course\",\"name\":\"C++ Foundation with Data Structures\",\"level\":\"Foundation Courses\",\"brief_intro\":\"Brief Intro\",\"preview_image_url\":\"https://files.codingninjas.in/0000000000001176.png\",\"available_online\":true,\"available_offline\":false,\"is_career_track\":false,\"course_group_id\":1,\"classroom_icon_url\":\"https://files.codingninjas.in/0000000000003771.png\"},{\"id\":43,\"title\":\"Premium Data Science Course\",\"online_title\":\"premium-data-science-course\",\"offline_title\":\"\",\"name\":\"Premium Data Science Course\",\"level\":\"Foundation Courses\",\"brief_intro\":\"\",\"preview_image_url\":\"\",\"available_online\":true,\"available_offline\":false,\"is_career_track\":false,\"course_group_id\":7,\"classroom_icon_url\":\"https://files.codingninjas.com/data-science-11645.png\"},{\"id\":45,\"title\":\"Premium Android Course\",\"online_title\":\"premium-android-app-development-course\",\"offline_title\":\"\",\"name\":\"Premium Android App Development\",\"level\":\"Foundation Courses\",\"brief_intro\":\"\",\"preview_image_url\":\"\",\"available_online\":true,\"available_offline\":false,\"is_career_track\":false,\"course_group_id\":7,\"classroom_icon_url\":\"https://files.codingninjas.in/0000000000003765.png\"},{\"id\":44,\"title\":\"Premium Machine Learning Course\",\"online_title\":\"premium-machine-learning-course\",\"offline_title\":\"\",\"name\":\"Premium Machine Learning Course\",\"level\":\"Foundation Courses\",\"brief_intro\":\"\",\"preview_image_url\":\"\",\"available_online\":true,\"available_offline\":false,\"is_career_track\":false,\"course_group_id\":7,\"classroom_icon_url\":\"https://files.codingninjas.in/0000000000003765.png\"},{\"id\":40,\"title\":\"Data structures and Algorithms [C++/Java/Python]\",\"online_title\":\"premium-foundation-course\",\"offline_title\":\"\",\"name\":\"Premium Data structures and Algorithms [C++/Java/Python]\",\"level\":\"Foundation Courses\",\"brief_intro\":\"\",\"preview_image_url\":\"\",\"available_online\":true,\"available_offline\":false,\"is_career_track\":false,\"course_group_id\":7,\"classroom_icon_url\":\"https://files.codingninjas.in/0000000000003765.png\"},{\"id\":73,\"title\":\"System Design Course\",\"online_title\":\"system-design-course\",\"offline_title\":\"\",\"name\":\"System Design Course\",\"level\":\"Foundation Courses\",\"brief_intro\":\"Brief Intro\",\"preview_image_url\":\"https://ninjasfiles.s3.amazonaws.com/0000000000001178.png\",\"available_online\":true,\"available_offline\":false,\"is_career_track\":false,\"course_group_id\":1,\"classroom_icon_url\":\"https://files.codingninjas.com/system-design-icon-11401.svg\"},{\"id\":16,\"title\":\"Competitive Programmer\",\"online_title\":\"online-competitive-programming-track\",\"offline_title\":\"\",\"name\":\"Ninja Competitive Programmer Track\",\"level\":\"Career Tracks\",\"brief_intro\":\"Competitive Track\",\"preview_image_url\":\"https://files.codingninjas.in/0000000000001177.png\",\"available_online\":true,\"available_offline\":false,\"is_career_track\":true,\"course_group_id\":3,\"classroom_icon_url\":\"https://files.codingninjas.com/competitive-programming-11703.svg\"},{\"id\":42,\"title\":\"Premium Web Dev Course\",\"online_title\":\"premium-full-stack-web-development-course\",\"offline_title\":\"\",\"name\":\"Premium Full Stack Web Development\",\"level\":\"Foundation Courses\",\"brief_intro\":\"\",\"preview_image_url\":\"\",\"available_online\":true,\"available_offline\":false,\"is_career_track\":false,\"course_group_id\":7,\"classroom_icon_url\":\"https://files.codingninjas.in/0000000000003765.png\"},{\"id\":6,\"title\":\"Machine Learning\",\"online_title\":\"online-machine-learning-course\",\"offline_title\":\"classroom-machine-learning-course\",\"name\":\"Machine Learning \\u0026 Deep Learning Course\",\"level\":\"Advanced Courses\",\"brief_intro\":\"Machine learning engineers build, implement, and maintain machine learning systems in technology products.\",\"preview_image_url\":\"https://ninjasfiles.s3.amazonaws.com/0000000000001181.png\",\"available_online\":true,\"available_offline\":false,\"is_career_track\":false,\"course_group_id\":2,\"classroom_icon_url\":\"https://files.codingninjas.in/0000000000003766.png\"},{\"id\":34,\"title\":\"Front End (React)\",\"online_title\":\"online-web-dev-with-react\",\"offline_title\":\"\",\"name\":\"Advanced  Front-End Web Development with React\",\"level\":\"Development Courses\",\"brief_intro\":\"Advanced  Front-End Web Development with React\",\"preview_image_url\":\"https://ninjasfiles.s3.amazonaws.com/0000000000001179.png\",\"available_online\":true,\"available_offline\":false,\"is_career_track\":false,\"course_group_id\":2,\"classroom_icon_url\":\"https://files.codingninjas.in/0000000000003769.png\"},{\"id\":2,\"title\":\"Java \\u0026 Data Structures\",\"online_title\":\"online-java-course\",\"offline_title\":\"classroom-java-course\",\"name\":\"JAVA Foundation with Data Structures\",\"level\":\"Foundation Courses\",\"brief_intro\":\"Brief Intro\",\"preview_image_url\":\"https://ninjasfiles.s3.amazonaws.com/0000000000001255.png\",\"available_online\":true,\"available_offline\":false,\"is_career_track\":false,\"course_group_id\":1,\"classroom_icon_url\":\"https://files.codingninjas.in/0000000000003772.png\"},{\"id\":35,\"title\":\"Android Developer\",\"online_title\":\"online-android-development-career-track\",\"offline_title\":\"\",\"name\":\"Ninja Android Developer Career Track \",\"level\":\"Career Tracks\",\"brief_intro\":\"beginner to pro Android Developer!\",\"preview_image_url\":\"https://ninjasfiles.s3.amazonaws.com/0000000000001175.png\",\"available_online\":true,\"available_offline\":false,\"is_career_track\":true,\"course_group_id\":3,\"classroom_icon_url\":\"https://files.codingninjas.in/0000000000003774.png\"},{\"id\":12,\"title\":\"Web Dev (Full Stack)\",\"online_title\":\"online-full-stack-node-js-web-dev-course\",\"offline_title\":\"\",\"name\":\"Full Stack Web Development\",\"level\":\"Development Courses\",\"brief_intro\":\"Web Development\",\"preview_image_url\":\"https://ninjasfiles.s3.amazonaws.com/0000000000001179.png\",\"available_online\":true,\"available_offline\":false,\"is_career_track\":false,\"course_group_id\":2,\"classroom_icon_url\":\"https://files.codingninjas.in/0000000000003764.png\"},{\"id\":36,\"title\":\"Python \\u0026 Web Dev (MERN)\",\"online_title\":\"ninja-web-developer-career-track-mern-stack\",\"offline_title\":\"\",\"name\":\"Ninja  Web Developer Career Track - NodeJS \\u0026 ReactJs\",\"level\":\"Career Tracks\",\"brief_intro\":\"Programming foundation + MERN Stack Web Development complete Career Track\",\"preview_image_url\":\"https://ninjasfiles.s3.amazonaws.com/0000000000001179.png\",\"available_online\":true,\"available_offline\":false,\"is_career_track\":true,\"course_group_id\":3,\"classroom_icon_url\":\"https://files.codingninjas.in/0000000000003777.png\"},{\"id\":13,\"title\":\"Data Science\",\"online_title\":\"online-data-science-course\",\"offline_title\":\"\",\"name\":\"Data Science \\u0026 Machine Learning Complete\",\"level\":\"Advanced Courses\",\"brief_intro\":\"Brief Intro\",\"preview_image_url\":\"https://ninjasfiles.s3.amazonaws.com/0000000000001371.png\",\"available_online\":true,\"available_offline\":false,\"is_career_track\":false,\"course_group_id\":2,\"classroom_icon_url\":\"https://files.codingninjas.in/0000000000003763.png\"},{\"id\":66,\"title\":\"Grokking the Operating Systems Interview\",\"online_title\":\"operating-system\",\"offline_title\":\"\",\"name\":\"Grokking the Operating Systems Interview\",\"level\":\"Foundation Courses\",\"brief_intro\":\"Brief Intro\",\"preview_image_url\":\"https://ninjasfiles.s3.amazonaws.com/0000000000001178.png\",\"available_online\":true,\"available_offline\":false,\"is_career_track\":false,\"course_group_id\":1,\"classroom_icon_url\":\"https://files.codingninjas.in/ubuntu-brands-10404.png\"},{\"id\":17,\"title\":\"C++ \\u0026 Web Dev (Node.js)\",\"online_title\":\"web-developer-career-track\",\"offline_title\":\"\",\"name\":\"Ninja  Web Developer Career Track - NodeJS\",\"level\":\"Career Tracks\",\"brief_intro\":\"Programming foundation + Full Stack Web Development Career Track\",\"preview_image_url\":\"https://ninjasfiles.s3.amazonaws.com/0000000000001179.png\",\"available_online\":true,\"available_offline\":false,\"is_career_track\":true,\"course_group_id\":3,\"classroom_icon_url\":\"https://files.codingninjas.in/0000000000003777.png\"},{\"id\":10,\"title\":\"Competitive Programming\",\"online_title\":\"online-competitive-programming-course\",\"offline_title\":\"\",\"name\":\"Competitive Programming Course\",\"level\":\"Advanced Courses\",\"brief_intro\":\"Eminence\",\"preview_image_url\":\"https://ninjasfiles.s3.amazonaws.com/0000000000001177.png\",\"available_online\":true,\"available_offline\":false,\"is_career_track\":false,\"course_group_id\":1,\"classroom_icon_url\":\"https://files.codingninjas.in/0000000000003762.png\"},{\"id\":18,\"title\":\"Data Scientist\",\"online_title\":\"data-Scientist-career-track\",\"offline_title\":\"\",\"name\":\"Ninja Data Scientist Career Track\",\"level\":\"Career Tracks\",\"brief_intro\":\"Programming foundation + Data Science with ML career track\",\"preview_image_url\":\"https://ninjasfiles.s3.amazonaws.com/0000000000001371.png\",\"available_online\":true,\"available_offline\":false,\"is_career_track\":true,\"course_group_id\":3,\"classroom_icon_url\":\"https://files.codingninjas.in/0000000000003778.png\"},{\"id\":33,\"title\":\"Android (Kotlin)\",\"online_title\":\"online-android-Development-kotlin\",\"offline_title\":\"\",\"name\":\"Android Development with Kotlin\",\"level\":\"Development Courses\",\"brief_intro\":\"Android Development Kotlin\",\"preview_image_url\":\"https://ninjasfiles.s3.amazonaws.com/0000000000001175.png\",\"available_online\":true,\"available_offline\":false,\"is_career_track\":false,\"course_group_id\":2,\"classroom_icon_url\":\"https://files.codingninjas.in/0000000000003761.png\"},{\"id\":21,\"title\":\"Aptitude Preparation\",\"online_title\":\"online-aptitude-preparation\",\"offline_title\":\"\",\"name\":\"Aptitude Preparation Course\",\"level\":\"Foundation Courses\",\"brief_intro\":\"Brief Intro\",\"preview_image_url\":\"https://ninjasfiles.s3.amazonaws.com/0000000000001178.png\",\"available_online\":true,\"available_offline\":false,\"is_career_track\":false,\"course_group_id\":1,\"classroom_icon_url\":\"https://files.codingninjas.in/0000000000003770.png\"},{\"id\":19,\"title\":\"Machine Learning\",\"online_title\":\"machine-learning-engineer-career-track\",\"offline_title\":\"\",\"name\":\"Ninja Machine Learning Engineer Career Track\",\"level\":\"Career Tracks\",\"brief_intro\":\"Programming foundation + Machine Learning career track\",\"preview_image_url\":\"https://ninjasfiles.s3.amazonaws.com/0000000000001181.png\",\"available_online\":true,\"available_offline\":false,\"is_career_track\":true,\"course_group_id\":3,\"classroom_icon_url\":\"https://files.codingninjas.in/0000000000003776.png\"}],\"course_groups\":[{\"id\":1,\"name\":\"Foundation, Algorithmic \\u0026 Advanced\",\"order\":1,\"course_ids\":[1,73,2,66,10,21],\"json_data\":{\"color\":\"#FFEBC2\",\"image_link\":\"https://ninjasfiles.s3.amazonaws.com/0000000000003821.png\",\"text_color\":\"#AC933C\",\"short_description\":\"Foundation courses are designed such that \\u003cstrong\\u003eno prerequisites are required.\\u003c/strong\\u003e Data Structures(DS) and Algorithms(algo.) parts build on the basics to give you a \\u003cstrong\\u003esolid programming foundation\\u003c/strong\\u003e. Competitive is where you start to \\u003cstrong\\u003epush the boundaries!\\u003c/strong\\u003e\",\"mobile_short_description\":\"Foundation courses are designed such that \\u003cspan\\u003eno prerequisites are required.\\u003c/span\\u003e\"},\"is_independent\":false},{\"id\":2,\"name\":\"Data \\u0026 Development\",\"order\":2,\"course_ids\":[6,34,12,13,33],\"json_data\":{\"color\":\"#80D4B1\",\"image_link\":\"https://files.codingninjas.in/0000000000003846.svg\",\"text_color\":\"#257D68\",\"short_description\":\"Data courses dwell in the state of the art algorithms and require good knowledge of programming fundamentals. Web development courses use modern JavaScript to build powerful and fast applications from the ground up. \\u003cstrong\\u003eNo prior development experience needed\\u003c/strong\\u003e\",\"mobile_short_description\":\"Data courses dwell in the state of the art algorithms and require good knowledge of programming fundamentals. Web development courses use modern JavaScript to build powerful and fast applications from the ground up. \\u003cspan\\u003eNo prior development experience needed\\u003c/span\\u003e\"},\"is_independent\":false},{\"id\":3,\"name\":\"Career Track\",\"order\":3,\"course_ids\":[16,35,36,17,18,19],\"json_data\":{\"color\":\"#C898FF\",\"image_link\":\"https://files.codingninjas.in/0000000000003845.svg\",\"text_color\":\"#603CAC\",\"short_description\":\"These are courses that take you from \\u003cstrong\\u003ezero to hero\\u003c/strong\\u003e. Each track is designed specifically to cater to a particular goal you can choose and \\u003cstrong\\u003ecovers everything you need to learn and assumes no prior knowledge.\\u003c/strong\\u003e\",\"mobile_short_description\":\"Each track is designed specifically to cater to a particular goal you can choose and \\u003cspan\\u003ecovers everything you need to learn and assumes no prior knowledge.\\u003c/span\\u003e\"},\"is_independent\":true},{\"id\":7,\"name\":\"Premium Course\",\"order\":null,\"course_ids\":[41,43,45,44,40,42],\"json_data\":null,\"is_independent\":true}]},\"message\":\"Courses\",\"status\":200,\"error\":null,\"disabled\":false,\"update\":false,\"external_rating\":null}\n",
      "https://api.codingninjas.com/api/v3/courses\n"
     ]
    }
   ],
   "source": [
    "import requests\n",
    "\n",
    "response = requests.get('https://api.codingninjas.com/api/v3/courses')\n",
    "print(response.text)\n",
    "print(response.url)"
   ]
  },
  {
   "cell_type": "code",
   "execution_count": 53,
   "id": "c90b7c79",
   "metadata": {},
   "outputs": [
    {
     "name": "stdout",
     "output_type": "stream",
     "text": [
      "200\n"
     ]
    }
   ],
   "source": [
    "print(response.status_code)"
   ]
  },
  {
   "cell_type": "code",
   "execution_count": 54,
   "id": "647c0be0",
   "metadata": {},
   "outputs": [
    {
     "name": "stdout",
     "output_type": "stream",
     "text": [
      "https://api.codingninjas.com/api/v3/courses\n"
     ]
    }
   ],
   "source": [
    "print(response.url)"
   ]
  },
  {
   "cell_type": "code",
   "execution_count": 55,
   "id": "19c8c76f",
   "metadata": {},
   "outputs": [
    {
     "name": "stdout",
     "output_type": "stream",
     "text": [
      "{'Date': 'Thu, 16 Nov 2023 03:30:28 GMT', 'Content-Type': 'application/json', 'Transfer-Encoding': 'chunked', 'Connection': 'keep-alive', 'Server': 'nginx', 'Access-Control-Allow-Origin': '*', 'Access-Control-Allow-Methods': 'POST, GET, PATCH, PUT, DELETE, OPTIONS', 'Access-Control-Allow-Headers': 'Access-Control-Allow-Headers, Origin,Accept, X-Requested-With, Content-Type, Access-Control-Request-Method, Access-Control-Request-Headers, Authorization', 'Access-Control-Max-Age': '1728000', 'Vary': 'Accept-Encoding', 'Content-Encoding': 'gzip', 'ETag': 'W/\"13b5d5926a23f0d7dbb719b7866c3d5f\"', 'Cache-Control': 'max-age=0, private, must-revalidate', 'X-Request-Id': 'cde7c81a-862a-43fa-b027-37a19e03000d', 'X-Runtime': '0.007543', 'Strict-Transport-Security': 'max-age=31536000; includeSubDomains;'}\n"
     ]
    }
   ],
   "source": [
    "print(response.headers)"
   ]
  },
  {
   "cell_type": "code",
   "execution_count": 56,
   "id": "dbab48d0",
   "metadata": {},
   "outputs": [
    {
     "name": "stdout",
     "output_type": "stream",
     "text": [
      "utf-8\n"
     ]
    }
   ],
   "source": [
    "print(response.encoding)"
   ]
  },
  {
   "cell_type": "code",
   "execution_count": 57,
   "id": "f12ff8cb",
   "metadata": {},
   "outputs": [],
   "source": [
    "#response = requests.get(\"http://api.open-notify.org/iss-pass\")\n",
    "#response.status_code"
   ]
  },
  {
   "cell_type": "code",
   "execution_count": 58,
   "id": "97e2c657",
   "metadata": {},
   "outputs": [],
   "source": [
    "\n",
    "#response = requests.get(\"http://api.open-notify.org/iss-now.json\")\n",
    "#response.status_code"
   ]
  },
  {
   "cell_type": "code",
   "execution_count": 59,
   "id": "7dfaccf3",
   "metadata": {},
   "outputs": [
    {
     "name": "stdout",
     "output_type": "stream",
     "text": [
      "{\"data\":{\"courses\":[{\"id\":41,\"title\":\"Premium Competitive Course\",\"online_title\":\"premium-competitive-course\",\"offline_title\":\"\",\"name\":\"Premium Competitive Programming Course\",\"level\":\"Foundation Courses\",\"brief_intro\":\"\",\"preview_image_url\":\"\",\"available_online\":true,\"available_offline\":false,\"is_career_track\":false,\"course_group_id\":7,\"classroom_icon_url\":\"https://files.codingninjas.in/0000000000003765.png\"},{\"id\":1,\"title\":\"C++ \\u0026 Data Structures\",\"online_title\":\"onlline-c-plus-plus-course\",\"offline_title\":\"classroom-c-plus-plus-course\",\"name\":\"C++ Foundation with Data Structures\",\"level\":\"Foundation Courses\",\"brief_intro\":\"Brief Intro\",\"preview_image_url\":\"https://files.codingninjas.in/0000000000001176.png\",\"available_online\":true,\"available_offline\":false,\"is_career_track\":false,\"course_group_id\":1,\"classroom_icon_url\":\"https://files.codingninjas.in/0000000000003771.png\"},{\"id\":43,\"title\":\"Premium Data Science Course\",\"online_title\":\"premium-data-science-course\",\"offline_title\":\"\",\"name\":\"Premium Data Science Course\",\"level\":\"Foundation Courses\",\"brief_intro\":\"\",\"preview_image_url\":\"\",\"available_online\":true,\"available_offline\":false,\"is_career_track\":false,\"course_group_id\":7,\"classroom_icon_url\":\"https://files.codingninjas.com/data-science-11645.png\"},{\"id\":45,\"title\":\"Premium Android Course\",\"online_title\":\"premium-android-app-development-course\",\"offline_title\":\"\",\"name\":\"Premium Android App Development\",\"level\":\"Foundation Courses\",\"brief_intro\":\"\",\"preview_image_url\":\"\",\"available_online\":true,\"available_offline\":false,\"is_career_track\":false,\"course_group_id\":7,\"classroom_icon_url\":\"https://files.codingninjas.in/0000000000003765.png\"},{\"id\":44,\"title\":\"Premium Machine Learning Course\",\"online_title\":\"premium-machine-learning-course\",\"offline_title\":\"\",\"name\":\"Premium Machine Learning Course\",\"level\":\"Foundation Courses\",\"brief_intro\":\"\",\"preview_image_url\":\"\",\"available_online\":true,\"available_offline\":false,\"is_career_track\":false,\"course_group_id\":7,\"classroom_icon_url\":\"https://files.codingninjas.in/0000000000003765.png\"},{\"id\":40,\"title\":\"Data structures and Algorithms [C++/Java/Python]\",\"online_title\":\"premium-foundation-course\",\"offline_title\":\"\",\"name\":\"Premium Data structures and Algorithms [C++/Java/Python]\",\"level\":\"Foundation Courses\",\"brief_intro\":\"\",\"preview_image_url\":\"\",\"available_online\":true,\"available_offline\":false,\"is_career_track\":false,\"course_group_id\":7,\"classroom_icon_url\":\"https://files.codingninjas.in/0000000000003765.png\"},{\"id\":73,\"title\":\"System Design Course\",\"online_title\":\"system-design-course\",\"offline_title\":\"\",\"name\":\"System Design Course\",\"level\":\"Foundation Courses\",\"brief_intro\":\"Brief Intro\",\"preview_image_url\":\"https://ninjasfiles.s3.amazonaws.com/0000000000001178.png\",\"available_online\":true,\"available_offline\":false,\"is_career_track\":false,\"course_group_id\":1,\"classroom_icon_url\":\"https://files.codingninjas.com/system-design-icon-11401.svg\"},{\"id\":16,\"title\":\"Competitive Programmer\",\"online_title\":\"online-competitive-programming-track\",\"offline_title\":\"\",\"name\":\"Ninja Competitive Programmer Track\",\"level\":\"Career Tracks\",\"brief_intro\":\"Competitive Track\",\"preview_image_url\":\"https://files.codingninjas.in/0000000000001177.png\",\"available_online\":true,\"available_offline\":false,\"is_career_track\":true,\"course_group_id\":3,\"classroom_icon_url\":\"https://files.codingninjas.com/competitive-programming-11703.svg\"},{\"id\":42,\"title\":\"Premium Web Dev Course\",\"online_title\":\"premium-full-stack-web-development-course\",\"offline_title\":\"\",\"name\":\"Premium Full Stack Web Development\",\"level\":\"Foundation Courses\",\"brief_intro\":\"\",\"preview_image_url\":\"\",\"available_online\":true,\"available_offline\":false,\"is_career_track\":false,\"course_group_id\":7,\"classroom_icon_url\":\"https://files.codingninjas.in/0000000000003765.png\"},{\"id\":6,\"title\":\"Machine Learning\",\"online_title\":\"online-machine-learning-course\",\"offline_title\":\"classroom-machine-learning-course\",\"name\":\"Machine Learning \\u0026 Deep Learning Course\",\"level\":\"Advanced Courses\",\"brief_intro\":\"Machine learning engineers build, implement, and maintain machine learning systems in technology products.\",\"preview_image_url\":\"https://ninjasfiles.s3.amazonaws.com/0000000000001181.png\",\"available_online\":true,\"available_offline\":false,\"is_career_track\":false,\"course_group_id\":2,\"classroom_icon_url\":\"https://files.codingninjas.in/0000000000003766.png\"},{\"id\":34,\"title\":\"Front End (React)\",\"online_title\":\"online-web-dev-with-react\",\"offline_title\":\"\",\"name\":\"Advanced  Front-End Web Development with React\",\"level\":\"Development Courses\",\"brief_intro\":\"Advanced  Front-End Web Development with React\",\"preview_image_url\":\"https://ninjasfiles.s3.amazonaws.com/0000000000001179.png\",\"available_online\":true,\"available_offline\":false,\"is_career_track\":false,\"course_group_id\":2,\"classroom_icon_url\":\"https://files.codingninjas.in/0000000000003769.png\"},{\"id\":2,\"title\":\"Java \\u0026 Data Structures\",\"online_title\":\"online-java-course\",\"offline_title\":\"classroom-java-course\",\"name\":\"JAVA Foundation with Data Structures\",\"level\":\"Foundation Courses\",\"brief_intro\":\"Brief Intro\",\"preview_image_url\":\"https://ninjasfiles.s3.amazonaws.com/0000000000001255.png\",\"available_online\":true,\"available_offline\":false,\"is_career_track\":false,\"course_group_id\":1,\"classroom_icon_url\":\"https://files.codingninjas.in/0000000000003772.png\"},{\"id\":35,\"title\":\"Android Developer\",\"online_title\":\"online-android-development-career-track\",\"offline_title\":\"\",\"name\":\"Ninja Android Developer Career Track \",\"level\":\"Career Tracks\",\"brief_intro\":\"beginner to pro Android Developer!\",\"preview_image_url\":\"https://ninjasfiles.s3.amazonaws.com/0000000000001175.png\",\"available_online\":true,\"available_offline\":false,\"is_career_track\":true,\"course_group_id\":3,\"classroom_icon_url\":\"https://files.codingninjas.in/0000000000003774.png\"},{\"id\":12,\"title\":\"Web Dev (Full Stack)\",\"online_title\":\"online-full-stack-node-js-web-dev-course\",\"offline_title\":\"\",\"name\":\"Full Stack Web Development\",\"level\":\"Development Courses\",\"brief_intro\":\"Web Development\",\"preview_image_url\":\"https://ninjasfiles.s3.amazonaws.com/0000000000001179.png\",\"available_online\":true,\"available_offline\":false,\"is_career_track\":false,\"course_group_id\":2,\"classroom_icon_url\":\"https://files.codingninjas.in/0000000000003764.png\"},{\"id\":36,\"title\":\"Python \\u0026 Web Dev (MERN)\",\"online_title\":\"ninja-web-developer-career-track-mern-stack\",\"offline_title\":\"\",\"name\":\"Ninja  Web Developer Career Track - NodeJS \\u0026 ReactJs\",\"level\":\"Career Tracks\",\"brief_intro\":\"Programming foundation + MERN Stack Web Development complete Career Track\",\"preview_image_url\":\"https://ninjasfiles.s3.amazonaws.com/0000000000001179.png\",\"available_online\":true,\"available_offline\":false,\"is_career_track\":true,\"course_group_id\":3,\"classroom_icon_url\":\"https://files.codingninjas.in/0000000000003777.png\"},{\"id\":13,\"title\":\"Data Science\",\"online_title\":\"online-data-science-course\",\"offline_title\":\"\",\"name\":\"Data Science \\u0026 Machine Learning Complete\",\"level\":\"Advanced Courses\",\"brief_intro\":\"Brief Intro\",\"preview_image_url\":\"https://ninjasfiles.s3.amazonaws.com/0000000000001371.png\",\"available_online\":true,\"available_offline\":false,\"is_career_track\":false,\"course_group_id\":2,\"classroom_icon_url\":\"https://files.codingninjas.in/0000000000003763.png\"},{\"id\":66,\"title\":\"Grokking the Operating Systems Interview\",\"online_title\":\"operating-system\",\"offline_title\":\"\",\"name\":\"Grokking the Operating Systems Interview\",\"level\":\"Foundation Courses\",\"brief_intro\":\"Brief Intro\",\"preview_image_url\":\"https://ninjasfiles.s3.amazonaws.com/0000000000001178.png\",\"available_online\":true,\"available_offline\":false,\"is_career_track\":false,\"course_group_id\":1,\"classroom_icon_url\":\"https://files.codingninjas.in/ubuntu-brands-10404.png\"},{\"id\":17,\"title\":\"C++ \\u0026 Web Dev (Node.js)\",\"online_title\":\"web-developer-career-track\",\"offline_title\":\"\",\"name\":\"Ninja  Web Developer Career Track - NodeJS\",\"level\":\"Career Tracks\",\"brief_intro\":\"Programming foundation + Full Stack Web Development Career Track\",\"preview_image_url\":\"https://ninjasfiles.s3.amazonaws.com/0000000000001179.png\",\"available_online\":true,\"available_offline\":false,\"is_career_track\":true,\"course_group_id\":3,\"classroom_icon_url\":\"https://files.codingninjas.in/0000000000003777.png\"},{\"id\":10,\"title\":\"Competitive Programming\",\"online_title\":\"online-competitive-programming-course\",\"offline_title\":\"\",\"name\":\"Competitive Programming Course\",\"level\":\"Advanced Courses\",\"brief_intro\":\"Eminence\",\"preview_image_url\":\"https://ninjasfiles.s3.amazonaws.com/0000000000001177.png\",\"available_online\":true,\"available_offline\":false,\"is_career_track\":false,\"course_group_id\":1,\"classroom_icon_url\":\"https://files.codingninjas.in/0000000000003762.png\"},{\"id\":18,\"title\":\"Data Scientist\",\"online_title\":\"data-Scientist-career-track\",\"offline_title\":\"\",\"name\":\"Ninja Data Scientist Career Track\",\"level\":\"Career Tracks\",\"brief_intro\":\"Programming foundation + Data Science with ML career track\",\"preview_image_url\":\"https://ninjasfiles.s3.amazonaws.com/0000000000001371.png\",\"available_online\":true,\"available_offline\":false,\"is_career_track\":true,\"course_group_id\":3,\"classroom_icon_url\":\"https://files.codingninjas.in/0000000000003778.png\"},{\"id\":33,\"title\":\"Android (Kotlin)\",\"online_title\":\"online-android-Development-kotlin\",\"offline_title\":\"\",\"name\":\"Android Development with Kotlin\",\"level\":\"Development Courses\",\"brief_intro\":\"Android Development Kotlin\",\"preview_image_url\":\"https://ninjasfiles.s3.amazonaws.com/0000000000001175.png\",\"available_online\":true,\"available_offline\":false,\"is_career_track\":false,\"course_group_id\":2,\"classroom_icon_url\":\"https://files.codingninjas.in/0000000000003761.png\"},{\"id\":21,\"title\":\"Aptitude Preparation\",\"online_title\":\"online-aptitude-preparation\",\"offline_title\":\"\",\"name\":\"Aptitude Preparation Course\",\"level\":\"Foundation Courses\",\"brief_intro\":\"Brief Intro\",\"preview_image_url\":\"https://ninjasfiles.s3.amazonaws.com/0000000000001178.png\",\"available_online\":true,\"available_offline\":false,\"is_career_track\":false,\"course_group_id\":1,\"classroom_icon_url\":\"https://files.codingninjas.in/0000000000003770.png\"},{\"id\":19,\"title\":\"Machine Learning\",\"online_title\":\"machine-learning-engineer-career-track\",\"offline_title\":\"\",\"name\":\"Ninja Machine Learning Engineer Career Track\",\"level\":\"Career Tracks\",\"brief_intro\":\"Programming foundation + Machine Learning career track\",\"preview_image_url\":\"https://ninjasfiles.s3.amazonaws.com/0000000000001181.png\",\"available_online\":true,\"available_offline\":false,\"is_career_track\":true,\"course_group_id\":3,\"classroom_icon_url\":\"https://files.codingninjas.in/0000000000003776.png\"}],\"course_groups\":[{\"id\":1,\"name\":\"Foundation, Algorithmic \\u0026 Advanced\",\"order\":1,\"course_ids\":[1,73,2,66,10,21],\"json_data\":{\"color\":\"#FFEBC2\",\"image_link\":\"https://ninjasfiles.s3.amazonaws.com/0000000000003821.png\",\"text_color\":\"#AC933C\",\"short_description\":\"Foundation courses are designed such that \\u003cstrong\\u003eno prerequisites are required.\\u003c/strong\\u003e Data Structures(DS) and Algorithms(algo.) parts build on the basics to give you a \\u003cstrong\\u003esolid programming foundation\\u003c/strong\\u003e. Competitive is where you start to \\u003cstrong\\u003epush the boundaries!\\u003c/strong\\u003e\",\"mobile_short_description\":\"Foundation courses are designed such that \\u003cspan\\u003eno prerequisites are required.\\u003c/span\\u003e\"},\"is_independent\":false},{\"id\":2,\"name\":\"Data \\u0026 Development\",\"order\":2,\"course_ids\":[6,34,12,13,33],\"json_data\":{\"color\":\"#80D4B1\",\"image_link\":\"https://files.codingninjas.in/0000000000003846.svg\",\"text_color\":\"#257D68\",\"short_description\":\"Data courses dwell in the state of the art algorithms and require good knowledge of programming fundamentals. Web development courses use modern JavaScript to build powerful and fast applications from the ground up. \\u003cstrong\\u003eNo prior development experience needed\\u003c/strong\\u003e\",\"mobile_short_description\":\"Data courses dwell in the state of the art algorithms and require good knowledge of programming fundamentals. Web development courses use modern JavaScript to build powerful and fast applications from the ground up. \\u003cspan\\u003eNo prior development experience needed\\u003c/span\\u003e\"},\"is_independent\":false},{\"id\":3,\"name\":\"Career Track\",\"order\":3,\"course_ids\":[16,35,36,17,18,19],\"json_data\":{\"color\":\"#C898FF\",\"image_link\":\"https://files.codingninjas.in/0000000000003845.svg\",\"text_color\":\"#603CAC\",\"short_description\":\"These are courses that take you from \\u003cstrong\\u003ezero to hero\\u003c/strong\\u003e. Each track is designed specifically to cater to a particular goal you can choose and \\u003cstrong\\u003ecovers everything you need to learn and assumes no prior knowledge.\\u003c/strong\\u003e\",\"mobile_short_description\":\"Each track is designed specifically to cater to a particular goal you can choose and \\u003cspan\\u003ecovers everything you need to learn and assumes no prior knowledge.\\u003c/span\\u003e\"},\"is_independent\":true},{\"id\":7,\"name\":\"Premium Course\",\"order\":null,\"course_ids\":[41,43,45,44,40,42],\"json_data\":null,\"is_independent\":true}]},\"message\":\"Courses\",\"status\":200,\"error\":null,\"disabled\":false,\"update\":false,\"external_rating\":null}\n"
     ]
    }
   ],
   "source": [
    "print(response.text)"
   ]
  },
  {
   "cell_type": "code",
   "execution_count": 60,
   "id": "fb55690d",
   "metadata": {},
   "outputs": [
    {
     "name": "stdout",
     "output_type": "stream",
     "text": [
      "https://api.codingninjas.com/api/v3/courses\n"
     ]
    }
   ],
   "source": [
    "print(response.url)"
   ]
  },
  {
   "cell_type": "code",
   "execution_count": 61,
   "id": "213ba4f4",
   "metadata": {},
   "outputs": [],
   "source": [
    "import json"
   ]
  },
  {
   "cell_type": "code",
   "execution_count": 77,
   "id": "19f6daef",
   "metadata": {},
   "outputs": [
    {
     "name": "stdout",
     "output_type": "stream",
     "text": [
      "Premium Competitive Programming Course\n",
      "C++ Foundation with Data Structures\n",
      "Premium Data Science Course\n",
      "Premium Android App Development\n",
      "Premium Machine Learning Course\n",
      "Premium Data structures and Algorithms [C++/Java/Python]\n",
      "System Design Course\n",
      "Ninja Competitive Programmer Track\n",
      "Premium Full Stack Web Development\n",
      "Machine Learning & Deep Learning Course\n",
      "Advanced  Front-End Web Development with React\n",
      "JAVA Foundation with Data Structures\n",
      "Ninja Android Developer Career Track \n",
      "Full Stack Web Development\n",
      "Ninja  Web Developer Career Track - NodeJS & ReactJs\n",
      "Data Science & Machine Learning Complete\n",
      "Grokking the Operating Systems Interview\n",
      "Ninja  Web Developer Career Track - NodeJS\n",
      "Competitive Programming Course\n",
      "Ninja Data Scientist Career Track\n",
      "Android Development with Kotlin\n",
      "Aptitude Preparation Course\n",
      "Ninja Machine Learning Engineer Career Track\n"
     ]
    }
   ],
   "source": [
    "python_data = response.json()\n",
    "for i in python_data['data']['courses']:\n",
    "    if i[\"available_online\" ] == True:\n",
    "        print(i['name'])\n",
    "    else:\n",
    "        print(\"n\")"
   ]
  },
  {
   "cell_type": "code",
   "execution_count": null,
   "id": "ee5738da",
   "metadata": {},
   "outputs": [],
   "source": [
    "p = requests.get(\"https://dog.ceo/api/breeds/list/all\")"
   ]
  },
  {
   "cell_type": "code",
   "execution_count": 33,
   "id": "efb75666",
   "metadata": {},
   "outputs": [
    {
     "name": "stdout",
     "output_type": "stream",
     "text": [
      "{\"message\":{\"affenpinscher\":[],\"african\":[],\"airedale\":[],\"akita\":[],\"appenzeller\":[],\"australian\":[\"kelpie\",\"shepherd\"],\"bakharwal\":[\"indian\"],\"basenji\":[],\"beagle\":[],\"bluetick\":[],\"borzoi\":[],\"bouvier\":[],\"boxer\":[],\"brabancon\":[],\"briard\":[],\"buhund\":[\"norwegian\"],\"bulldog\":[\"boston\",\"english\",\"french\"],\"bullterrier\":[\"staffordshire\"],\"cattledog\":[\"australian\"],\"cavapoo\":[],\"chihuahua\":[],\"chippiparai\":[\"indian\"],\"chow\":[],\"clumber\":[],\"cockapoo\":[],\"collie\":[\"border\"],\"coonhound\":[],\"corgi\":[\"cardigan\"],\"cotondetulear\":[],\"dachshund\":[],\"dalmatian\":[],\"dane\":[\"great\"],\"deerhound\":[\"scottish\"],\"dhole\":[],\"dingo\":[],\"doberman\":[],\"elkhound\":[\"norwegian\"],\"entlebucher\":[],\"eskimo\":[],\"finnish\":[\"lapphund\"],\"frise\":[\"bichon\"],\"gaddi\":[\"indian\"],\"germanshepherd\":[],\"greyhound\":[\"indian\",\"italian\"],\"groenendael\":[],\"havanese\":[],\"hound\":[\"afghan\",\"basset\",\"blood\",\"english\",\"ibizan\",\"plott\",\"walker\"],\"husky\":[],\"keeshond\":[],\"kelpie\":[],\"kombai\":[],\"komondor\":[],\"kuvasz\":[],\"labradoodle\":[],\"labrador\":[],\"leonberg\":[],\"lhasa\":[],\"malamute\":[],\"malinois\":[],\"maltese\":[],\"mastiff\":[\"bull\",\"english\",\"indian\",\"tibetan\"],\"mexicanhairless\":[],\"mix\":[],\"mountain\":[\"bernese\",\"swiss\"],\"mudhol\":[\"indian\"],\"newfoundland\":[],\"otterhound\":[],\"ovcharka\":[\"caucasian\"],\"papillon\":[],\"pariah\":[\"indian\"],\"pekinese\":[],\"pembroke\":[],\"pinscher\":[\"miniature\"],\"pitbull\":[],\"pointer\":[\"german\",\"germanlonghair\"],\"pomeranian\":[],\"poodle\":[\"medium\",\"miniature\",\"standard\",\"toy\"],\"pug\":[],\"puggle\":[],\"pyrenees\":[],\"rajapalayam\":[\"indian\"],\"redbone\":[],\"retriever\":[\"chesapeake\",\"curly\",\"flatcoated\",\"golden\"],\"ridgeback\":[\"rhodesian\"],\"rottweiler\":[],\"saluki\":[],\"samoyed\":[],\"schipperke\":[],\"schnauzer\":[\"giant\",\"miniature\"],\"segugio\":[\"italian\"],\"setter\":[\"english\",\"gordon\",\"irish\"],\"sharpei\":[],\"sheepdog\":[\"english\",\"indian\",\"shetland\"],\"shiba\":[],\"shihtzu\":[],\"spaniel\":[\"blenheim\",\"brittany\",\"cocker\",\"irish\",\"japanese\",\"sussex\",\"welsh\"],\"spitz\":[\"indian\",\"japanese\"],\"springer\":[\"english\"],\"stbernard\":[],\"terrier\":[\"american\",\"australian\",\"bedlington\",\"border\",\"cairn\",\"dandie\",\"fox\",\"irish\",\"kerryblue\",\"lakeland\",\"norfolk\",\"norwich\",\"patterdale\",\"russell\",\"scottish\",\"sealyham\",\"silky\",\"tibetan\",\"toy\",\"welsh\",\"westhighland\",\"wheaten\",\"yorkshire\"],\"tervuren\":[],\"vizsla\":[],\"waterdog\":[\"spanish\"],\"weimaraner\":[],\"whippet\":[],\"wolfhound\":[\"irish\"]},\"status\":\"success\"}\n",
      "https://dog.ceo/api/breeds/list/all\n"
     ]
    }
   ],
   "source": [
    "print(p.text)\n",
    "print(p.url)\n",
    "#print(p.json(p.text))"
   ]
  },
  {
   "cell_type": "code",
   "execution_count": 34,
   "id": "3bf0d6eb",
   "metadata": {},
   "outputs": [
    {
     "name": "stdout",
     "output_type": "stream",
     "text": [
      "{'message': {'affenpinscher': [], 'african': [], 'airedale': [], 'akita': [], 'appenzeller': [], 'australian': ['kelpie', 'shepherd'], 'bakharwal': ['indian'], 'basenji': [], 'beagle': [], 'bluetick': [], 'borzoi': [], 'bouvier': [], 'boxer': [], 'brabancon': [], 'briard': [], 'buhund': ['norwegian'], 'bulldog': ['boston', 'english', 'french'], 'bullterrier': ['staffordshire'], 'cattledog': ['australian'], 'cavapoo': [], 'chihuahua': [], 'chippiparai': ['indian'], 'chow': [], 'clumber': [], 'cockapoo': [], 'collie': ['border'], 'coonhound': [], 'corgi': ['cardigan'], 'cotondetulear': [], 'dachshund': [], 'dalmatian': [], 'dane': ['great'], 'deerhound': ['scottish'], 'dhole': [], 'dingo': [], 'doberman': [], 'elkhound': ['norwegian'], 'entlebucher': [], 'eskimo': [], 'finnish': ['lapphund'], 'frise': ['bichon'], 'gaddi': ['indian'], 'germanshepherd': [], 'greyhound': ['indian', 'italian'], 'groenendael': [], 'havanese': [], 'hound': ['afghan', 'basset', 'blood', 'english', 'ibizan', 'plott', 'walker'], 'husky': [], 'keeshond': [], 'kelpie': [], 'kombai': [], 'komondor': [], 'kuvasz': [], 'labradoodle': [], 'labrador': [], 'leonberg': [], 'lhasa': [], 'malamute': [], 'malinois': [], 'maltese': [], 'mastiff': ['bull', 'english', 'indian', 'tibetan'], 'mexicanhairless': [], 'mix': [], 'mountain': ['bernese', 'swiss'], 'mudhol': ['indian'], 'newfoundland': [], 'otterhound': [], 'ovcharka': ['caucasian'], 'papillon': [], 'pariah': ['indian'], 'pekinese': [], 'pembroke': [], 'pinscher': ['miniature'], 'pitbull': [], 'pointer': ['german', 'germanlonghair'], 'pomeranian': [], 'poodle': ['medium', 'miniature', 'standard', 'toy'], 'pug': [], 'puggle': [], 'pyrenees': [], 'rajapalayam': ['indian'], 'redbone': [], 'retriever': ['chesapeake', 'curly', 'flatcoated', 'golden'], 'ridgeback': ['rhodesian'], 'rottweiler': [], 'saluki': [], 'samoyed': [], 'schipperke': [], 'schnauzer': ['giant', 'miniature'], 'segugio': ['italian'], 'setter': ['english', 'gordon', 'irish'], 'sharpei': [], 'sheepdog': ['english', 'indian', 'shetland'], 'shiba': [], 'shihtzu': [], 'spaniel': ['blenheim', 'brittany', 'cocker', 'irish', 'japanese', 'sussex', 'welsh'], 'spitz': ['indian', 'japanese'], 'springer': ['english'], 'stbernard': [], 'terrier': ['american', 'australian', 'bedlington', 'border', 'cairn', 'dandie', 'fox', 'irish', 'kerryblue', 'lakeland', 'norfolk', 'norwich', 'patterdale', 'russell', 'scottish', 'sealyham', 'silky', 'tibetan', 'toy', 'welsh', 'westhighland', 'wheaten', 'yorkshire'], 'tervuren': [], 'vizsla': [], 'waterdog': ['spanish'], 'weimaraner': [], 'whippet': [], 'wolfhound': ['irish']}, 'status': 'success'}\n"
     ]
    }
   ],
   "source": [
    "python_data = p.json()\n",
    "print(python_data)"
   ]
  },
  {
   "cell_type": "code",
   "execution_count": 40,
   "id": "de90d912",
   "metadata": {},
   "outputs": [
    {
     "name": "stdout",
     "output_type": "stream",
     "text": [
      "affenpinscher  :  []  :  0\n",
      "african  :  []  :  0\n",
      "airedale  :  []  :  0\n",
      "akita  :  []  :  0\n",
      "appenzeller  :  []  :  0\n",
      "australian  :  ['kelpie', 'shepherd']  :  2\n",
      "bakharwal  :  ['indian']  :  1\n",
      "basenji  :  []  :  0\n",
      "beagle  :  []  :  0\n",
      "bluetick  :  []  :  0\n",
      "borzoi  :  []  :  0\n",
      "bouvier  :  []  :  0\n",
      "boxer  :  []  :  0\n",
      "brabancon  :  []  :  0\n",
      "briard  :  []  :  0\n",
      "buhund  :  ['norwegian']  :  1\n",
      "bulldog  :  ['boston', 'english', 'french']  :  3\n",
      "bullterrier  :  ['staffordshire']  :  1\n",
      "cattledog  :  ['australian']  :  1\n",
      "cavapoo  :  []  :  0\n",
      "chihuahua  :  []  :  0\n",
      "chippiparai  :  ['indian']  :  1\n",
      "chow  :  []  :  0\n",
      "clumber  :  []  :  0\n",
      "cockapoo  :  []  :  0\n",
      "collie  :  ['border']  :  1\n",
      "coonhound  :  []  :  0\n",
      "corgi  :  ['cardigan']  :  1\n",
      "cotondetulear  :  []  :  0\n",
      "dachshund  :  []  :  0\n",
      "dalmatian  :  []  :  0\n",
      "dane  :  ['great']  :  1\n",
      "deerhound  :  ['scottish']  :  1\n",
      "dhole  :  []  :  0\n",
      "dingo  :  []  :  0\n",
      "doberman  :  []  :  0\n",
      "elkhound  :  ['norwegian']  :  1\n",
      "entlebucher  :  []  :  0\n",
      "eskimo  :  []  :  0\n",
      "finnish  :  ['lapphund']  :  1\n",
      "frise  :  ['bichon']  :  1\n",
      "gaddi  :  ['indian']  :  1\n",
      "germanshepherd  :  []  :  0\n",
      "greyhound  :  ['indian', 'italian']  :  2\n",
      "groenendael  :  []  :  0\n",
      "havanese  :  []  :  0\n",
      "hound  :  ['afghan', 'basset', 'blood', 'english', 'ibizan', 'plott', 'walker']  :  7\n",
      "husky  :  []  :  0\n",
      "keeshond  :  []  :  0\n",
      "kelpie  :  []  :  0\n",
      "kombai  :  []  :  0\n",
      "komondor  :  []  :  0\n",
      "kuvasz  :  []  :  0\n",
      "labradoodle  :  []  :  0\n",
      "labrador  :  []  :  0\n",
      "leonberg  :  []  :  0\n",
      "lhasa  :  []  :  0\n",
      "malamute  :  []  :  0\n",
      "malinois  :  []  :  0\n",
      "maltese  :  []  :  0\n",
      "mastiff  :  ['bull', 'english', 'indian', 'tibetan']  :  4\n",
      "mexicanhairless  :  []  :  0\n",
      "mix  :  []  :  0\n",
      "mountain  :  ['bernese', 'swiss']  :  2\n",
      "mudhol  :  ['indian']  :  1\n",
      "newfoundland  :  []  :  0\n",
      "otterhound  :  []  :  0\n",
      "ovcharka  :  ['caucasian']  :  1\n",
      "papillon  :  []  :  0\n",
      "pariah  :  ['indian']  :  1\n",
      "pekinese  :  []  :  0\n",
      "pembroke  :  []  :  0\n",
      "pinscher  :  ['miniature']  :  1\n",
      "pitbull  :  []  :  0\n",
      "pointer  :  ['german', 'germanlonghair']  :  2\n",
      "pomeranian  :  []  :  0\n",
      "poodle  :  ['medium', 'miniature', 'standard', 'toy']  :  4\n",
      "pug  :  []  :  0\n",
      "puggle  :  []  :  0\n",
      "pyrenees  :  []  :  0\n",
      "rajapalayam  :  ['indian']  :  1\n",
      "redbone  :  []  :  0\n",
      "retriever  :  ['chesapeake', 'curly', 'flatcoated', 'golden']  :  4\n",
      "ridgeback  :  ['rhodesian']  :  1\n",
      "rottweiler  :  []  :  0\n",
      "saluki  :  []  :  0\n",
      "samoyed  :  []  :  0\n",
      "schipperke  :  []  :  0\n",
      "schnauzer  :  ['giant', 'miniature']  :  2\n",
      "segugio  :  ['italian']  :  1\n",
      "setter  :  ['english', 'gordon', 'irish']  :  3\n",
      "sharpei  :  []  :  0\n",
      "sheepdog  :  ['english', 'indian', 'shetland']  :  3\n",
      "shiba  :  []  :  0\n",
      "shihtzu  :  []  :  0\n",
      "spaniel  :  ['blenheim', 'brittany', 'cocker', 'irish', 'japanese', 'sussex', 'welsh']  :  7\n",
      "spitz  :  ['indian', 'japanese']  :  2\n",
      "springer  :  ['english']  :  1\n",
      "stbernard  :  []  :  0\n",
      "terrier  :  ['american', 'australian', 'bedlington', 'border', 'cairn', 'dandie', 'fox', 'irish', 'kerryblue', 'lakeland', 'norfolk', 'norwich', 'patterdale', 'russell', 'scottish', 'sealyham', 'silky', 'tibetan', 'toy', 'welsh', 'westhighland', 'wheaten', 'yorkshire']  :  23\n",
      "tervuren  :  []  :  0\n",
      "vizsla  :  []  :  0\n",
      "waterdog  :  ['spanish']  :  1\n",
      "weimaraner  :  []  :  0\n",
      "whippet  :  []  :  0\n",
      "wolfhound  :  ['irish']  :  1\n"
     ]
    }
   ],
   "source": [
    "for key,val in python_data['message'].items():\n",
    "    print(key,\" : \",val,\" : \",len(val))"
   ]
  },
  {
   "cell_type": "code",
   "execution_count": 41,
   "id": "f5b9c22c",
   "metadata": {},
   "outputs": [
    {
     "name": "stdout",
     "output_type": "stream",
     "text": [
      "{\"message\":[\"afghan\",\"basset\",\"blood\",\"english\",\"ibizan\",\"plott\",\"walker\"],\"status\":\"success\"}\n"
     ]
    }
   ],
   "source": [
    "p1=requests.get(\"https://dog.ceo/api/breed/hound/list\")\n",
    "print(p1.text)"
   ]
  },
  {
   "cell_type": "code",
   "execution_count": 42,
   "id": "92dfe5e9",
   "metadata": {},
   "outputs": [
    {
     "name": "stdout",
     "output_type": "stream",
     "text": [
      "afghan\n",
      "basset\n",
      "blood\n",
      "english\n",
      "ibizan\n",
      "plott\n",
      "walker\n"
     ]
    }
   ],
   "source": [
    "python_data = p1.json()\n",
    "for i in python_data[\"message\"]:\n",
    "    print(i)\n"
   ]
  },
  {
   "cell_type": "code",
   "execution_count": 75,
   "id": "2187e4c1",
   "metadata": {},
   "outputs": [
    {
     "name": "stdout",
     "output_type": "stream",
     "text": [
      "4\n"
     ]
    }
   ],
   "source": [
    "p2 = requests.get(\"https://dog.ceo/api/breeds/list/all\")\n",
    "python_data = p2.json()\n",
    "count = python_data[\"message\"][\"poodle\"]\n",
    "print(len(count))"
   ]
  },
  {
   "cell_type": "code",
   "execution_count": 76,
   "id": "3d55dd9f",
   "metadata": {},
   "outputs": [
    {
     "name": "stdout",
     "output_type": "stream",
     "text": [
      "Premium Competitive Programming Course\n",
      "C++ Foundation with Data Structures\n",
      "Premium Data Science Course\n",
      "Premium Android App Development\n",
      "Premium Machine Learning Course\n",
      "Premium Data structures and Algorithms [C++/Java/Python]\n",
      "System Design Course\n",
      "Ninja Competitive Programmer Track\n",
      "Premium Full Stack Web Development\n",
      "Machine Learning & Deep Learning Course\n",
      "Advanced  Front-End Web Development with React\n",
      "JAVA Foundation with Data Structures\n",
      "Ninja Android Developer Career Track \n",
      "Full Stack Web Development\n",
      "Ninja  Web Developer Career Track - NodeJS & ReactJs\n",
      "Data Science & Machine Learning Complete\n",
      "Grokking the Operating Systems Interview\n",
      "Ninja  Web Developer Career Track - NodeJS\n",
      "Competitive Programming Course\n",
      "Ninja Data Scientist Career Track\n",
      "Android Development with Kotlin\n",
      "Aptitude Preparation Course\n",
      "Ninja Machine Learning Engineer Career Track\n"
     ]
    }
   ],
   "source": [
    "import requests\n",
    "import json\n",
    "\n",
    "response = requests.get('https://api.codingninjas.com/api/v3/courses')\n",
    "data = json.loads(response.text)\n",
    "course_info = data['data']\n",
    "all_courses = course_info['courses']\n",
    "\n",
    "for c in all_courses:\n",
    "    if c['available_online'] == True:\n",
    "        print(c['name'])\n"
   ]
  },
  {
   "cell_type": "code",
   "execution_count": 82,
   "id": "659502cf",
   "metadata": {},
   "outputs": [
    {
     "name": "stdout",
     "output_type": "stream",
     "text": [
      "{'data': {'events': [{'id': 3581, 'name': 'Crack the code to your dream internship', 'short_desc': 'Are you ready to embark on an exciting journey into the world of technology? Join us for our \"Crack the code to your dream internship\" webinar, where we will guide you through the steps to a successful and fulfilling tech career. This webinar is your roadmap to success.\\r\\n \\r\\n\\r\\n\\r\\nSpeaker: Aditya Bindal, Google\\r\\n \\r\\n \\r\\nWhat to Expect:\\r\\n  \\r\\nInsider Insights: Hear from industry expert who will share the experiences and tips on navigating the tech landscape.\\r\\n \\r\\nCareer Pathways: Discover various career options in technology, Real-world examples and Practical Insights\\r\\n \\r\\nSkill Development: Learn about the essential skills and tools you need to excel in the tech field. \\r\\n \\r\\nQ&A Session: Get answers to your burning questions from our expert.\\r\\n\\r\\n\\r\\n🎟️ Don\\'t Forget to Register:\\r\\nSeats are limited, and this is your chance to kickstart or supercharge your career in the world of tech. Register now to secure your spot.\\r\\n\\r\\n\\r\\nThis webinar will provide you with valuable insights and a clear roadmap to achieve your goals. Don\\'t miss out on this opportunity to take the next step in your tech journey.\\r\\n', 'cover_picture': 'https://files.codingninjas.in/coding-webinar-05-1-30826-31538.jpg', 'registration_start_time': 1698916500, 'registration_end_time': 1700284500, 'event_start_time': 1700285400, 'event_end_time': 1700289000, 'venue': 'Online', 'fees': 0, 'currency': 'INR', 'registration_status': 'REGISTRATIONS_OPEN', 'user_already_registered': None, 'start_time': 1698916500, 'end_time': 1700284500, 'registered_users': {'top_users': [{'name': 'Maximus Legend', 'image_url': 'https://lh3.googleusercontent.com/a/AItbvmli0r2k8gcJlKrOJAbqAia8sXudnUqC13-NPLaYLJ0=s50-mo'}, {'name': 'Farha Kousar', 'image_url': 'https://files.codingninjas.com/profile208289123dfdc72c6aadff5c7dca9b7c77fe886.webp'}, {'name': 'VAISHALI SINGH', 'image_url': 'https://lh3.googleusercontent.com/a-/AOh14GjkP29fgWxc_Zc6D7ZysglGQnaX-l9dq-a0H5Ki=s96-c'}, {'name': 'SANJIV GUPTA', 'image_url': 'https://lh3.googleusercontent.com/a-/AOh14GivqyUoeV5JLqoyXD2ZwMOX5f-tDpGHI0hG3ic7=s96-c'}, {'name': 'Swati Kumari Singh', 'image_url': 'https://lh5.googleusercontent.com/-4h9dKQXmi5M/AAAAAAAAAAI/AAAAAAAAAAA/AMZuuck20YN-c97yBc6EKnTgWSwTImL0Xw/s96-c/photo.jpg'}], 'other_users_count': 461, 'show_users_count': True}, 'seats_left': 9534, 'seats_filled': 466, 'slug': 'crack-the-code-to-your-dream-internship', 'orderable_key': 'EV-3581', 'has_started': False, 'highlight_event': False, 'card_tags': [], 'mobile_cover_picture': 'https://files.codingninjas.in/coding-webinar-10-30260-32005.jpg', 'is_college_specific': True, 'event_category': 'WEBINAR', 'event_sub_category': 'All Time Favorites', 'user_ranking': None, 'high_priority': False}, {'id': 3626, 'name': 'Get shortlisted by Mastering System Design: How PhonePe scaled 500Cr transaction/month?', 'short_desc': ' Get shortlisted by Mastering System Design: How PhonePe scaled to 500 Cr UPI transactions/month?\\r\\n              Know how PhonePe scaled to 500 Cr UPI transactions a month?', 'cover_picture': 'https://files.codingninjas.in/1280x330-2-33152.jpg', 'registration_start_time': 1699929000, 'registration_end_time': 1700225940, 'event_start_time': 1700227800, 'event_end_time': 1699972200, 'venue': 'Online', 'fees': 0, 'currency': 'INR', 'registration_status': 'PAST', 'user_already_registered': None, 'start_time': 1699929000, 'end_time': 1700225940, 'registered_users': {'top_users': [{'name': 'Bharathgowda R', 'image_url': 'https://files.codingninjas.com/gen-assets/BR/1.png'}, {'name': 'Nancy', 'image_url': 'https://files.codingninjas.com/gen-assets/NA/3.png'}, {'name': 'Bavadharani', 'image_url': 'https://files.codingninjas.com/gen-assets/BA/17.png'}, {'name': 'Shikha Nagvanshi', 'image_url': 'https://files.codingninjas.com/gen-assets/SN/10.png'}, {'name': 'Seshapu Lavanya', 'image_url': 'https://files.codingninjas.com/gen-assets/SL/13.png'}], 'other_users_count': 102, 'show_users_count': True}, 'seats_left': 9893, 'seats_filled': 107, 'slug': 'get-shortlisted-by-mastering-system-design-how-phonepe-scaled-500cr-transaction-month', 'orderable_key': 'EV-3626', 'has_started': False, 'highlight_event': True, 'card_tags': ['Placement', 'Web Development', 'Career Guidance'], 'mobile_cover_picture': 'https://files.codingninjas.in/430x160-2-33154.jpg', 'is_college_specific': False, 'event_category': 'WEBINAR', 'event_sub_category': 'All Time Favorites', 'user_ranking': None, 'high_priority': True}, {'id': 3613, 'name': 'How google map predicts shortest path? Learn from a Google SDE', 'short_desc': 'How google map predicts shortest path? Learn from a Google SDE', 'cover_picture': 'https://files.codingninjas.in/1280x330-1-33094.jpg', 'registration_start_time': 1699425000, 'registration_end_time': 1699621140, 'event_start_time': 1699623000, 'event_end_time': 1699626600, 'venue': 'Online', 'fees': 0, 'currency': 'INR', 'registration_status': 'PAST', 'user_already_registered': None, 'start_time': 1699425000, 'end_time': 1699621140, 'registered_users': {'top_users': [{'name': 'Shakil', 'image_url': 'https://files.codingninjas.com/gen-assets/SH/6.png'}, {'name': 'Uday Kiran', 'image_url': 'https://lh3.googleusercontent.com/a/AAcHTtc05QNsztCqyCf9XK0HwVkgOVGXltcxCVfe_F3_V3hoXg=s50'}, {'name': 'poornima', 'image_url': 'https://files.codingninjas.com/gen-assets/PO/7.png'}, {'name': 'Asif Rafiq', 'image_url': 'https://files.codingninjas.com/gen-assets/AR/3.png'}, {'name': 'Aashish sharma', 'image_url': 'https://files.codingninjas.com/gen-assets/AS/9.png'}], 'other_users_count': 3611, 'show_users_count': True}, 'seats_left': 6384, 'seats_filled': 3616, 'slug': 'how-google-map-predicts-shortest-path-learn-from-a-google-sde', 'orderable_key': 'EV-3613', 'has_started': True, 'highlight_event': True, 'card_tags': ['Efficient Coding', 'Placement', 'Career Guidance', 'Coding Concepts', 'Interview Preparation'], 'mobile_cover_picture': 'https://files.codingninjas.in/430x160-1-33092.jpg', 'is_college_specific': False, 'event_category': 'WEBINAR', 'event_sub_category': 'All Time Favorites', 'user_ranking': None, 'high_priority': True}, {'id': 3609, 'name': 'Become Job Ready For Top Tech Companies', 'short_desc': 'Do you know? 10K+ students got placed after learning with Coding Ninjas', 'cover_picture': 'https://files.codingninjas.in/coding-webinar-05-1-30826.jpg', 'registration_start_time': 1699344780, 'registration_end_time': 1699536600, 'event_start_time': 1699534800, 'event_end_time': 1699538400, 'venue': 'Online', 'fees': 0, 'currency': 'INR', 'registration_status': 'PAST', 'user_already_registered': None, 'start_time': 1699344780, 'end_time': 1699536600, 'registered_users': {'top_users': [{'name': 'PRANJALI SHRIPAT KHUPRAO', 'image_url': 'https://files.codingninjas.com/profile452786998a21b250be62b52403208fe994966c5.webp'}, {'name': 'Chandan Sahu', 'image_url': 'https://lh3.googleusercontent.com/a-/AOh14GhblIQ36IMBowqgL-nj4TSkeLMSrB9bBOerdJ4_=s96-c'}, {'name': 'Malaiappansrikanth S', 'image_url': 'https://lh3.googleusercontent.com/a/ACg8ocJi7FrJMvQ-eCOkoig7eku_GzRjcO4BvQWhqrncPuGf8l8=s96-c'}, {'name': 'nikhil kumar', 'image_url': 'https://lh3.googleusercontent.com/a/ACg8ocI3jGRGAYaVbhPmtWMdTJny6jsvFofxQMs326szpq2t=s96-c'}, {'name': 'Eswar', 'image_url': 'https://lh3.googleusercontent.com/a/ACg8ocI3AZ4tVe9yQgNFY04QzrUZokFp2SmDpgrKZ_XnUDfp6Q=s96-c'}], 'other_users_count': 199, 'show_users_count': True}, 'seats_left': 999796, 'seats_filled': 204, 'slug': 'become-job-ready-for-top-tech-companies-1', 'orderable_key': 'EV-3609', 'has_started': True, 'highlight_event': False, 'card_tags': ['Career Guidance'], 'mobile_cover_picture': 'https://files.codingninjas.in/coding-webinar-10-1-30823.webp', 'is_college_specific': False, 'event_category': 'WEBINAR', 'event_sub_category': 'All Time Favorites', 'user_ranking': None, 'high_priority': False}, {'id': 3606, 'name': 'Confirm your Microsoft shortlist with winning project ideas', 'short_desc': 'Confirm your Microsoft shortlist with winning project ideas', 'cover_picture': 'https://files.codingninjas.in/1280x330-4-32540.png', 'registration_start_time': 1699252200, 'registration_end_time': 1699448340, 'event_start_time': 1699450200, 'event_end_time': 1699453800, 'venue': 'Online', 'fees': 0, 'currency': 'INR', 'registration_status': 'PAST', 'user_already_registered': None, 'start_time': 1699252200, 'end_time': 1699448340, 'registered_users': {'top_users': [{'name': 'Nandish ', 'image_url': 'https://files.codingninjas.com/gen-assets/NA/2.png'}, {'name': 'Ajay G Wankhade', 'image_url': 'https://files.codingninjas.com/gen-assets/AW/6.png'}, {'name': 'Sangavi N', 'image_url': 'https://files.codingninjas.com/gen-assets/SN/8.png'}, {'name': 'Shubham Dhiman', 'image_url': 'https://files.codingninjas.com/gen-assets/SD/12.png'}, {'name': 'Veeresha', 'image_url': 'https://files.codingninjas.com/gen-assets/VE/13.png'}], 'other_users_count': 3488, 'show_users_count': True}, 'seats_left': 6507, 'seats_filled': 3493, 'slug': 'confirm-your-microsoft-shortlist-with-winning-project-ideas', 'orderable_key': 'EV-3606', 'has_started': True, 'highlight_event': True, 'card_tags': ['Placement', 'Web Development', 'Career Guidance'], 'mobile_cover_picture': 'https://files.codingninjas.in/430x160-1-32541.png', 'is_college_specific': False, 'event_category': 'WEBINAR', 'event_sub_category': 'All Time Favorites', 'user_ranking': None, 'high_priority': True}, {'id': 3608, 'name': 'Become Job Ready For Top Tech Companies', 'short_desc': 'Do you know? 10K+ students got placed after learning with Coding Ninjas', 'cover_picture': 'https://files.codingninjas.in/coding-webinar-05-1-30826.jpg', 'registration_start_time': 1699344480, 'registration_end_time': 1699450200, 'event_start_time': 1699448400, 'event_end_time': 1699452000, 'venue': 'Online', 'fees': 0, 'currency': 'INR', 'registration_status': 'PAST', 'user_already_registered': None, 'start_time': 1699344480, 'end_time': 1699450200, 'registered_users': {'top_users': [{'name': 'Chapala sneha ', 'image_url': 'https://lh3.googleusercontent.com/a/AAcHTtcaOgOW2mitU0kUKlT0IwSDKSxpb424h_AYs5rL=s96-c'}, {'name': 'Ujala pandey', 'image_url': 'https://files.codingninjas.com/gen-assets/UP/8.png'}, {'name': 'B Venkatesh', 'image_url': 'https://files.codingninjas.com/profile3133256f95d0ce2579b3f3fb41a6acaf213ff8b.webp'}, {'name': 'MERAJ AHMAD', 'image_url': 'https://files.codingninjas.com/gen-assets/MA/8.png'}, {'name': 'Nitin Syam', 'image_url': 'https://files.codingninjas.com/gen-assets/NS/3.png'}], 'other_users_count': 220, 'show_users_count': True}, 'seats_left': 9775, 'seats_filled': 225, 'slug': 'become-job-ready-for-top-tech-companies', 'orderable_key': 'EV-3608', 'has_started': True, 'highlight_event': False, 'card_tags': ['Career Guidance'], 'mobile_cover_picture': 'https://files.codingninjas.in/coding-webinar-10-1-30823.webp', 'is_college_specific': False, 'event_category': 'WEBINAR', 'event_sub_category': 'All Time Favorites', 'user_ranking': None, 'high_priority': False}, {'id': 3547, 'name': 'How to learn DSA', 'short_desc': 'Are you ready to embark on an exciting journey into the world of technology? Join us for our \"How to learn DSA\" webinar, where we will guide you through the steps to a successful and fulfilling tech career. This webinar is your roadmap to success.\\r\\n\\r\\n \\r\\n\\r\\n \\r\\n\\r\\nSpeaker: Aakansha Tewari, Microsoft\\r\\n\\r\\n \\r\\n\\r\\n \\r\\n\\r\\n \\r\\n\\r\\nWhat to Expect:\\r\\n\\r\\n \\r\\n\\r\\n \\r\\n\\r\\nInsider Insights: Hear from industry expert who will share the experiences and tips on navigating the tech landscape.\\r\\n\\r\\n \\r\\n\\r\\n \\r\\n\\r\\n \\r\\n\\r\\nCareer Pathways: Discover various career options in technology and DSA\\r\\n\\r\\n \\r\\n\\r\\n \\r\\n\\r\\nSkill Development: Learn about the essential skills and tools you need to excel in the tech field. \\r\\n\\r\\n \\r\\n\\r\\n \\r\\n\\r\\n \\r\\n\\r\\nQ&A Session: Get answers to your burning questions from our expert.\\r\\n\\r\\n \\r\\n\\r\\n🎟️ Don\\'t Forget to Register:\\r\\nSeats are limited, and this is your chance to kickstart or supercharge your career in the world of DSA. Register now to secure your spot.\\r\\n\\r\\n\\r\\n \\r\\n\\r\\n\\r\\nThis webinar will provide you with valuable insights and a clear roadmap to achieve your goals. Don\\'t miss out on this opportunity to take the next step in your tech journey.', 'cover_picture': 'https://files.codingninjas.in/coding-webinar-05-1-30826-31538.jpg', 'registration_start_time': 1698666360, 'registration_end_time': 1699363800, 'event_start_time': 1699367400, 'event_end_time': 1699371000, 'venue': 'Online', 'fees': 0, 'currency': 'INR', 'registration_status': 'PAST', 'user_already_registered': None, 'start_time': 1698666360, 'end_time': 1699363800, 'registered_users': {'top_users': [{'name': 'ANIKET KUMAR', 'image_url': 'https://lh3.googleusercontent.com/a/AAcHTtcqcJfkDcPFDAnOJBN5eOUMklf69e8qz9YQqnLp6hO_=s50-mo'}, {'name': 'Souvik Sen', 'image_url': 'https://files.codingninjas.com/profile47909213c3c9af73a90a729a192871b53bb65a0.webp'}, {'name': 'Nikhil Nandanwar', 'image_url': 'https://files.codingninjas.com/profile38297141bc27bafcfa5c32986ecf2bf85fba925.webp'}, {'name': 'Jyoti Pandey', 'image_url': 'https://lh3.googleusercontent.com/a/AAcHTtc8oQ-kR6YXDFlZMzdYB7lfgIRKeGdZ-sR2EZMZBjcj=s50-mo'}, {'name': 'Krishna Narde', 'image_url': 'https://lh3.googleusercontent.com/a/ACg8ocKFEfY9QA4XyMc4kG9xD8kJWLCPzNWcnoSfuL5-57bQ=s96-c'}], 'other_users_count': 357, 'show_users_count': True}, 'seats_left': 9638, 'seats_filled': 362, 'slug': 'how-to-learn-dsa', 'orderable_key': 'EV-3547', 'has_started': True, 'highlight_event': False, 'card_tags': [], 'mobile_cover_picture': 'https://files.codingninjas.in/coding-webinar-10-30260-32005.jpg', 'is_college_specific': True, 'event_category': 'WEBINAR', 'event_sub_category': 'All Time Favorites', 'user_ranking': None, 'high_priority': False}, {'id': 3580, 'name': 'How to become an SDE at Top Tech Companies', 'short_desc': 'Do you know? 10K+ students got placed after learning with Coding Ninjas', 'cover_picture': 'https://files.codingninjas.in/coding-webinar-05-1-30826.jpg', 'registration_start_time': 1698908280, 'registration_end_time': 1699363800, 'event_start_time': 1699362000, 'event_end_time': 1699365600, 'venue': 'Online', 'fees': 0, 'currency': 'INR', 'registration_status': 'PAST', 'user_already_registered': None, 'start_time': 1698908280, 'end_time': 1699363800, 'registered_users': {'top_users': [{'name': 'Nikhil Nandanwar', 'image_url': 'https://files.codingninjas.com/profile38297141bc27bafcfa5c32986ecf2bf85fba925.webp'}, {'name': 'B.Jyothi Prakash ', 'image_url': 'https://files.codingninjas.com/gen-assets/Avtar.png'}, {'name': 'Nitesh Tiwari', 'image_url': 'https://lh3.googleusercontent.com/a/ACg8ocLi2-fECH-fRpJmL73evzAYKJ-bov6HGOV1WHHD0w7R8g=s96-c'}, {'name': None, 'image_url': 'https://files.codingninjas.com/gen-assets/Avtar.png'}, {'name': 'Jyoti Pandey', 'image_url': 'https://lh3.googleusercontent.com/a/AAcHTtc8oQ-kR6YXDFlZMzdYB7lfgIRKeGdZ-sR2EZMZBjcj=s50-mo'}], 'other_users_count': 405, 'show_users_count': True}, 'seats_left': 999590, 'seats_filled': 410, 'slug': 'how-to-become-an-sde-at-top-tech-companies-11', 'orderable_key': 'EV-3580', 'has_started': True, 'highlight_event': False, 'card_tags': ['Career Guidance'], 'mobile_cover_picture': 'https://files.codingninjas.in/coding-webinar-10-1-30823.webp', 'is_college_specific': False, 'event_category': 'WEBINAR', 'event_sub_category': 'All Time Favorites', 'user_ranking': None, 'high_priority': False}, {'id': 3544, 'name': 'SDE INTERNSHIPS : THE INSIDE SCOOP', 'short_desc': ' \\r\\nAre you ready to embark on an exciting journey into the world of technology? Join us for our \"SDE INTERNSHIPS : THE INSIDE SCOOP\" webinar, where we will guide you through the steps to a successful and fulfilling tech career. This webinar is your roadmap to success.\\r\\n\\r\\n \\r\\n\\r\\nSpeaker: Shubhangi Gupta, Airtel\\r\\n\\r\\n \\r\\n\\r\\nWhat to Expect:\\r\\n\\r\\n \\r\\n\\r\\nInsider Insights: Hear from industry expert who will share the experiences and tips on navigating the tech landscape.\\r\\n\\r\\n  \\r\\n\\r\\nCareer Pathways: Discover various career options in technology and SDE \\r\\n\\r\\n \\r\\n\\r\\nSkill Development: Learn about the essential skills and tools you need to excel in the tech field. \\r\\n\\r\\n \\r\\n\\r\\nQ&A Session: Get answers to your burning questions from our expert.\\r\\n\\r\\n🎟️ Don\\'t Forget to Register:\\r\\n\\r\\nSeats are limited, and this is your chance to kickstart or supercharge your career in the world of SDE. Register now to secure your spot.\\r\\n\\r\\nThis webinar will provide you with valuable insights and a clear roadmap to achieve your goals. Don\\'t miss out on this opportunity to take the next step in your tech journey.', 'cover_picture': 'https://files.codingninjas.in/coding-webinar-05-1-30826-31538.jpg', 'registration_start_time': 1698650880, 'registration_end_time': 1699279200, 'event_start_time': 1699281000, 'event_end_time': 1699284600, 'venue': 'Online', 'fees': 0, 'currency': 'INR', 'registration_status': 'PAST', 'user_already_registered': None, 'start_time': 1698650880, 'end_time': 1699279200, 'registered_users': {'top_users': [{'name': 'Aprajita Thakur', 'image_url': 'https://lh3.googleusercontent.com/a/ACg8ocJDlunJ-piaYkc2j0kAEYLFDG7oORBRNRP2n_ugWYvUuA8=s50'}, {'name': 'Lavanya Poudala', 'image_url': 'https://lh3.googleusercontent.com/a/AGNmyxb1xrJ98ajQqOpMTPhKJpImrmZzgCtGFYtNXxH14Q=s50'}, {'name': 'Gaurav Shukla', 'image_url': 'https://files.codingninjas.com/gen-assets/GS/16.png'}, {'name': 'Matthew Lawrence L', 'image_url': 'https://files.codingninjas.in/article_images/profile20406113ffb926b796e0d60278e032f21731332.webp'}, {'name': 'Pooja Arabi', 'image_url': 'https://files.codingninjas.com/profile442593721f786ea2a262ea9e15840ac12c2d79a.webp'}], 'other_users_count': 332, 'show_users_count': True}, 'seats_left': 9663, 'seats_filled': 337, 'slug': 'sde-internships-the-inside-scoop', 'orderable_key': 'EV-3544', 'has_started': True, 'highlight_event': False, 'card_tags': [], 'mobile_cover_picture': 'https://files.codingninjas.in/coding-webinar-10-30260-32005.jpg', 'is_college_specific': True, 'event_category': 'WEBINAR', 'event_sub_category': 'All Time Favorites', 'user_ranking': None, 'high_priority': False}, {'id': 3586, 'name': 'How Hotstar Streams 4CR+ Live Users During the World Cup', 'short_desc': 'How Hotstar Streams 4CR+ Live Users During the World Cup', 'cover_picture': 'https://files.codingninjas.in/1280x330-32465.png', 'registration_start_time': 1698993000, 'registration_end_time': 1699275540, 'event_start_time': 1699277400, 'event_end_time': 1699281000, 'venue': 'Online', 'fees': 0, 'currency': 'INR', 'registration_status': 'PAST', 'user_already_registered': None, 'start_time': 1698993000, 'end_time': 1699275540, 'registered_users': {'top_users': [{'name': 'Snehil Gupta', 'image_url': 'https://lh3.googleusercontent.com/a/AAcHTtd3KJ2IAy_IKYY-Qxrcz0LUVwa1Q8EyUVZ7S_hD=s96-c'}, {'name': 'Onteru Nagaraju', 'image_url': 'https://lh3.googleusercontent.com/a-/AOh14GjYAYgbe_DYq9T2Ku-16Op9CLGvF9jZBgBdhXaLMQ=s96-c'}, {'name': 'Kameshraj', 'image_url': 'https://lh3.googleusercontent.com/a/AAcHTtdMdWZe7f6XTiJfWeRiT6U6IcV4hOjUeZ_2weJFUQ=s96-c'}, {'name': 'Gowtham Karthik M', 'image_url': 'https://files.codingninjas.com/gen-assets/GM/14.png'}, {'name': None, 'image_url': 'https://lh3.googleusercontent.com/a/AAcHTtd1PqtSGHxEXWbfQ79WqrFCq3vkftK9mffPXamtpp0C3Q=s96-c'}], 'other_users_count': 927, 'show_users_count': True}, 'seats_left': 9068, 'seats_filled': 932, 'slug': 'how-hotstar-streams-4cr-live-users-during-the-world-cup', 'orderable_key': 'EV-3586', 'has_started': True, 'highlight_event': True, 'card_tags': ['Career Guidance', 'Interview Preparation'], 'mobile_cover_picture': 'https://files.codingninjas.in/430x160-32463.png', 'is_college_specific': False, 'event_category': 'WEBINAR', 'event_sub_category': 'All Time Favorites', 'user_ranking': None, 'high_priority': True}, {'id': 3579, 'name': 'How to become an SDE at Top Tech Companies', 'short_desc': 'Do you know? 10K+ students got placed after learning with Coding Ninjas', 'cover_picture': 'https://files.codingninjas.in/coding-webinar-05-1-30826.jpg', 'registration_start_time': 1698908100, 'registration_end_time': 1699277400, 'event_start_time': 1699275600, 'event_end_time': 1699279200, 'venue': 'Online', 'fees': 0, 'currency': 'INR', 'registration_status': 'PAST', 'user_already_registered': None, 'start_time': 1698908100, 'end_time': 1699277400, 'registered_users': {'top_users': [{'name': None, 'image_url': 'https://files.codingninjas.com/gen-assets/Avtar.png'}, {'name': 'Rashi Bassi', 'image_url': 'https://lh3.googleusercontent.com/a/ACg8ocKPtJrh9fTXPQdy3EoOIFCGKG1et5nusfFvbWiDV1xOkg4=s50'}, {'name': None, 'image_url': 'https://files.codingninjas.com/gen-assets/Avtar.png'}, {'name': 'Lavanya Poudala', 'image_url': 'https://lh3.googleusercontent.com/a/AGNmyxb1xrJ98ajQqOpMTPhKJpImrmZzgCtGFYtNXxH14Q=s50'}, {'name': None, 'image_url': 'https://files.codingninjas.com/gen-assets/Avtar.png'}], 'other_users_count': 570, 'show_users_count': True}, 'seats_left': 9999425, 'seats_filled': 575, 'slug': 'how-to-become-an-sde-at-top-tech-companies-10', 'orderable_key': 'EV-3579', 'has_started': True, 'highlight_event': False, 'card_tags': ['Career Guidance'], 'mobile_cover_picture': 'https://files.codingninjas.in/coding-webinar-10-1-30823.webp', 'is_college_specific': False, 'event_category': 'WEBINAR', 'event_sub_category': 'All Time Favorites', 'user_ranking': None, 'high_priority': False}, {'id': 3578, 'name': 'How to become an SDE at Top Tech Companies', 'short_desc': 'Do you know? 10K+ students got placed after learning with Coding Ninjas', 'cover_picture': 'https://files.codingninjas.in/coding-webinar-05-1-30826.jpg', 'registration_start_time': 1698907680, 'registration_end_time': 1699104600, 'event_start_time': 1699102800, 'event_end_time': 1699106400, 'venue': 'Online', 'fees': 0, 'currency': 'INR', 'registration_status': 'PAST', 'user_already_registered': None, 'start_time': 1698907680, 'end_time': 1699104600, 'registered_users': {'top_users': [{'name': 'Amit Sharma ', 'image_url': 'https://files.codingninjas.com/gen-assets/AS/0.png'}, {'name': 'Shailesh Modak', 'image_url': 'https://lh3.googleusercontent.com/a/AAcHTteWbEWX916wdk0uv6phyReqWHuaiOmEGJ0RyRmqPv_i=s96-c'}, {'name': 'Sourav Samanta', 'image_url': 'https://lh3.googleusercontent.com/a-/AOh14GhvW06CZ-G9spcPo87a7_YQCLW7oHdW05c7bJKL=s96-c'}, {'name': 'Harshit Kumar', 'image_url': 'https://lh3.googleusercontent.com/a/AATXAJxbkZ_L0rw_oHgWRUoMLSjLxzUdH4AKN1l4SzGy=s96-c'}, {'name': 'Jaspreet Kaur', 'image_url': 'https://files.codingninjas.com/gen-assets/JK/3.png'}], 'other_users_count': 164, 'show_users_count': True}, 'seats_left': 9831, 'seats_filled': 169, 'slug': 'how-to-become-an-sde-at-top-tech-companies-9', 'orderable_key': 'EV-3578', 'has_started': True, 'highlight_event': False, 'card_tags': ['Career Guidance'], 'mobile_cover_picture': 'https://files.codingninjas.in/coding-webinar-10-1-30823.webp', 'is_college_specific': False, 'event_category': 'WEBINAR', 'event_sub_category': 'All Time Favorites', 'user_ranking': None, 'high_priority': False}, {'id': 3545, 'name': 'Mastering the Art of Web Development', 'short_desc': 'Are you ready to embark on an exciting journey into the world of technology? Join us for our \"Mastering the Art of Web Development\" webinar, where we will guide you through the steps to a successful and fulfilling tech career. This webinar is your roadmap to success.\\r\\n\\r\\nSpeaker: Aditya Soni, Standard Chartered\\r\\n\\r\\nWhat to Expect:\\r\\n\\r\\nInsider Insights: Hear from industry expert who will share the experiences and tips on navigating the tech landscape.\\r\\n\\r\\nCareer Pathways: Discover various career options in technology and web development \\r\\n\\r\\nSkill Development: Learn about the essential skills and tools you need to excel in the tech field. \\r\\n\\r\\nQ&A Session: Get answers to your burning questions from our expert.\\r\\n\\r\\n🎟️ Don\\'t Forget to Register:\\r\\n\\r\\nSeats are limited, and this is your chance to kickstart or supercharge your career in the world of web development. Register now to secure your spot.\\r\\n\\r\\nThis webinar will provide you with valuable insights and a clear roadmap to achieve your goals. Don\\'t miss out on this opportunity to take the next step in your tech journey.', 'cover_picture': 'https://files.codingninjas.in/coding-webinar-05-1-30826-31538.jpg', 'registration_start_time': 1698653940, 'registration_end_time': 1699095600, 'event_start_time': 1699097400, 'event_end_time': 1699101000, 'venue': 'Online', 'fees': 0, 'currency': 'INR', 'registration_status': 'PAST', 'user_already_registered': None, 'start_time': 1698653940, 'end_time': 1699095600, 'registered_users': {'top_users': [{'name': 'sumit', 'image_url': 'https://files.codingninjas.com/gen-assets/SU/4.png'}, {'name': 'ronit kumar', 'image_url': 'https://files.codingninjas.com/gen-assets/RK/1.png'}, {'name': 'vishav sharma ', 'image_url': 'https://files.codingninjas.com/gen-assets/VS/8.png'}, {'name': 'priyanshu singh ', 'image_url': 'https://files.codingninjas.com/gen-assets/PS/16.png'}, {'name': 'Megha Nagar', 'image_url': 'https://lh3.googleusercontent.com/a/AATXAJzEUVeMwBY0tX2P0jt_FFGrqPLrUwdvQNoEkhua=s96-c'}], 'other_users_count': 254, 'show_users_count': True}, 'seats_left': 9741, 'seats_filled': 259, 'slug': 'mastering-the-art-of-web-development', 'orderable_key': 'EV-3545', 'has_started': True, 'highlight_event': False, 'card_tags': [], 'mobile_cover_picture': 'https://files.codingninjas.in/coding-webinar-10-30260-32005.jpg', 'is_college_specific': True, 'event_category': 'WEBINAR', 'event_sub_category': 'All Time Favorites', 'user_ranking': None, 'high_priority': False}, {'id': 3570, 'name': ' Master Power BI in a free Masterclass using World Cup Data', 'short_desc': 'Master Power BI in a free Masterclass using World Cup Data', 'cover_picture': 'https://files.codingninjas.in/1280x330-4-32339.png', 'registration_start_time': 1698820200, 'registration_end_time': 1699016340, 'event_start_time': 1699018200, 'event_end_time': 1699021800, 'venue': 'Online', 'fees': 0, 'currency': 'INR', 'registration_status': 'PAST', 'user_already_registered': None, 'start_time': 1698820200, 'end_time': 1699016340, 'registered_users': {'top_users': [{'name': 'Arpit Pandey', 'image_url': 'https://files.codingninjas.com/gen-assets/AP/3.png'}, {'name': 'Nagendra k', 'image_url': 'https://files.codingninjas.com/gen-assets/NK/7.png'}, {'name': 'Nitish', 'image_url': 'https://files.codingninjas.com/gen-assets/NI/1.png'}, {'name': 'Gatika singhal', 'image_url': 'https://files.codingninjas.com/gen-assets/GS/6.png'}, {'name': 'Uthra Kaithakode', 'image_url': 'https://files.codingninjas.com/gen-assets/UK/11.png'}], 'other_users_count': 2000, 'show_users_count': True}, 'seats_left': 7995, 'seats_filled': 2005, 'slug': 'master-power-bi-in-a-free-masterclass-using-world-cup-data', 'orderable_key': 'EV-3570', 'has_started': True, 'highlight_event': True, 'card_tags': ['Placement', 'Career Guidance'], 'mobile_cover_picture': 'https://files.codingninjas.in/430x160-4-32340.png', 'is_college_specific': False, 'event_category': 'WEBINAR', 'event_sub_category': 'All Time Favorites', 'user_ranking': None, 'high_priority': True}, {'id': 3576, 'name': 'How to become an SDE at Top Tech Companies', 'short_desc': 'Do you know? 10K+ students got placed after learning with Coding Ninjas', 'cover_picture': 'https://files.codingninjas.in/coding-webinar-05-1-30826.jpg', 'registration_start_time': 1698907500, 'registration_end_time': 1699018200, 'event_start_time': 1699016400, 'event_end_time': 1699020000, 'venue': 'Online', 'fees': 0, 'currency': 'INR', 'registration_status': 'PAST', 'user_already_registered': None, 'start_time': 1698907500, 'end_time': 1699018200, 'registered_users': {'top_users': [{'name': 'karimulla shaik', 'image_url': 'https://lh3.googleusercontent.com/a/AAcHTtf5DPdMt_aCsnbhIx_2BN3VyoYXXL9SayDFiWfV=s50'}, {'name': 'Priyanka Yadav . S', 'image_url': 'https://files.codingninjas.com/gen-assets/Avtar.png'}, {'name': 'Shivani Sisodia', 'image_url': 'https://lh3.googleusercontent.com/a-/AOh14GjlRDLD26w3yZPb43i2_L7KJXM3R3koj2b1wZ-OVQ=s96-c'}, {'name': 'Ajay Patil', 'image_url': 'https://files.codingninjas.com/profile1763261aa4961d7786eea1a22a5ebadf2ab9424.webp'}, {'name': 'Gadde Madhukar Reddy', 'image_url': 'https://lh3.googleusercontent.com/a/ALm5wu35_of7GQOEoGUd2Yvi-HXMG8eZ5Tad1ToMn6Un=s96-c'}], 'other_users_count': 152, 'show_users_count': True}, 'seats_left': 9843, 'seats_filled': 157, 'slug': 'how-to-become-an-sde-at-top-tech-companies-8', 'orderable_key': 'EV-3576', 'has_started': True, 'highlight_event': False, 'card_tags': ['Career Guidance'], 'mobile_cover_picture': 'https://files.codingninjas.in/coding-webinar-10-1-30823.webp', 'is_college_specific': False, 'event_category': 'WEBINAR', 'event_sub_category': 'All Time Favorites', 'user_ranking': None, 'high_priority': False}, {'id': 3556, 'name': 'Placement Talk || IU ', 'short_desc': \"Are you ready to take the first step towards your dream career? Join us for a Placement Talk in collaboration with Coding Ninjas at Integral University. This event is your gateway to explore exciting career opportunities and gain valuable insights into the job market.\\r\\n\\r\\nEvent Highlights:\\r\\n\\r\\nExpert Insights: Learn from industry experts and seasoned professionals about what it takes to land your dream job in today's competitive market.\\r\\n\\r\\nResume Building: Get tips and tricks on crafting the perfect resume that stands out to potential employers.\\r\\n\\r\\nInterview Skills: Sharpen your interview skills with expert guidance and mock interview sessions.\\r\\n\\r\\nJob Opportunities: Discover job openings, internships, and career paths in various fields, including tech, marketing, finance, and more.\\r\\n\\r\\nNetworking: Connect with recruiters, fellow students, and professionals to expand your professional network.\", 'cover_picture': None, 'registration_start_time': 1698732660, 'registration_end_time': 1698991200, 'event_start_time': 1698987600, 'event_end_time': 1698993000, 'venue': 'Online', 'fees': 0, 'currency': 'INR', 'registration_status': 'PAST', 'user_already_registered': None, 'start_time': 1698732660, 'end_time': 1698991200, 'registered_users': {'top_users': [{'name': 'Mohammad Kaif', 'image_url': 'https://lh3.googleusercontent.com/a/ACg8ocIgquTJrDuOSP-L2C4QwjpHZCIOT_iTInYxODxwJjWg=s96-c'}, {'name': 'LAKAVATH ANIL KUMAR LAKAVATH ANIL KUMAR', 'image_url': 'https://lh3.googleusercontent.com/a/ACg8ocIpZDGk0o3Z5f5YzSSV1Mn88bLAbe_mmGvRFqZQM6t-=s50-mo'}, {'name': 'Mohd Mustufa', 'image_url': 'https://lh3.googleusercontent.com/a/AGNmyxYgP2vlnZiBxkFLCn0Rvdu-zhamqv7IWnpuLVDwGQ=s96-c'}, {'name': 'Mohd Saad Ahmad', 'image_url': 'https://lh3.googleusercontent.com/a/AItbvmlKmnp7qXj9r8ANu5-ArCoi7O3HbY8BXLDZC91L=s96-c'}, {'name': 'Dipendra singh kalura', 'image_url': 'https://lh3.googleusercontent.com/a/ACg8ocKUlR14UdLQ2OVA3L8f9D_w0EG8qawuD15M5SPiiccK=s96-c'}], 'other_users_count': 326, 'show_users_count': True}, 'seats_left': 9669, 'seats_filled': 331, 'slug': 'placement-talk-iu', 'orderable_key': 'EV-3556', 'has_started': True, 'highlight_event': False, 'card_tags': ['Campus Event', 'Career Guidance'], 'mobile_cover_picture': None, 'is_college_specific': True, 'event_category': 'WEBINAR', 'event_sub_category': 'All Time Favorites', 'user_ranking': None, 'high_priority': False}, {'id': 3543, 'name': 'TechTracks: Crafting Career in 4 Years | NIT, Jalandhar', 'short_desc': 'Are you ready to embark on an exciting journey into the world of technology? Join us for our \"Roadmap to Crack Internship & Placement Interviews\" webinar, where we will guide you through the steps to a successful and fulfilling tech career. Whether you\\'re a student aspiring to enter the tech industry or a professional looking to transition, this webinar is your roadmap to success.\\r\\n\\r\\n', 'cover_picture': 'https://files.codingninjas.in/coding-webinar-05-1-30393.webp', 'registration_start_time': 1698650040, 'registration_end_time': 1698928200, 'event_start_time': 1698926400, 'event_end_time': 1698933600, 'venue': 'Online', 'fees': 0, 'currency': 'INR', 'registration_status': 'PAST', 'user_already_registered': None, 'start_time': 1698650040, 'end_time': 1698928200, 'registered_users': {'top_users': [{'name': 'Shourya Bhardwaj', 'image_url': 'https://files.codingninjas.in/article_images/profile37763359c62fb6726a5aaa65ac6acd0dfc4ad78.webp'}, {'name': 'Garvita Sharma ', 'image_url': 'https://lh3.googleusercontent.com/a/AEdFTp67_AOercBBF54dVaDPD9mqd2q1Su29PHXDXEcb6w=s96-c'}, {'name': 'Anjali Tulani', 'image_url': 'https://lh3.googleusercontent.com/a/AATXAJzVV8QYld2EDPgpCfnMjOlvv8kb7dZVXtO8glQU=s96-c'}, {'name': 'Prakhar Bhatt', 'image_url': 'https://lh3.googleusercontent.com/a/ACg8ocK9FYDVVV70AkjJcQ0ybnzaG13TFR_o68cx5ByBTYCxPlE=s50'}, {'name': 'JAGMAL RAM', 'image_url': 'https://lh3.googleusercontent.com/a/ACg8ocJaai4LkA7YEUQ8UvxIHQFdAo7NAcPlZ1BGrsU9bud1=s96-c'}], 'other_users_count': 213, 'show_users_count': True}, 'seats_left': 9782, 'seats_filled': 218, 'slug': 'techtracks-crafting-careers-in-4-years-nit-jalandhar', 'orderable_key': 'EV-3543', 'has_started': True, 'highlight_event': False, 'card_tags': [], 'mobile_cover_picture': 'https://files.codingninjas.in/coding-webinar-10-30260.webp', 'is_college_specific': True, 'event_category': 'WEBINAR', 'event_sub_category': 'All Time Favorites', 'user_ranking': None, 'high_priority': False}, {'id': 3569, 'name': 'How to become an SDE at Top Tech Companies', 'short_desc': 'Do you know? 10K+ students got placed after learning with Coding Ninjas', 'cover_picture': 'https://files.codingninjas.in/coding-webinar-05-1-30826.jpg', 'registration_start_time': 1698845760, 'registration_end_time': 1698931800, 'event_start_time': 1698930000, 'event_end_time': 1698933600, 'venue': 'Online', 'fees': 0, 'currency': 'INR', 'registration_status': 'PAST', 'user_already_registered': None, 'start_time': 1698845760, 'end_time': 1698931800, 'registered_users': {'top_users': [{'name': 'Srinivas Bodla', 'image_url': 'https://lh3.googleusercontent.com/a/AGNmyxYcMKlO2eyEiHsdfyzDM0yn90i0d9I3PG6AYfF3l_w=s96-c'}, {'name': 'Arka Mahanty', 'image_url': 'https://lh3.googleusercontent.com/a/ACg8ocIljqAdtBV-nLUfRQBLQGijpdHe9Ge2MFAhZPujRUU2GD8=s96-c'}, {'name': 'fathima priyanka', 'image_url': 'https://files.codingninjas.com/profile4017547649509ea238edb3045b8a1df3fd72d1e.jpg'}, {'name': 'Julius Nyambu', 'image_url': 'https://lh3.googleusercontent.com/a-/AOh14Gj_Ry8Rr92DrTR5mlkO9wquxoWEoGQj0NJeW2yWWw=s96-c'}, {'name': 'Aditi Deokar', 'image_url': 'https://lh3.googleusercontent.com/a-/AOh14Gg-Mv2aymTiIvSt-4kVAh5aWMMs-He-n7ONJ8KCzg=s96-c'}], 'other_users_count': 202, 'show_users_count': True}, 'seats_left': 9793, 'seats_filled': 207, 'slug': 'how-to-become-an-sde-at-top-tech-companies-7', 'orderable_key': 'EV-3569', 'has_started': True, 'highlight_event': True, 'card_tags': ['Career Guidance'], 'mobile_cover_picture': 'https://files.codingninjas.in/coding-webinar-10-1-30823.webp', 'is_college_specific': False, 'event_category': 'WEBINAR', 'event_sub_category': 'All Time Favorites', 'user_ranking': None, 'high_priority': False}, {'id': 3557, 'name': 'Cracking the Code: Your Roadmap to Programming Success', 'short_desc': 'Are you ready to embark on an exciting journey into the world of technology? Join us for our \"Cracking the Code: Your Roadmap to Programming Success\" webinar, where we will guide you through the steps to a successful and fulfilling tech career. This webinar is your roadmap to success.\\r\\n\\r\\n \\r\\n\\r\\n\\r\\n\\r\\nSpeaker: Ankita Rani, Accenture\\r\\n\\r\\n \\r\\n\\r\\n \\r\\n\\r\\nWhat to Expect:\\r\\n\\r\\n  \\r\\n\\r\\nInsider Insights: Hear from industry expert who will share the experiences and tips on navigating the tech landscape.\\r\\n\\r\\n \\r\\n\\r\\nCareer Pathways: Discover various career options in technology and coding. \\r\\n\\r\\n \\r\\n\\r\\nSkill Development: Learn about the essential skills and tools you need to excel in the tech field. \\r\\n\\r\\n \\r\\n\\r\\nQ&A Session: Get answers to your burning questions from our expert.\\r\\n\\r\\n\\r\\n🎟️ Don\\'t Forget to Register:\\r\\nSeats are limited, and this is your chance to kickstart or supercharge your career in the world of coding. Register now to secure your spot.\\r\\n\\r\\n\\r\\nThis webinar will provide you with valuable insights and a clear roadmap to achieve your goals. Don\\'t miss out on this opportunity to take the next step in your tech journey.\\r\\n\\r\\n\\r\\n\\r\\n', 'cover_picture': 'https://files.codingninjas.in/coding-webinar-05-1-30826-31538.jpg', 'registration_start_time': 1698733020, 'registration_end_time': 1698926400, 'event_start_time': 1698928200, 'event_end_time': 1698931800, 'venue': 'Online', 'fees': 0, 'currency': 'INR', 'registration_status': 'PAST', 'user_already_registered': None, 'start_time': 1698733020, 'end_time': 1698926400, 'registered_users': {'top_users': [{'name': 'Himanshu Sharma', 'image_url': 'https://lh3.googleusercontent.com/a/ACg8ocIO_vJ-OlvSaKgD-GHly6ZP2UH01aJu8DORQM9FpsjDww=s96-c'}, {'name': 'Ammar Flexwala', 'image_url': 'https://lh3.googleusercontent.com/a/ACg8ocKl-drPW4gQSvAwQw8sGuqLTAfAJ4hgEveb5ltWCYKUHQ=s50'}, {'name': 'Arun Meena', 'image_url': 'https://lh3.googleusercontent.com/a/ACg8ocIf0krPuGRvDmydtiGPtX2nNc9zvm4XJKq-gzsDO0Cyy1o=s96-c'}, {'name': 'Yash Tiwari', 'image_url': 'https://lh3.googleusercontent.com/a/ACg8ocLByKZ9QZh0gpSRq3e5EDnU0rsIr44V7H_YkyOzXEN68LU=s50'}, {'name': 'Prakhar Bhatt', 'image_url': 'https://lh3.googleusercontent.com/a/ACg8ocK9FYDVVV70AkjJcQ0ybnzaG13TFR_o68cx5ByBTYCxPlE=s50'}], 'other_users_count': 523, 'show_users_count': True}, 'seats_left': 9472, 'seats_filled': 528, 'slug': 'cracking-the-code-your-roadmap-to-programming-success', 'orderable_key': 'EV-3557', 'has_started': True, 'highlight_event': False, 'card_tags': [], 'mobile_cover_picture': 'https://files.codingninjas.in/coding-webinar-10-30260-32005.jpg', 'is_college_specific': False, 'event_category': 'WEBINAR', 'event_sub_category': 'All Time Favorites', 'user_ranking': None, 'high_priority': False}, {'id': 3550, 'name': 'What does it take to become a Google Software Engineer?', 'short_desc': 'What does it take to become a Google Software Engineer?', 'cover_picture': 'https://files.codingninjas.in/1280x330-3-32283.png', 'registration_start_time': 1698633000, 'registration_end_time': 1698843540, 'event_start_time': 1698845400, 'event_end_time': 1698849000, 'venue': 'Online', 'fees': 0, 'currency': 'INR', 'registration_status': 'PAST', 'user_already_registered': None, 'start_time': 1698633000, 'end_time': 1698843540, 'registered_users': {'top_users': [{'name': 'Deepak verma', 'image_url': 'https://files.codingninjas.com/gen-assets/DV/17.png'}, {'name': 'Suraj Kumar Gandhi', 'image_url': 'https://files.codingninjas.com/gen-assets/SG/15.png'}, {'name': 'SABBIR HUSSAIN', 'image_url': 'https://files.codingninjas.com/gen-assets/SH/4.png'}, {'name': 'Abhineet pandey', 'image_url': 'https://files.codingninjas.com/gen-assets/AP/9.png'}, {'name': 'Sabbir Hussain', 'image_url': 'https://files.codingninjas.com/gen-assets/SH/8.png'}], 'other_users_count': 1466, 'show_users_count': True}, 'seats_left': 8529, 'seats_filled': 1471, 'slug': 'what-does-it-take-to-become-a-google-software-engineer', 'orderable_key': 'EV-3550', 'has_started': True, 'highlight_event': True, 'card_tags': ['Placement', 'Web Development', 'Career Guidance', 'Interview Preparation'], 'mobile_cover_picture': 'https://files.codingninjas.in/430x160-2-32268.png', 'is_college_specific': False, 'event_category': 'WEBINAR', 'event_sub_category': 'All Time Favorites', 'user_ranking': None, 'high_priority': True}], 'page_count': 62}, 'message': 'Events List', 'status': 200, 'error': None, 'disabled': False, 'update': False, 'external_rating': None}\n",
      "Are you ready to embark on an exciting journey into the world of technology? Join us for our \"Crack the code to your dream internship\" webinar, where we will guide you through the steps to a successful and fulfilling tech career. This webinar is your roadmap to success.\r\n",
      " \r\n",
      "\r\n",
      "\r\n",
      "Speaker: Aditya Bindal, Google\r\n",
      " \r\n",
      " \r\n",
      "What to Expect:\r\n",
      "  \r\n",
      "Insider Insights: Hear from industry expert who will share the experiences and tips on navigating the tech landscape.\r\n",
      " \r\n",
      "Career Pathways: Discover various career options in technology, Real-world examples and Practical Insights\r\n",
      " \r\n",
      "Skill Development: Learn about the essential skills and tools you need to excel in the tech field. \r\n",
      " \r\n",
      "Q&A Session: Get answers to your burning questions from our expert.\r\n",
      "\r\n",
      "\r\n",
      "🎟️ Don't Forget to Register:\r\n",
      "Seats are limited, and this is your chance to kickstart or supercharge your career in the world of tech. Register now to secure your spot.\r\n",
      "\r\n",
      "\r\n",
      "This webinar will provide you with valuable insights and a clear roadmap to achieve your goals. Don't miss out on this opportunity to take the next step in your tech journey.\r\n",
      "\n"
     ]
    }
   ],
   "source": [
    "import json\n",
    "import requests\n",
    "\n",
    "response = requests.get('https://api.codingninjas.com/api/v3/events?event_category=ALL_EVENTS&event_sub_category=All%20Time%20Favorites&tag_list=&offset=0&_ga=2.198877805.350100406.1673765428-1348423423.1672116594')\n",
    "data = json.loads(response.text)\n",
    "\n",
    "events = data['data']['events']\n",
    "if len(events) == 0:\n",
    "    print(\"No Events!\")\n",
    "else:\n",
    "    print(events[0]['short_desc'])"
   ]
  },
  {
   "cell_type": "code",
   "execution_count": 104,
   "id": "086418f8",
   "metadata": {},
   "outputs": [
    {
     "name": "stdout",
     "output_type": "stream",
     "text": [
      "200\n",
      "https://api.openaq.org/v1/cities\n",
      "{'country': 'AE', 'city': 'Abu Al Abyad', 'count': 10900, 'locations': 1}\n",
      "{'country': 'AE', 'city': 'Abu Dhabi', 'count': 157582, 'locations': 9}\n",
      "{'country': 'AE', 'city': 'Al Ain', 'count': 67383, 'locations': 6}\n",
      "{'country': 'AE', 'city': 'Al Ruways Industrial City', 'count': 13944, 'locations': 1}\n"
     ]
    }
   ],
   "source": [
    "p3 = requests.get(\"https://api.openaq.org/v1/cities\")\n",
    "print(p3.status_code)\n",
    "print(p3.url)\n",
    "data = p3.json()\n",
    "for i in data['results']:\n",
    "    if i['country']==\"AE\":\n",
    "        print(i)"
   ]
  },
  {
   "cell_type": "code",
   "execution_count": 114,
   "id": "1fd79d19",
   "metadata": {},
   "outputs": [
    {
     "name": "stdout",
     "output_type": "stream",
     "text": [
      "200\n",
      "{'meta': {'name': 'openaq-api', 'license': '', 'website': '/', 'page': 1, 'limit': 10, 'found': 2445}, 'results': [{'country': 'JP', 'city': ' ', 'count': 14371653, 'locations': 1524}, {'country': 'US', 'city': '007', 'count': 19285, 'locations': 4}, {'country': 'US', 'city': '015', 'count': 1025, 'locations': 1}, {'country': 'US', 'city': '037', 'count': 12444, 'locations': 1}, {'country': 'US', 'city': '039', 'count': 4395, 'locations': 2}, {'country': 'US', 'city': '047', 'count': 19163, 'locations': 4}, {'country': 'US', 'city': '057', 'count': 1589, 'locations': 1}, {'country': 'US', 'city': '059', 'count': 1279, 'locations': 1}, {'country': 'US', 'city': '069', 'count': 562, 'locations': 1}, {'country': 'MX', 'city': 'Abasolo', 'count': 33071, 'locations': 1}]}\n",
      "https://api.openaq.org/v1/cities?limit=10\n"
     ]
    }
   ],
   "source": [
    "p4 = requests.get(\"https://api.openaq.org/v1/cities\",params={\"limit\":10})\n",
    "print(p4.status_code)\n",
    "print(p4.json())\n",
    "print(p4.url)"
   ]
  },
  {
   "cell_type": "code",
   "execution_count": 116,
   "id": "34ee2371",
   "metadata": {},
   "outputs": [
    {
     "name": "stdout",
     "output_type": "stream",
     "text": [
      "Machine Learning\n"
     ]
    }
   ],
   "source": [
    "import requests\n",
    "\n",
    "response =  requests.get('http://api.codingninjas.com/api/v3/courses')\n",
    "data = response.json()\n",
    "\n",
    "course = data['data']['courses']\n",
    "for i in course:\n",
    "    if i['id'] == 19:\n",
    "        print(i['title'])"
   ]
  },
  {
   "cell_type": "code",
   "execution_count": 130,
   "id": "7615dd65",
   "metadata": {},
   "outputs": [
    {
     "name": "stdout",
     "output_type": "stream",
     "text": [
      "2\n"
     ]
    }
   ],
   "source": [
    "import requests\n",
    "\n",
    "p5 = requests.get(\"https://api.openaq.org/v1/cities\")\n",
    "#print(p5.status_code)\n",
    "#print(p5.url)\n",
    "data = p5.json()\n",
    "city=0\n",
    "for i in data['results']:\n",
    "    if i['country']==\"AU\":\n",
    "        city+=1\n",
    "print(city)"
   ]
  },
  {
   "cell_type": "code",
   "execution_count": 132,
   "id": "b66d344a",
   "metadata": {},
   "outputs": [
    {
     "name": "stdout",
     "output_type": "stream",
     "text": [
      "Antwerpen\n"
     ]
    }
   ],
   "source": [
    "import requests\n",
    "\n",
    "p6 = requests.get(\"https://api.openaq.org/v1/cities\")\n",
    "#print(p6.status_code)\n",
    "#print(p6.url)\n",
    "data = p6.json()\n",
    "for i in data['results']:\n",
    "    if i['country']==\"BE\":\n",
    "        print(i[\"city\"])"
   ]
  },
  {
   "cell_type": "code",
   "execution_count": 140,
   "id": "979c908f",
   "metadata": {},
   "outputs": [
    {
     "name": "stdout",
     "output_type": "stream",
     "text": [
      "https://api.openweathermap.org/data/2.5/weather?appid=c05985478c7ba612a123f302d583e5ad\n"
     ]
    },
    {
     "ename": "KeyError",
     "evalue": "'woeid'",
     "output_type": "error",
     "traceback": [
      "\u001b[1;31m---------------------------------------------------------------------------\u001b[0m",
      "\u001b[1;31mKeyError\u001b[0m                                  Traceback (most recent call last)",
      "\u001b[1;32m~\\AppData\\Local\\Temp\\ipykernel_11736\\3832043903.py\u001b[0m in \u001b[0;36m<module>\u001b[1;34m\u001b[0m\n\u001b[0;32m      5\u001b[0m \u001b[0mpython_data\u001b[0m \u001b[1;33m=\u001b[0m \u001b[0mresponse\u001b[0m\u001b[1;33m.\u001b[0m\u001b[0mjson\u001b[0m\u001b[1;33m(\u001b[0m\u001b[1;33m)\u001b[0m\u001b[1;33m\u001b[0m\u001b[1;33m\u001b[0m\u001b[0m\n\u001b[0;32m      6\u001b[0m \u001b[0mprint\u001b[0m\u001b[1;33m(\u001b[0m\u001b[0mresponse\u001b[0m\u001b[1;33m.\u001b[0m\u001b[0murl\u001b[0m\u001b[1;33m)\u001b[0m\u001b[1;33m\u001b[0m\u001b[1;33m\u001b[0m\u001b[0m\n\u001b[1;32m----> 7\u001b[1;33m \u001b[0mprint\u001b[0m\u001b[1;33m(\u001b[0m\u001b[0mpython_data\u001b[0m\u001b[1;33m[\u001b[0m\u001b[1;34m'woeid'\u001b[0m\u001b[1;33m]\u001b[0m\u001b[1;33m)\u001b[0m\u001b[1;33m\u001b[0m\u001b[1;33m\u001b[0m\u001b[0m\n\u001b[0m",
      "\u001b[1;31mKeyError\u001b[0m: 'woeid'"
     ]
    }
   ],
   "source": [
    "import json\n",
    "import requests\n",
    "\n",
    "response = requests.get('https://api.openweathermap.org/data/2.5/weather',params={\"appid\":\"c05985478c7ba612a123f302d583e5ad\"})\n",
    "python_data = response.json()\n",
    "print(response.url)\n",
    "print(python_data['woeid'])"
   ]
  },
  {
   "cell_type": "code",
   "execution_count": 151,
   "id": "0a984d0f",
   "metadata": {},
   "outputs": [
    {
     "name": "stdout",
     "output_type": "stream",
     "text": [
      "https://holidayapi.com/v1/holidays?key=426ed515-205e-482e-8c46-b83edf932b09&country=IN&year=2022&month=10&day=2\n",
      "Mahatma Gandhi's Birthday\n"
     ]
    }
   ],
   "source": [
    "import requests\n",
    "import json\n",
    "holiday_api_key='426ed515-205e-482e-8c46-b83edf932b09'\n",
    "response = requests.get('https://holidayapi.com/v1/holidays',params = {\"key\":holiday_api_key,\"country\":\"IN\",\"year\":2022,\"month\":10,\"day\":2})\n",
    "print(response.url)\n",
    "python_data = response.json()\n",
    "python_data=python_data['holidays']\n",
    "print(python_data[0]['name'])"
   ]
  },
  {
   "cell_type": "code",
   "execution_count": 153,
   "id": "d0faf061",
   "metadata": {},
   "outputs": [
    {
     "name": "stdout",
     "output_type": "stream",
     "text": [
      "<Response [201]>\n",
      "{\n",
      "  \"id\": 101\n",
      "}\n"
     ]
    }
   ],
   "source": [
    "r=requests.post(\"https://jsonplaceholder.typicode.com/posts\")\n",
    "print(r)\n",
    "print(r.text)"
   ]
  },
  {
   "cell_type": "code",
   "execution_count": 154,
   "id": "0108e419",
   "metadata": {},
   "outputs": [
    {
     "name": "stdout",
     "output_type": "stream",
     "text": [
      "<Response [201]>\n",
      "{\n",
      "  \"userId\": \"1\",\n",
      "  \"id\": 101,\n",
      "  \"title\": \"dolorem eum magni eos aperiam quia\",\n",
      "  \"body\": \"ut aspernatur corporis harum nihil quis provident sequi\\nmollitia nobis aliquid molestiae\\nperspiciatis et ea nemo ab reprehenderit accusantium quas\\nvoluptate dolores velit et doloremque molestiae\"\n",
      "}\n"
     ]
    }
   ],
   "source": [
    "r=requests.post(\"https://jsonplaceholder.typicode.com/posts\",data={\n",
    "    \"userId\": 1,\n",
    "    \"id\": 6,\n",
    "    \"title\": \"dolorem eum magni eos aperiam quia\",\n",
    "    \"body\": \"ut aspernatur corporis harum nihil quis provident sequi\\nmollitia nobis aliquid molestiae\\nperspiciatis et ea nemo ab reprehenderit accusantium quas\\nvoluptate dolores velit et doloremque molestiae\"\n",
    "  })\n",
    "print(r)\n",
    "print(r.text)"
   ]
  },
  {
   "cell_type": "code",
   "execution_count": null,
   "id": "75ca275b",
   "metadata": {},
   "outputs": [],
   "source": []
  }
 ],
 "metadata": {
  "kernelspec": {
   "display_name": "Python 3 (ipykernel)",
   "language": "python",
   "name": "python3"
  },
  "language_info": {
   "codemirror_mode": {
    "name": "ipython",
    "version": 3
   },
   "file_extension": ".py",
   "mimetype": "text/x-python",
   "name": "python",
   "nbconvert_exporter": "python",
   "pygments_lexer": "ipython3",
   "version": "3.9.13"
  }
 },
 "nbformat": 4,
 "nbformat_minor": 5
}
