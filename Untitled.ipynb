{
 "cells": [
  {
   "cell_type": "code",
   "execution_count": 3,
   "id": "ddf66379",
   "metadata": {},
   "outputs": [
    {
     "name": "stdout",
     "output_type": "stream",
     "text": [
      "Hello World!\n"
     ]
    }
   ],
   "source": [
    "print(\"Hello World!\")"
   ]
  },
  {
   "cell_type": "code",
   "execution_count": 9,
   "id": "d5780ceb",
   "metadata": {},
   "outputs": [
    {
     "name": "stdout",
     "output_type": "stream",
     "text": [
      "5\n",
      "5 x 1 = 5\n",
      "5 x 2 = 10\n",
      "5 x 3 = 15\n",
      "5 x 4 = 20\n",
      "5 x 5 = 25\n",
      "5 x 6 = 30\n",
      "5 x 7 = 35\n",
      "5 x 8 = 40\n",
      "5 x 9 = 45\n",
      "5 x 10 = 50\n",
      "Done!\n"
     ]
    }
   ],
   "source": [
    "i = 1\n",
    "n = int(input())\n",
    "while i<=10 :\n",
    "    print(n , \"x\" , i , \"=\",n*i)\n",
    "    i+=1\n",
    "print(\"Done!\")"
   ]
  },
  {
   "cell_type": "code",
   "execution_count": 18,
   "id": "6c1500b3",
   "metadata": {},
   "outputs": [
    {
     "name": "stdout",
     "output_type": "stream",
     "text": [
      "5\n",
      "1 \n",
      "2 3 \n",
      "3 4 5 \n",
      "4 5 6 7 \n",
      "5 6 7 8 9 \n"
     ]
    }
   ],
   "source": [
    "rows = int(input())\n",
    "num=1\n",
    "for i in range(rows):\n",
    "    for j in range (i+1):\n",
    "        print(i+j+1 , end=\" \")\n",
    "        num+=1\n",
    "    print()"
   ]
  },
  {
   "cell_type": "code",
   "execution_count": 21,
   "id": "8aeaca7e",
   "metadata": {},
   "outputs": [
    {
     "name": "stdout",
     "output_type": "stream",
     "text": [
      "Enter how many numbers you would like to add: 5\n",
      "Enter Number: 2\n",
      "Enter Number: 3\n",
      "Enter Number: 4\n",
      "Enter Number: 5\n",
      "Enter Number: 7\n",
      "[2, 3, 4, 5, 7]\n",
      "21\n"
     ]
    }
   ],
   "source": [
    "n = int(input(\"Enter how many numbers you would like to add: \"))\n",
    "l=[]\n",
    "for i in range(n):\n",
    "    num=int(input(\"Enter Number: \"))\n",
    "    l.append(num)\n",
    "print(l)\n",
    "sum1 = 0\n",
    "for i in l:\n",
    "    if i < 0:\n",
    "        break\n",
    "    else:\n",
    "        sum1+=i\n",
    "print(sum1)"
   ]
  },
  {
   "cell_type": "code",
   "execution_count": null,
   "id": "779a1855",
   "metadata": {},
   "outputs": [],
   "source": [
    "Description: A website which manage hostel activities efficiently and ensure hassle free allocation of rooms.\n",
    "\n",
    "Technology: Python, HTML, CSS, Javascript, Django\n",
    "\n",
    "Team Project: 4 Members\n",
    "\n",
    "Role: database management using python and SQL"
   ]
  }
 ],
 "metadata": {
  "kernelspec": {
   "display_name": "Python 3 (ipykernel)",
   "language": "python",
   "name": "python3"
  },
  "language_info": {
   "codemirror_mode": {
    "name": "ipython",
    "version": 3
   },
   "file_extension": ".py",
   "mimetype": "text/x-python",
   "name": "python",
   "nbconvert_exporter": "python",
   "pygments_lexer": "ipython3",
   "version": "3.9.13"
  }
 },
 "nbformat": 4,
 "nbformat_minor": 5
}
